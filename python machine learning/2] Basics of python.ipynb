{
 "cells": [
  {
   "cell_type": "code",
   "execution_count": 1,
   "id": "bdf9236f",
   "metadata": {},
   "outputs": [
    {
     "data": {
      "text/plain": [
       "10"
      ]
     },
     "execution_count": 1,
     "metadata": {},
     "output_type": "execute_result"
    }
   ],
   "source": [
    "10"
   ]
  },
  {
   "cell_type": "code",
   "execution_count": 2,
   "id": "86e8c3ee",
   "metadata": {},
   "outputs": [
    {
     "data": {
      "text/plain": [
       "2204778130000"
      ]
     },
     "execution_count": 2,
     "metadata": {},
     "output_type": "execute_result"
    }
   ],
   "source": [
    "id(10)"
   ]
  },
  {
   "cell_type": "markdown",
   "id": "f784ac88",
   "metadata": {},
   "source": [
    "id is a inbuild function in python when an object is created python assigns an unique id to it these unique objects can be accessed by using id ()"
   ]
  },
  {
   "cell_type": "code",
   "execution_count": 3,
   "id": "75371eec",
   "metadata": {},
   "outputs": [
    {
     "data": {
      "text/plain": [
       "2204857709520"
      ]
     },
     "execution_count": 3,
     "metadata": {},
     "output_type": "execute_result"
    }
   ],
   "source": [
    "id(5.6) "
   ]
  },
  {
   "cell_type": "code",
   "execution_count": 4,
   "id": "848ca4a2",
   "metadata": {},
   "outputs": [
    {
     "data": {
      "text/plain": [
       "int"
      ]
     },
     "execution_count": 4,
     "metadata": {},
     "output_type": "execute_result"
    }
   ],
   "source": [
    "type(10)"
   ]
  },
  {
   "cell_type": "code",
   "execution_count": 5,
   "id": "ca043f1f",
   "metadata": {},
   "outputs": [
    {
     "name": "stdout",
     "output_type": "stream",
     "text": [
      "<class 'int'>\n"
     ]
    }
   ],
   "source": [
    "print(type(10))"
   ]
  },
  {
   "cell_type": "code",
   "execution_count": 6,
   "id": "59e8ece9",
   "metadata": {},
   "outputs": [
    {
     "data": {
      "text/plain": [
       "float"
      ]
     },
     "execution_count": 6,
     "metadata": {},
     "output_type": "execute_result"
    }
   ],
   "source": [
    "type(5.6)"
   ]
  },
  {
   "cell_type": "code",
   "execution_count": 7,
   "id": "bee2da87",
   "metadata": {},
   "outputs": [],
   "source": [
    "a=10"
   ]
  },
  {
   "cell_type": "code",
   "execution_count": 8,
   "id": "d1a47f69",
   "metadata": {},
   "outputs": [
    {
     "data": {
      "text/plain": [
       "2204778130000"
      ]
     },
     "execution_count": 8,
     "metadata": {},
     "output_type": "execute_result"
    }
   ],
   "source": [
    "id(a)"
   ]
  },
  {
   "cell_type": "code",
   "execution_count": 9,
   "id": "5b946cd0",
   "metadata": {},
   "outputs": [],
   "source": [
    "b=20"
   ]
  },
  {
   "cell_type": "code",
   "execution_count": 10,
   "id": "7ce9dfc4",
   "metadata": {},
   "outputs": [
    {
     "data": {
      "text/plain": [
       "2204778130320"
      ]
     },
     "execution_count": 10,
     "metadata": {},
     "output_type": "execute_result"
    }
   ],
   "source": [
    "id(b)"
   ]
  },
  {
   "cell_type": "code",
   "execution_count": 11,
   "id": "41461691",
   "metadata": {},
   "outputs": [],
   "source": [
    "x=100"
   ]
  },
  {
   "cell_type": "code",
   "execution_count": 12,
   "id": "c2554a91",
   "metadata": {},
   "outputs": [
    {
     "data": {
      "text/plain": [
       "2204778321360"
      ]
     },
     "execution_count": 12,
     "metadata": {},
     "output_type": "execute_result"
    }
   ],
   "source": [
    "id(x)"
   ]
  },
  {
   "cell_type": "code",
   "execution_count": 13,
   "id": "4c105a93",
   "metadata": {},
   "outputs": [],
   "source": [
    "y=100"
   ]
  },
  {
   "cell_type": "code",
   "execution_count": 14,
   "id": "54971f03",
   "metadata": {},
   "outputs": [
    {
     "data": {
      "text/plain": [
       "2204778321360"
      ]
     },
     "execution_count": 14,
     "metadata": {},
     "output_type": "execute_result"
    }
   ],
   "source": [
    "id(y)"
   ]
  },
  {
   "cell_type": "markdown",
   "id": "3196f704",
   "metadata": {},
   "source": [
    "id value is same in the range of -5 to +256¶"
   ]
  },
  {
   "cell_type": "markdown",
   "id": "86a2e5fc",
   "metadata": {},
   "source": [
    "can perform all mathematical operations(addition ,subtraction,multiplication,division)"
   ]
  },
  {
   "cell_type": "code",
   "execution_count": 15,
   "id": "fad0300e",
   "metadata": {},
   "outputs": [
    {
     "data": {
      "text/plain": [
       "3"
      ]
     },
     "execution_count": 15,
     "metadata": {},
     "output_type": "execute_result"
    }
   ],
   "source": [
    "11//3"
   ]
  },
  {
   "cell_type": "code",
   "execution_count": 16,
   "id": "862caef4",
   "metadata": {},
   "outputs": [
    {
     "data": {
      "text/plain": [
       "3"
      ]
     },
     "execution_count": 16,
     "metadata": {},
     "output_type": "execute_result"
    }
   ],
   "source": [
    "7%4"
   ]
  },
  {
   "cell_type": "markdown",
   "id": "71aa55df",
   "metadata": {},
   "source": [
    "if we use floor division in python it will remove float values"
   ]
  },
  {
   "cell_type": "code",
   "execution_count": 17,
   "id": "6e987a9d",
   "metadata": {},
   "outputs": [
    {
     "data": {
      "text/plain": [
       "25"
      ]
     },
     "execution_count": 17,
     "metadata": {},
     "output_type": "execute_result"
    }
   ],
   "source": [
    "5**2"
   ]
  },
  {
   "cell_type": "code",
   "execution_count": 18,
   "id": "b51fd6be",
   "metadata": {},
   "outputs": [
    {
     "data": {
      "text/plain": [
       "125"
      ]
     },
     "execution_count": 18,
     "metadata": {},
     "output_type": "execute_result"
    }
   ],
   "source": [
    "5**3"
   ]
  },
  {
   "cell_type": "code",
   "execution_count": 19,
   "id": "1929247f",
   "metadata": {},
   "outputs": [
    {
     "data": {
      "text/plain": [
       "5.0"
      ]
     },
     "execution_count": 19,
     "metadata": {},
     "output_type": "execute_result"
    }
   ],
   "source": [
    "25**0.5"
   ]
  },
  {
   "cell_type": "code",
   "execution_count": 20,
   "id": "6a708a30",
   "metadata": {},
   "outputs": [],
   "source": [
    "a=10"
   ]
  },
  {
   "cell_type": "code",
   "execution_count": 21,
   "id": "d7485d90",
   "metadata": {},
   "outputs": [],
   "source": [
    "a=6.5"
   ]
  },
  {
   "cell_type": "markdown",
   "id": "7baa91fa",
   "metadata": {},
   "source": [
    "dynamic typing:can reallocate diff types of value to a same variable,dynamic typing works only in python"
   ]
  },
  {
   "cell_type": "code",
   "execution_count": null,
   "id": "8fe4b918",
   "metadata": {},
   "outputs": [],
   "source": []
  }
 ],
 "metadata": {
  "kernelspec": {
   "display_name": "Python 3 (ipykernel)",
   "language": "python",
   "name": "python3"
  },
  "language_info": {
   "codemirror_mode": {
    "name": "ipython",
    "version": 3
   },
   "file_extension": ".py",
   "mimetype": "text/x-python",
   "name": "python",
   "nbconvert_exporter": "python",
   "pygments_lexer": "ipython3",
   "version": "3.9.13"
  }
 },
 "nbformat": 4,
 "nbformat_minor": 5
}
