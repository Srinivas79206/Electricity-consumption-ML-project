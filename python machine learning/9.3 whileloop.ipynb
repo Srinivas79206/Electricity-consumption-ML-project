{
 "cells": [
  {
   "cell_type": "code",
   "execution_count": 1,
   "id": "f75e50d7",
   "metadata": {},
   "outputs": [],
   "source": [
    "count=0"
   ]
  },
  {
   "cell_type": "code",
   "execution_count": 2,
   "id": "e1d45738",
   "metadata": {},
   "outputs": [
    {
     "name": "stdout",
     "output_type": "stream",
     "text": [
      "hi\n",
      "hi\n",
      "hi\n",
      "hi\n",
      "hi\n",
      "hi\n",
      "hi\n",
      "hi\n",
      "hi\n",
      "hi\n",
      "hi\n",
      "hello\n"
     ]
    }
   ],
   "source": [
    "while True:\n",
    "    print('hi')\n",
    "    if count==10:\n",
    "        print('hello')\n",
    "        break\n",
    "    count +=1"
   ]
  },
  {
   "cell_type": "code",
   "execution_count": 3,
   "id": "c292c9a3",
   "metadata": {},
   "outputs": [
    {
     "name": "stdout",
     "output_type": "stream",
     "text": [
      "5050\n"
     ]
    }
   ],
   "source": [
    "i=0\n",
    "total=0\n",
    "while i <=100:\n",
    "    total=total+i\n",
    "    i=i+1\n",
    "print(total)"
   ]
  },
  {
   "cell_type": "code",
   "execution_count": 4,
   "id": "ee52d49a",
   "metadata": {},
   "outputs": [
    {
     "name": "stdout",
     "output_type": "stream",
     "text": [
      "2550 2601\n"
     ]
    }
   ],
   "source": [
    "i=0\n",
    "etotal=0\n",
    "ototal=0\n",
    "while i <=101:\n",
    "    if i%2==0:\n",
    "        etotal=etotal+i\n",
    "    else:\n",
    "        ototal=ototal+i\n",
    "    i=i+1\n",
    "print(etotal,ototal)\n",
    "        "
   ]
  },
  {
   "cell_type": "code",
   "execution_count": 13,
   "id": "7821a71f",
   "metadata": {},
   "outputs": [
    {
     "name": "stdout",
     "output_type": "stream",
     "text": [
      "2\n",
      "4\n",
      "6\n",
      "8\n",
      "10\n"
     ]
    }
   ],
   "source": [
    "i=1\n",
    "while i<=10:\n",
    "    if i%2==0:\n",
    "        print(i)\n",
    "    i=i+1\n",
    "    \n",
    "    "
   ]
  },
  {
   "cell_type": "code",
   "execution_count": 2,
   "id": "fb0d6b6c",
   "metadata": {},
   "outputs": [
    {
     "name": "stdout",
     "output_type": "stream",
     "text": [
      "0 its even\n",
      "1 its odd\n",
      "2 its even\n",
      "3 its odd\n",
      "4 its even\n",
      "5 its odd\n",
      "6 its even\n",
      "7 its odd\n",
      "8 its even\n",
      "9 its odd\n",
      "10 its even\n",
      "11 its odd\n",
      "12 its even\n",
      "13 its odd\n",
      "14 its even\n",
      "15 its odd\n",
      "16 its even\n",
      "17 its odd\n",
      "18 its even\n",
      "19 its odd\n",
      "20 its even\n",
      "21 its odd\n",
      "22 its even\n",
      "23 its odd\n",
      "24 its even\n",
      "25 its odd\n",
      "26 its even\n",
      "27 its odd\n",
      "28 its even\n",
      "29 its odd\n",
      "30 its even\n",
      "31 its odd\n",
      "32 its even\n",
      "33 its odd\n",
      "34 its even\n",
      "35 its odd\n",
      "36 its even\n",
      "37 its odd\n",
      "38 its even\n",
      "39 its odd\n",
      "40 its even\n",
      "41 its odd\n",
      "42 its even\n",
      "43 its odd\n",
      "44 its even\n",
      "45 its odd\n",
      "46 its even\n",
      "47 its odd\n",
      "48 its even\n",
      "49 its odd\n",
      "50 its even\n",
      "51 its odd\n",
      "52 its even\n",
      "53 its odd\n",
      "54 its even\n",
      "55 its odd\n",
      "56 its even\n",
      "57 its odd\n",
      "58 its even\n",
      "59 its odd\n",
      "60 its even\n",
      "61 its odd\n",
      "62 its even\n",
      "63 its odd\n",
      "64 its even\n",
      "65 its odd\n",
      "66 its even\n",
      "67 its odd\n",
      "68 its even\n",
      "69 its odd\n",
      "70 its even\n",
      "71 its odd\n",
      "72 its even\n",
      "73 its odd\n",
      "74 its even\n",
      "75 its odd\n",
      "76 its even\n",
      "77 its odd\n",
      "78 its even\n",
      "79 its odd\n",
      "80 its even\n",
      "81 its odd\n",
      "82 its even\n",
      "83 its odd\n",
      "84 its even\n",
      "85 its odd\n",
      "86 its even\n",
      "87 its odd\n",
      "88 its even\n",
      "89 its odd\n",
      "90 its even\n",
      "91 its odd\n",
      "92 its even\n",
      "93 its odd\n",
      "94 its even\n",
      "95 its odd\n",
      "96 its even\n",
      "97 its odd\n",
      "98 its even\n",
      "99 its odd\n",
      "100 its even\n",
      "101 its odd\n"
     ]
    }
   ],
   "source": [
    "i=0\n",
    "\n",
    "while i <=101:\n",
    "    if i%2==0:\n",
    "        print(i,'its even')\n",
    "    else:\n",
    "        print(i,'its odd')\n",
    "    i=i+1\n",
    "\n",
    "        "
   ]
  },
  {
   "cell_type": "code",
   "execution_count": null,
   "id": "6daa5172",
   "metadata": {},
   "outputs": [],
   "source": []
  }
 ],
 "metadata": {
  "kernelspec": {
   "display_name": "Python 3 (ipykernel)",
   "language": "python",
   "name": "python3"
  },
  "language_info": {
   "codemirror_mode": {
    "name": "ipython",
    "version": 3
   },
   "file_extension": ".py",
   "mimetype": "text/x-python",
   "name": "python",
   "nbconvert_exporter": "python",
   "pygments_lexer": "ipython3",
   "version": "3.9.13"
  }
 },
 "nbformat": 4,
 "nbformat_minor": 5
}
