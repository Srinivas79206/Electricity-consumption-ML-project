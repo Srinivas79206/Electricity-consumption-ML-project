{
 "cells": [
  {
   "cell_type": "code",
   "execution_count": 1,
   "id": "efb72e32",
   "metadata": {},
   "outputs": [],
   "source": [
    "a=10"
   ]
  },
  {
   "cell_type": "code",
   "execution_count": 2,
   "id": "33905bf2",
   "metadata": {},
   "outputs": [],
   "source": [
    "b=20"
   ]
  },
  {
   "cell_type": "code",
   "execution_count": 3,
   "id": "5413cab1",
   "metadata": {},
   "outputs": [
    {
     "data": {
      "text/plain": [
       "30"
      ]
     },
     "execution_count": 3,
     "metadata": {},
     "output_type": "execute_result"
    }
   ],
   "source": [
    "a+b"
   ]
  },
  {
   "cell_type": "code",
   "execution_count": 4,
   "id": "7c0eaa2f",
   "metadata": {},
   "outputs": [],
   "source": [
    "def add():\n",
    "    print(a+b)"
   ]
  },
  {
   "cell_type": "code",
   "execution_count": 5,
   "id": "dbeb4bd9",
   "metadata": {},
   "outputs": [
    {
     "name": "stdout",
     "output_type": "stream",
     "text": [
      "30\n"
     ]
    }
   ],
   "source": [
    "add()"
   ]
  },
  {
   "cell_type": "markdown",
   "id": "c694d8f3",
   "metadata": {},
   "source": [
    "### def means define"
   ]
  },
  {
   "cell_type": "code",
   "execution_count": 6,
   "id": "9edca0ca",
   "metadata": {},
   "outputs": [
    {
     "name": "stdout",
     "output_type": "stream",
     "text": [
      "30\n"
     ]
    }
   ],
   "source": [
    "add()"
   ]
  },
  {
   "cell_type": "code",
   "execution_count": 7,
   "id": "738a0f60",
   "metadata": {},
   "outputs": [],
   "source": [
    "a=7"
   ]
  },
  {
   "cell_type": "code",
   "execution_count": 8,
   "id": "5a2bd01e",
   "metadata": {},
   "outputs": [
    {
     "name": "stdout",
     "output_type": "stream",
     "text": [
      "27\n"
     ]
    }
   ],
   "source": [
    "add()"
   ]
  },
  {
   "cell_type": "code",
   "execution_count": 9,
   "id": "457531f4",
   "metadata": {},
   "outputs": [],
   "source": [
    "def sub():\n",
    "    a=25\n",
    "    b=16\n",
    "    print(a-b)"
   ]
  },
  {
   "cell_type": "code",
   "execution_count": 10,
   "id": "2d2a6c91",
   "metadata": {},
   "outputs": [
    {
     "name": "stdout",
     "output_type": "stream",
     "text": [
      "9\n"
     ]
    }
   ],
   "source": [
    "sub()"
   ]
  },
  {
   "cell_type": "code",
   "execution_count": 11,
   "id": "af791596",
   "metadata": {},
   "outputs": [
    {
     "name": "stdout",
     "output_type": "stream",
     "text": [
      "7\n"
     ]
    }
   ],
   "source": [
    "print(a)"
   ]
  },
  {
   "cell_type": "markdown",
   "id": "b47142b7",
   "metadata": {},
   "source": [
    "## a=25,b=16 are called local variable"
   ]
  },
  {
   "cell_type": "code",
   "execution_count": 6,
   "id": "52cb7370",
   "metadata": {},
   "outputs": [],
   "source": [
    "def add(a,b):\n",
    "    a=10\n",
    "    b=20\n",
    "    print(a+b)\n",
    "    print(a,b)"
   ]
  },
  {
   "cell_type": "code",
   "execution_count": 7,
   "id": "72e63508",
   "metadata": {},
   "outputs": [
    {
     "name": "stdout",
     "output_type": "stream",
     "text": [
      "30\n",
      "10 20\n"
     ]
    }
   ],
   "source": [
    "add(3,4)"
   ]
  },
  {
   "cell_type": "code",
   "execution_count": 12,
   "id": "fb1b4ff3",
   "metadata": {},
   "outputs": [],
   "source": [
    "def mul(a,b):\n",
    "    print(a*b)"
   ]
  },
  {
   "cell_type": "code",
   "execution_count": 13,
   "id": "39ed6bbb",
   "metadata": {},
   "outputs": [
    {
     "name": "stdout",
     "output_type": "stream",
     "text": [
      "28\n"
     ]
    }
   ],
   "source": [
    "mul(4,7)"
   ]
  },
  {
   "cell_type": "code",
   "execution_count": 14,
   "id": "1a1e147f",
   "metadata": {},
   "outputs": [
    {
     "name": "stdout",
     "output_type": "stream",
     "text": [
      "24\n"
     ]
    }
   ],
   "source": [
    "mul(3,8)"
   ]
  },
  {
   "cell_type": "code",
   "execution_count": 4,
   "id": "4351b2b8",
   "metadata": {},
   "outputs": [],
   "source": [
    "a=49"
   ]
  },
  {
   "cell_type": "code",
   "execution_count": 5,
   "id": "aa48eb97",
   "metadata": {},
   "outputs": [],
   "source": [
    "b=7"
   ]
  },
  {
   "cell_type": "code",
   "execution_count": 6,
   "id": "a63ddc53",
   "metadata": {},
   "outputs": [],
   "source": [
    "def div ():\n",
    "    print(a/b)"
   ]
  },
  {
   "cell_type": "code",
   "execution_count": 7,
   "id": "85e215b2",
   "metadata": {},
   "outputs": [
    {
     "name": "stdout",
     "output_type": "stream",
     "text": [
      "7.0\n"
     ]
    }
   ],
   "source": [
    "div()"
   ]
  },
  {
   "cell_type": "code",
   "execution_count": 24,
   "id": "dee9720e",
   "metadata": {},
   "outputs": [],
   "source": [
    "def div (a,b):\n",
    "    print(a/b)\n",
    "    "
   ]
  },
  {
   "cell_type": "code",
   "execution_count": 27,
   "id": "662c6bc4",
   "metadata": {},
   "outputs": [
    {
     "name": "stdout",
     "output_type": "stream",
     "text": [
      "7.0\n"
     ]
    }
   ],
   "source": [
    "div(49,7)"
   ]
  },
  {
   "cell_type": "code",
   "execution_count": 28,
   "id": "52e0d055",
   "metadata": {},
   "outputs": [],
   "source": [
    "def floordiv (a,b):\n",
    "    print(a//b)"
   ]
  },
  {
   "cell_type": "code",
   "execution_count": 29,
   "id": "9ac33088",
   "metadata": {},
   "outputs": [
    {
     "name": "stdout",
     "output_type": "stream",
     "text": [
      "7\n"
     ]
    }
   ],
   "source": [
    "floordiv(a,b)"
   ]
  },
  {
   "cell_type": "code",
   "execution_count": 37,
   "id": "089807e6",
   "metadata": {},
   "outputs": [],
   "source": [
    "a=35"
   ]
  },
  {
   "cell_type": "code",
   "execution_count": 38,
   "id": "591e7a61",
   "metadata": {},
   "outputs": [],
   "source": [
    "b=6"
   ]
  },
  {
   "cell_type": "code",
   "execution_count": 39,
   "id": "4c051c7b",
   "metadata": {},
   "outputs": [
    {
     "name": "stdout",
     "output_type": "stream",
     "text": [
      "5\n"
     ]
    }
   ],
   "source": [
    "floordiv(a,b)"
   ]
  },
  {
   "cell_type": "code",
   "execution_count": 8,
   "id": "2f8276ca",
   "metadata": {},
   "outputs": [],
   "source": [
    "a=15"
   ]
  },
  {
   "cell_type": "code",
   "execution_count": 9,
   "id": "aa9a77f6",
   "metadata": {},
   "outputs": [],
   "source": [
    "b=2"
   ]
  },
  {
   "cell_type": "code",
   "execution_count": 10,
   "id": "b80ce116",
   "metadata": {},
   "outputs": [],
   "source": [
    "def mod():\n",
    "    print(a%b)"
   ]
  },
  {
   "cell_type": "code",
   "execution_count": 11,
   "id": "ed56892d",
   "metadata": {},
   "outputs": [
    {
     "name": "stdout",
     "output_type": "stream",
     "text": [
      "1\n"
     ]
    }
   ],
   "source": [
    "mod()"
   ]
  },
  {
   "cell_type": "code",
   "execution_count": 46,
   "id": "98ac2516",
   "metadata": {},
   "outputs": [],
   "source": [
    "def mod(a,b):\n",
    "    print(a%b)"
   ]
  },
  {
   "cell_type": "code",
   "execution_count": 47,
   "id": "90b74a23",
   "metadata": {},
   "outputs": [
    {
     "name": "stdout",
     "output_type": "stream",
     "text": [
      "1\n"
     ]
    }
   ],
   "source": [
    "mod(a,b)"
   ]
  },
  {
   "cell_type": "code",
   "execution_count": 48,
   "id": "eb2b8e52",
   "metadata": {},
   "outputs": [],
   "source": [
    "def squaring(a,b):\n",
    "    print(a**b)"
   ]
  },
  {
   "cell_type": "code",
   "execution_count": 50,
   "id": "e38a4858",
   "metadata": {},
   "outputs": [
    {
     "name": "stdout",
     "output_type": "stream",
     "text": [
      "225\n"
     ]
    }
   ],
   "source": [
    " squaring(a,b)"
   ]
  },
  {
   "cell_type": "code",
   "execution_count": 51,
   "id": "b0dee803",
   "metadata": {},
   "outputs": [],
   "source": [
    "a=15"
   ]
  },
  {
   "cell_type": "code",
   "execution_count": 52,
   "id": "5363fc6b",
   "metadata": {},
   "outputs": [],
   "source": [
    "b=3"
   ]
  },
  {
   "cell_type": "code",
   "execution_count": 53,
   "id": "88f9d737",
   "metadata": {},
   "outputs": [],
   "source": [
    "def cube(a,b):\n",
    "    print(a**b)"
   ]
  },
  {
   "cell_type": "code",
   "execution_count": 54,
   "id": "7a1be157",
   "metadata": {},
   "outputs": [
    {
     "name": "stdout",
     "output_type": "stream",
     "text": [
      "3375\n"
     ]
    }
   ],
   "source": [
    "cube(a,b)"
   ]
  },
  {
   "cell_type": "code",
   "execution_count": 71,
   "id": "53b859d6",
   "metadata": {},
   "outputs": [],
   "source": [
    "a=100"
   ]
  },
  {
   "cell_type": "code",
   "execution_count": 72,
   "id": "f61b81ff",
   "metadata": {},
   "outputs": [],
   "source": [
    "b=0.5"
   ]
  },
  {
   "cell_type": "code",
   "execution_count": 73,
   "id": "9e9ee040",
   "metadata": {},
   "outputs": [],
   "source": [
    "def squareroot ():\n",
    "    print(a**b)"
   ]
  },
  {
   "cell_type": "code",
   "execution_count": 74,
   "id": "ba140ae3",
   "metadata": {},
   "outputs": [
    {
     "name": "stdout",
     "output_type": "stream",
     "text": [
      "10.0\n"
     ]
    }
   ],
   "source": [
    "squareroot()"
   ]
  }
 ],
 "metadata": {
  "kernelspec": {
   "display_name": "Python 3 (ipykernel)",
   "language": "python",
   "name": "python3"
  },
  "language_info": {
   "codemirror_mode": {
    "name": "ipython",
    "version": 3
   },
   "file_extension": ".py",
   "mimetype": "text/x-python",
   "name": "python",
   "nbconvert_exporter": "python",
   "pygments_lexer": "ipython3",
   "version": "3.9.13"
  }
 },
 "nbformat": 4,
 "nbformat_minor": 5
}
