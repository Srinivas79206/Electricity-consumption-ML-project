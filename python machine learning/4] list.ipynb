{
 "cells": [
  {
   "cell_type": "code",
   "execution_count": 42,
   "id": "463211a5",
   "metadata": {},
   "outputs": [],
   "source": [
    "l=[2,5,6]"
   ]
  },
  {
   "cell_type": "code",
   "execution_count": 43,
   "id": "9b469ce0",
   "metadata": {},
   "outputs": [
    {
     "name": "stdout",
     "output_type": "stream",
     "text": [
      "[2, 5, 6]\n"
     ]
    }
   ],
   "source": [
    "print(l)"
   ]
  },
  {
   "cell_type": "code",
   "execution_count": 44,
   "id": "7b4ced16",
   "metadata": {},
   "outputs": [
    {
     "data": {
      "text/plain": [
       "2702231003520"
      ]
     },
     "execution_count": 44,
     "metadata": {},
     "output_type": "execute_result"
    }
   ],
   "source": [
    "id(l)"
   ]
  },
  {
   "cell_type": "code",
   "execution_count": 45,
   "id": "22c242e3",
   "metadata": {},
   "outputs": [
    {
     "data": {
      "text/plain": [
       "2"
      ]
     },
     "execution_count": 45,
     "metadata": {},
     "output_type": "execute_result"
    }
   ],
   "source": [
    "l[0]"
   ]
  },
  {
   "cell_type": "code",
   "execution_count": 46,
   "id": "3d2de995",
   "metadata": {},
   "outputs": [
    {
     "data": {
      "text/plain": [
       "6"
      ]
     },
     "execution_count": 46,
     "metadata": {},
     "output_type": "execute_result"
    }
   ],
   "source": [
    "l[-1]"
   ]
  },
  {
   "cell_type": "code",
   "execution_count": 47,
   "id": "7a70d1ce",
   "metadata": {},
   "outputs": [],
   "source": [
    "l=[14,5,6]"
   ]
  },
  {
   "cell_type": "code",
   "execution_count": 48,
   "id": "3672b2b8",
   "metadata": {},
   "outputs": [
    {
     "data": {
      "text/plain": [
       "14"
      ]
     },
     "execution_count": 48,
     "metadata": {},
     "output_type": "execute_result"
    }
   ],
   "source": [
    "l[0]"
   ]
  },
  {
   "cell_type": "markdown",
   "id": "7709dc69",
   "metadata": {},
   "source": [
    "# list is mutable and string is immutable"
   ]
  },
  {
   "cell_type": "code",
   "execution_count": 49,
   "id": "1e922258",
   "metadata": {},
   "outputs": [
    {
     "data": {
      "text/plain": [
       "[14, 5]"
      ]
     },
     "execution_count": 49,
     "metadata": {},
     "output_type": "execute_result"
    }
   ],
   "source": [
    "l[0:2]"
   ]
  },
  {
   "cell_type": "code",
   "execution_count": 50,
   "id": "8d4dd2f3",
   "metadata": {},
   "outputs": [
    {
     "data": {
      "text/plain": [
       "int"
      ]
     },
     "execution_count": 50,
     "metadata": {},
     "output_type": "execute_result"
    }
   ],
   "source": [
    "type(l[0])"
   ]
  },
  {
   "cell_type": "code",
   "execution_count": 51,
   "id": "527eebcd",
   "metadata": {},
   "outputs": [],
   "source": [
    "a=14"
   ]
  },
  {
   "cell_type": "code",
   "execution_count": 52,
   "id": "2f4888bd",
   "metadata": {},
   "outputs": [
    {
     "data": {
      "text/plain": [
       "2702146628304"
      ]
     },
     "execution_count": 52,
     "metadata": {},
     "output_type": "execute_result"
    }
   ],
   "source": [
    "id(a)"
   ]
  },
  {
   "cell_type": "code",
   "execution_count": 53,
   "id": "9e7f0efa",
   "metadata": {},
   "outputs": [
    {
     "data": {
      "text/plain": [
       "2702146628304"
      ]
     },
     "execution_count": 53,
     "metadata": {},
     "output_type": "execute_result"
    }
   ],
   "source": [
    "id(l[0]) "
   ]
  },
  {
   "cell_type": "code",
   "execution_count": 54,
   "id": "15302e41",
   "metadata": {},
   "outputs": [
    {
     "data": {
      "text/plain": [
       "3"
      ]
     },
     "execution_count": 54,
     "metadata": {},
     "output_type": "execute_result"
    }
   ],
   "source": [
    "len(l)"
   ]
  },
  {
   "cell_type": "code",
   "execution_count": 55,
   "id": "60c59d13",
   "metadata": {},
   "outputs": [],
   "source": [
    "l=[2,5.6,'hii',2]"
   ]
  },
  {
   "cell_type": "code",
   "execution_count": 56,
   "id": "a93c7c66",
   "metadata": {},
   "outputs": [],
   "source": [
    "l=list()"
   ]
  },
  {
   "cell_type": "code",
   "execution_count": 57,
   "id": "5d7348d2",
   "metadata": {},
   "outputs": [
    {
     "data": {
      "text/plain": [
       "list"
      ]
     },
     "execution_count": 57,
     "metadata": {},
     "output_type": "execute_result"
    }
   ],
   "source": [
    "type(l)"
   ]
  },
  {
   "cell_type": "code",
   "execution_count": 58,
   "id": "ead24f0f",
   "metadata": {},
   "outputs": [
    {
     "name": "stdout",
     "output_type": "stream",
     "text": [
      "<class 'list'>\n"
     ]
    }
   ],
   "source": [
    "print(type(l))"
   ]
  },
  {
   "cell_type": "code",
   "execution_count": 59,
   "id": "ec097bc7",
   "metadata": {},
   "outputs": [],
   "source": [
    "l=[3,5,'hi',5.2,True,[3,2,11,'a'],66]"
   ]
  },
  {
   "cell_type": "code",
   "execution_count": 60,
   "id": "514a0b28",
   "metadata": {},
   "outputs": [
    {
     "data": {
      "text/plain": [
       "list"
      ]
     },
     "execution_count": 60,
     "metadata": {},
     "output_type": "execute_result"
    }
   ],
   "source": [
    "type(l[5]) "
   ]
  },
  {
   "cell_type": "code",
   "execution_count": 61,
   "id": "5f5d3403",
   "metadata": {},
   "outputs": [
    {
     "data": {
      "text/plain": [
       "3"
      ]
     },
     "execution_count": 61,
     "metadata": {},
     "output_type": "execute_result"
    }
   ],
   "source": [
    "l[5][0]"
   ]
  },
  {
   "cell_type": "code",
   "execution_count": 62,
   "id": "eb76ea1c",
   "metadata": {},
   "outputs": [
    {
     "data": {
      "text/plain": [
       "[3, 2]"
      ]
     },
     "execution_count": 62,
     "metadata": {},
     "output_type": "execute_result"
    }
   ],
   "source": [
    "l[5][0:2]"
   ]
  },
  {
   "cell_type": "code",
   "execution_count": 63,
   "id": "f7940d94",
   "metadata": {},
   "outputs": [],
   "source": [
    "l[5][0]=99"
   ]
  },
  {
   "cell_type": "code",
   "execution_count": 64,
   "id": "60076586",
   "metadata": {},
   "outputs": [
    {
     "name": "stdout",
     "output_type": "stream",
     "text": [
      "[3, 5, 'hi', 5.2, True, [99, 2, 11, 'a'], 66]\n"
     ]
    }
   ],
   "source": [
    "print(l)"
   ]
  },
  {
   "cell_type": "code",
   "execution_count": 1,
   "id": "e0efc36e",
   "metadata": {},
   "outputs": [],
   "source": [
    "l=[3,2,11,6]"
   ]
  },
  {
   "cell_type": "code",
   "execution_count": 2,
   "id": "f7866f9a",
   "metadata": {},
   "outputs": [
    {
     "data": {
      "text/plain": [
       "[3, 2, 11, 6]"
      ]
     },
     "execution_count": 2,
     "metadata": {},
     "output_type": "execute_result"
    }
   ],
   "source": [
    "l"
   ]
  },
  {
   "cell_type": "code",
   "execution_count": 3,
   "id": "0ace55e8",
   "metadata": {},
   "outputs": [],
   "source": [
    "l.append(41)"
   ]
  },
  {
   "cell_type": "code",
   "execution_count": 67,
   "id": "5feab864",
   "metadata": {},
   "outputs": [
    {
     "name": "stdout",
     "output_type": "stream",
     "text": [
      "[3, 2, 11, 6, 41]\n"
     ]
    }
   ],
   "source": [
    "print(l)"
   ]
  },
  {
   "cell_type": "code",
   "execution_count": 4,
   "id": "24c700f0",
   "metadata": {},
   "outputs": [
    {
     "data": {
      "text/plain": [
       "[3, 2, 11, 6, 41]"
      ]
     },
     "execution_count": 4,
     "metadata": {},
     "output_type": "execute_result"
    }
   ],
   "source": [
    "l"
   ]
  },
  {
   "cell_type": "code",
   "execution_count": 68,
   "id": "2e26e5b8",
   "metadata": {},
   "outputs": [
    {
     "ename": "TypeError",
     "evalue": "list.append() takes exactly one argument (2 given)",
     "output_type": "error",
     "traceback": [
      "\u001b[1;31m---------------------------------------------------------------------------\u001b[0m",
      "\u001b[1;31mTypeError\u001b[0m                                 Traceback (most recent call last)",
      "\u001b[1;32m~\\AppData\\Local\\Temp\\ipykernel_13964\\2530117971.py\u001b[0m in \u001b[0;36m<module>\u001b[1;34m\u001b[0m\n\u001b[1;32m----> 1\u001b[1;33m \u001b[0ml\u001b[0m\u001b[1;33m.\u001b[0m\u001b[0mappend\u001b[0m\u001b[1;33m(\u001b[0m\u001b[1;36m2\u001b[0m\u001b[1;33m,\u001b[0m\u001b[1;36m3\u001b[0m\u001b[1;33m)\u001b[0m\u001b[1;33m\u001b[0m\u001b[1;33m\u001b[0m\u001b[0m\n\u001b[0m",
      "\u001b[1;31mTypeError\u001b[0m: list.append() takes exactly one argument (2 given)"
     ]
    }
   ],
   "source": [
    "l.append(2,3)"
   ]
  },
  {
   "cell_type": "code",
   "execution_count": 69,
   "id": "63dcd43b",
   "metadata": {},
   "outputs": [],
   "source": [
    "l.append('hi')"
   ]
  },
  {
   "cell_type": "code",
   "execution_count": 70,
   "id": "9f5da457",
   "metadata": {},
   "outputs": [
    {
     "name": "stdout",
     "output_type": "stream",
     "text": [
      "[3, 2, 11, 6, 41, 'hi']\n"
     ]
    }
   ],
   "source": [
    "print(l)"
   ]
  },
  {
   "cell_type": "code",
   "execution_count": 71,
   "id": "5b073746",
   "metadata": {},
   "outputs": [],
   "source": [
    "l.append([3,6,1])"
   ]
  },
  {
   "cell_type": "code",
   "execution_count": 72,
   "id": "ce55de23",
   "metadata": {},
   "outputs": [
    {
     "name": "stdout",
     "output_type": "stream",
     "text": [
      "[3, 2, 11, 6, 41, 'hi', [3, 6, 1]]\n"
     ]
    }
   ],
   "source": [
    "print(l)"
   ]
  },
  {
   "cell_type": "markdown",
   "id": "5d2c006c",
   "metadata": {},
   "source": [
    "# append adds argument at last,it takes only one argument(list is also treated as single argument)"
   ]
  },
  {
   "cell_type": "code",
   "execution_count": 73,
   "id": "557ac91b",
   "metadata": {},
   "outputs": [],
   "source": [
    "l1=l.copy()"
   ]
  },
  {
   "cell_type": "code",
   "execution_count": 74,
   "id": "19057a59",
   "metadata": {},
   "outputs": [
    {
     "name": "stdout",
     "output_type": "stream",
     "text": [
      "[3, 2, 11, 6, 41, 'hi', [3, 6, 1]]\n"
     ]
    }
   ],
   "source": [
    "print(l1)"
   ]
  },
  {
   "cell_type": "code",
   "execution_count": 75,
   "id": "94fefa91",
   "metadata": {},
   "outputs": [
    {
     "data": {
      "text/plain": [
       "2702231049536"
      ]
     },
     "execution_count": 75,
     "metadata": {},
     "output_type": "execute_result"
    }
   ],
   "source": [
    "id(l)"
   ]
  },
  {
   "cell_type": "code",
   "execution_count": 40,
   "id": "e5bc6e9a",
   "metadata": {},
   "outputs": [
    {
     "data": {
      "text/plain": [
       "1278652804736"
      ]
     },
     "execution_count": 40,
     "metadata": {},
     "output_type": "execute_result"
    }
   ],
   "source": [
    "id(l1)"
   ]
  },
  {
   "cell_type": "code",
   "execution_count": 41,
   "id": "d1fc2584",
   "metadata": {},
   "outputs": [],
   "source": [
    "l1[0]=15"
   ]
  },
  {
   "cell_type": "code",
   "execution_count": 42,
   "id": "6da9b8c4",
   "metadata": {},
   "outputs": [
    {
     "name": "stdout",
     "output_type": "stream",
     "text": [
      "[15, 2, 11, 6, 41, 'hi', [3, 6, 1]]\n"
     ]
    }
   ],
   "source": [
    "print(l1)"
   ]
  },
  {
   "cell_type": "markdown",
   "id": "87314907",
   "metadata": {},
   "source": [
    "# even if we copy l to l1 ,id of l and l1 will be diff"
   ]
  },
  {
   "cell_type": "code",
   "execution_count": 43,
   "id": "e3ef17f5",
   "metadata": {},
   "outputs": [],
   "source": [
    "l.append(11)"
   ]
  },
  {
   "cell_type": "code",
   "execution_count": 44,
   "id": "14402911",
   "metadata": {},
   "outputs": [
    {
     "name": "stdout",
     "output_type": "stream",
     "text": [
      "[3, 2, 11, 6, 41, 'hi', [3, 6, 1], 11]\n"
     ]
    }
   ],
   "source": [
    "print(l)"
   ]
  },
  {
   "cell_type": "code",
   "execution_count": 145,
   "id": "4125928a",
   "metadata": {},
   "outputs": [],
   "source": [
    "l.extend([3,1,12])"
   ]
  },
  {
   "cell_type": "code",
   "execution_count": 146,
   "id": "88e95c1b",
   "metadata": {},
   "outputs": [
    {
     "name": "stdout",
     "output_type": "stream",
     "text": [
      "[3, 2, 11, 6, 41, 'hi', [3, 6, 1], 11, 3, 1, 12]\n"
     ]
    }
   ],
   "source": [
    "print(l)"
   ]
  },
  {
   "cell_type": "code",
   "execution_count": 147,
   "id": "6685325c",
   "metadata": {},
   "outputs": [],
   "source": [
    "l.append([3,1,12])"
   ]
  },
  {
   "cell_type": "code",
   "execution_count": 148,
   "id": "885b8e91",
   "metadata": {},
   "outputs": [
    {
     "name": "stdout",
     "output_type": "stream",
     "text": [
      "[3, 2, 11, 6, 41, 'hi', [3, 6, 1], 11, 3, 1, 12, [3, 1, 12]]\n"
     ]
    }
   ],
   "source": [
    "print(l)"
   ]
  },
  {
   "cell_type": "code",
   "execution_count": 154,
   "id": "67a4c8f5",
   "metadata": {},
   "outputs": [
    {
     "ename": "TypeError",
     "evalue": "'int' object is not iterable",
     "output_type": "error",
     "traceback": [
      "\u001b[1;31m---------------------------------------------------------------------------\u001b[0m",
      "\u001b[1;31mTypeError\u001b[0m                                 Traceback (most recent call last)",
      "\u001b[1;32m~\\AppData\\Local\\Temp\\ipykernel_13924\\3787248964.py\u001b[0m in \u001b[0;36m<module>\u001b[1;34m\u001b[0m\n\u001b[1;32m----> 1\u001b[1;33m \u001b[0ml\u001b[0m\u001b[1;33m.\u001b[0m\u001b[0mextend\u001b[0m\u001b[1;33m(\u001b[0m\u001b[1;36m10\u001b[0m\u001b[1;33m)\u001b[0m\u001b[1;33m\u001b[0m\u001b[1;33m\u001b[0m\u001b[0m\n\u001b[0m",
      "\u001b[1;31mTypeError\u001b[0m: 'int' object is not iterable"
     ]
    }
   ],
   "source": [
    "l.extend(10)"
   ]
  },
  {
   "cell_type": "code",
   "execution_count": 155,
   "id": "023f3785",
   "metadata": {},
   "outputs": [],
   "source": [
    "l.extend('hello')"
   ]
  },
  {
   "cell_type": "code",
   "execution_count": 158,
   "id": "3e2dea03",
   "metadata": {},
   "outputs": [
    {
     "name": "stdout",
     "output_type": "stream",
     "text": [
      "[3, 2, 11, 6, 41, 'hi', [3, 6, 1], 11, 3, 1, 12, [3, 1, 12], 10, 10, 'h', 'e', 'l', 'l', 'o']\n"
     ]
    }
   ],
   "source": [
    "print(l)"
   ]
  },
  {
   "cell_type": "code",
   "execution_count": 162,
   "id": "75917c89",
   "metadata": {},
   "outputs": [],
   "source": [
    "l.append('hello')"
   ]
  },
  {
   "cell_type": "code",
   "execution_count": 163,
   "id": "9c6d3882",
   "metadata": {},
   "outputs": [
    {
     "name": "stdout",
     "output_type": "stream",
     "text": [
      "[3, 2, 11, 6, 41, 'hi', [3, 6, 1], 11, 3, 1, 12, [3, 1, 12], 10, 10, 'h', 'e', 'l', 'l', 'o', 'hello', 'hello']\n"
     ]
    }
   ],
   "source": [
    "print(l)"
   ]
  },
  {
   "cell_type": "markdown",
   "id": "6e44c126",
   "metadata": {},
   "source": [
    "# extend takes only iterable(string ,list etc) other than iterable is error(integer),append takes both(all),append gives whole whereas extend splits the object"
   ]
  },
  {
   "cell_type": "code",
   "execution_count": 174,
   "id": "adbffd36",
   "metadata": {},
   "outputs": [],
   "source": [
    "l.insert(2,20)"
   ]
  },
  {
   "cell_type": "code",
   "execution_count": 175,
   "id": "0f581796",
   "metadata": {},
   "outputs": [
    {
     "name": "stdout",
     "output_type": "stream",
     "text": [
      "[3, 2, 20, 11, 6, 41, 'hi', [3, 6, 1], 11, 3, 1, 12, [3, 1, 12], 10, 10, 'h', 'e', 'l', 'l', 'o', 'hello', 'hello']\n"
     ]
    }
   ],
   "source": [
    "print(l)"
   ]
  },
  {
   "cell_type": "code",
   "execution_count": 176,
   "id": "4a73eb4f",
   "metadata": {},
   "outputs": [
    {
     "data": {
      "text/plain": [
       "22"
      ]
     },
     "execution_count": 176,
     "metadata": {},
     "output_type": "execute_result"
    }
   ],
   "source": [
    "len(l)"
   ]
  },
  {
   "cell_type": "code",
   "execution_count": 177,
   "id": "6c1bdf3e",
   "metadata": {},
   "outputs": [],
   "source": [
    "l.insert(50,3)"
   ]
  },
  {
   "cell_type": "code",
   "execution_count": 178,
   "id": "f0d63751",
   "metadata": {},
   "outputs": [
    {
     "name": "stdout",
     "output_type": "stream",
     "text": [
      "[3, 2, 20, 11, 6, 41, 'hi', [3, 6, 1], 11, 3, 1, 12, [3, 1, 12], 10, 10, 'h', 'e', 'l', 'l', 'o', 'hello', 'hello', 3]\n"
     ]
    }
   ],
   "source": [
    "print(l)"
   ]
  },
  {
   "cell_type": "code",
   "execution_count": 180,
   "id": "92ca1ae7",
   "metadata": {},
   "outputs": [],
   "source": [
    "l.insert(3,[1,3])"
   ]
  },
  {
   "cell_type": "code",
   "execution_count": 181,
   "id": "3ac824c0",
   "metadata": {},
   "outputs": [
    {
     "name": "stdout",
     "output_type": "stream",
     "text": [
      "[3, 2, 20, [1, 3], 11, 6, 41, 'hi', [3, 6, 1], 11, 3, 1, 12, [3, 1, 12], 10, 10, 'h', 'e', 'l', 'l', 'o', 'hello', 'hello', 3]\n"
     ]
    }
   ],
   "source": [
    "print(l)"
   ]
  },
  {
   "cell_type": "markdown",
   "id": "ec8f2044",
   "metadata": {},
   "source": [
    "# insert will insert the object at last if the range is more than the  and it will take 2 argument"
   ]
  },
  {
   "cell_type": "code",
   "execution_count": 182,
   "id": "25190a8c",
   "metadata": {},
   "outputs": [
    {
     "data": {
      "text/plain": [
       "3"
      ]
     },
     "execution_count": 182,
     "metadata": {},
     "output_type": "execute_result"
    }
   ],
   "source": [
    "l.pop()"
   ]
  },
  {
   "cell_type": "code",
   "execution_count": 184,
   "id": "9b898c1e",
   "metadata": {},
   "outputs": [
    {
     "name": "stdout",
     "output_type": "stream",
     "text": [
      "[3, 2, 20, [1, 3], 11, 6, 41, 'hi', [3, 6, 1], 11, 3, 1, 12, [3, 1, 12], 10, 10, 'h', 'e', 'l', 'l', 'o', 'hello', 'hello']\n"
     ]
    }
   ],
   "source": [
    "print(l)"
   ]
  },
  {
   "cell_type": "code",
   "execution_count": 185,
   "id": "7959c37a",
   "metadata": {},
   "outputs": [
    {
     "data": {
      "text/plain": [
       "6"
      ]
     },
     "execution_count": 185,
     "metadata": {},
     "output_type": "execute_result"
    }
   ],
   "source": [
    "l.pop(5)"
   ]
  },
  {
   "cell_type": "code",
   "execution_count": 186,
   "id": "931f7e6b",
   "metadata": {},
   "outputs": [
    {
     "ename": "IndexError",
     "evalue": "pop index out of range",
     "output_type": "error",
     "traceback": [
      "\u001b[1;31m---------------------------------------------------------------------------\u001b[0m",
      "\u001b[1;31mIndexError\u001b[0m                                Traceback (most recent call last)",
      "\u001b[1;32m~\\AppData\\Local\\Temp\\ipykernel_13924\\2408204366.py\u001b[0m in \u001b[0;36m<module>\u001b[1;34m\u001b[0m\n\u001b[1;32m----> 1\u001b[1;33m \u001b[0ml\u001b[0m\u001b[1;33m.\u001b[0m\u001b[0mpop\u001b[0m\u001b[1;33m(\u001b[0m\u001b[1;36m50\u001b[0m\u001b[1;33m)\u001b[0m\u001b[1;33m\u001b[0m\u001b[1;33m\u001b[0m\u001b[0m\n\u001b[0m",
      "\u001b[1;31mIndexError\u001b[0m: pop index out of range"
     ]
    }
   ],
   "source": [
    "l.pop(50)"
   ]
  },
  {
   "cell_type": "markdown",
   "id": "6a78b18a",
   "metadata": {},
   "source": [
    "# pop remove last object,lf number given to pop,it will give at that position which object is present(out of range is error)"
   ]
  },
  {
   "cell_type": "code",
   "execution_count": 188,
   "id": "28dd9a96",
   "metadata": {},
   "outputs": [],
   "source": [
    "l.remove(11)"
   ]
  },
  {
   "cell_type": "code",
   "execution_count": 189,
   "id": "f3961d53",
   "metadata": {},
   "outputs": [
    {
     "name": "stdout",
     "output_type": "stream",
     "text": [
      "[3, 2, 20, [1, 3], 41, 'hi', [3, 6, 1], 11, 3, 1, 12, [3, 1, 12], 10, 10, 'h', 'e', 'l', 'l', 'o', 'hello', 'hello']\n"
     ]
    }
   ],
   "source": [
    "print(l)"
   ]
  },
  {
   "cell_type": "code",
   "execution_count": 190,
   "id": "3800bbb4",
   "metadata": {},
   "outputs": [
    {
     "ename": "ValueError",
     "evalue": "list.remove(x): x not in list",
     "output_type": "error",
     "traceback": [
      "\u001b[1;31m---------------------------------------------------------------------------\u001b[0m",
      "\u001b[1;31mValueError\u001b[0m                                Traceback (most recent call last)",
      "\u001b[1;32m~\\AppData\\Local\\Temp\\ipykernel_13924\\305376590.py\u001b[0m in \u001b[0;36m<module>\u001b[1;34m\u001b[0m\n\u001b[1;32m----> 1\u001b[1;33m \u001b[0ml\u001b[0m\u001b[1;33m.\u001b[0m\u001b[0mremove\u001b[0m\u001b[1;33m(\u001b[0m\u001b[1;36m110\u001b[0m\u001b[1;33m)\u001b[0m\u001b[1;33m\u001b[0m\u001b[1;33m\u001b[0m\u001b[0m\n\u001b[0m",
      "\u001b[1;31mValueError\u001b[0m: list.remove(x): x not in list"
     ]
    }
   ],
   "source": [
    "l.remove(110)"
   ]
  },
  {
   "cell_type": "markdown",
   "id": "fe5dd1c6",
   "metadata": {},
   "source": [
    "# remove will take off number only once(first coming )"
   ]
  },
  {
   "cell_type": "code",
   "execution_count": 192,
   "id": "135af590",
   "metadata": {},
   "outputs": [
    {
     "ename": "TypeError",
     "evalue": "list.reverse() takes no arguments (1 given)",
     "output_type": "error",
     "traceback": [
      "\u001b[1;31m---------------------------------------------------------------------------\u001b[0m",
      "\u001b[1;31mTypeError\u001b[0m                                 Traceback (most recent call last)",
      "\u001b[1;32m~\\AppData\\Local\\Temp\\ipykernel_13924\\89947673.py\u001b[0m in \u001b[0;36m<module>\u001b[1;34m\u001b[0m\n\u001b[1;32m----> 1\u001b[1;33m \u001b[0ml\u001b[0m\u001b[1;33m.\u001b[0m\u001b[0mreverse\u001b[0m\u001b[1;33m(\u001b[0m\u001b[0ml\u001b[0m\u001b[1;33m)\u001b[0m\u001b[1;33m\u001b[0m\u001b[1;33m\u001b[0m\u001b[0m\n\u001b[0m",
      "\u001b[1;31mTypeError\u001b[0m: list.reverse() takes no arguments (1 given)"
     ]
    }
   ],
   "source": [
    "l.reverse(l)"
   ]
  },
  {
   "cell_type": "code",
   "execution_count": 193,
   "id": "936e72ee",
   "metadata": {},
   "outputs": [],
   "source": [
    "l.reverse()"
   ]
  },
  {
   "cell_type": "code",
   "execution_count": 194,
   "id": "ad637546",
   "metadata": {},
   "outputs": [
    {
     "name": "stdout",
     "output_type": "stream",
     "text": [
      "['hello', 'hello', 'o', 'l', 'l', 'e', 'h', 10, 10, [3, 1, 12], 12, 1, 3, 11, [3, 6, 1], 'hi', 41, [1, 3], 20, 2, 3]\n"
     ]
    }
   ],
   "source": [
    "print(l)"
   ]
  },
  {
   "cell_type": "code",
   "execution_count": 195,
   "id": "97bb0e3f",
   "metadata": {},
   "outputs": [
    {
     "data": {
      "text/plain": [
       "[3,\n",
       " 2,\n",
       " 20,\n",
       " [1, 3],\n",
       " 41,\n",
       " 'hi',\n",
       " [3, 6, 1],\n",
       " 11,\n",
       " 3,\n",
       " 1,\n",
       " 12,\n",
       " [3, 1, 12],\n",
       " 10,\n",
       " 10,\n",
       " 'h',\n",
       " 'e',\n",
       " 'l',\n",
       " 'l',\n",
       " 'o',\n",
       " 'hello',\n",
       " 'hello']"
      ]
     },
     "execution_count": 195,
     "metadata": {},
     "output_type": "execute_result"
    }
   ],
   "source": [
    "l[ : :-1]"
   ]
  },
  {
   "cell_type": "code",
   "execution_count": 196,
   "id": "f47a8428",
   "metadata": {},
   "outputs": [
    {
     "name": "stdout",
     "output_type": "stream",
     "text": [
      "['hello', 'hello', 'o', 'l', 'l', 'e', 'h', 10, 10, [3, 1, 12], 12, 1, 3, 11, [3, 6, 1], 'hi', 41, [1, 3], 20, 2, 3]\n"
     ]
    }
   ],
   "source": [
    "print(l)"
   ]
  },
  {
   "cell_type": "markdown",
   "id": "b145f2eb",
   "metadata": {},
   "source": [
    "# reverse and sort takes no argument"
   ]
  },
  {
   "cell_type": "code",
   "execution_count": 197,
   "id": "96cbd191",
   "metadata": {},
   "outputs": [
    {
     "ename": "TypeError",
     "evalue": "'<' not supported between instances of 'int' and 'str'",
     "output_type": "error",
     "traceback": [
      "\u001b[1;31m---------------------------------------------------------------------------\u001b[0m",
      "\u001b[1;31mTypeError\u001b[0m                                 Traceback (most recent call last)",
      "\u001b[1;32m~\\AppData\\Local\\Temp\\ipykernel_13924\\4149526160.py\u001b[0m in \u001b[0;36m<module>\u001b[1;34m\u001b[0m\n\u001b[1;32m----> 1\u001b[1;33m \u001b[0ml\u001b[0m\u001b[1;33m.\u001b[0m\u001b[0msort\u001b[0m\u001b[1;33m(\u001b[0m\u001b[1;33m)\u001b[0m\u001b[1;33m\u001b[0m\u001b[1;33m\u001b[0m\u001b[0m\n\u001b[0m",
      "\u001b[1;31mTypeError\u001b[0m: '<' not supported between instances of 'int' and 'str'"
     ]
    }
   ],
   "source": [
    "l.sort()"
   ]
  },
  {
   "cell_type": "code",
   "execution_count": 198,
   "id": "f41fd3b4",
   "metadata": {},
   "outputs": [],
   "source": [
    "l2=[5,8,9,5,0]"
   ]
  },
  {
   "cell_type": "code",
   "execution_count": 199,
   "id": "69a1c9f1",
   "metadata": {},
   "outputs": [],
   "source": [
    "l2.sort()"
   ]
  },
  {
   "cell_type": "code",
   "execution_count": 200,
   "id": "85254d82",
   "metadata": {},
   "outputs": [
    {
     "name": "stdout",
     "output_type": "stream",
     "text": [
      "[0, 5, 5, 8, 9]\n"
     ]
    }
   ],
   "source": [
    "print(l2)"
   ]
  },
  {
   "cell_type": "code",
   "execution_count": 202,
   "id": "a545ce56",
   "metadata": {},
   "outputs": [],
   "source": [
    "l2.sort(reverse=True)"
   ]
  },
  {
   "cell_type": "code",
   "execution_count": 203,
   "id": "fbe3a2b2",
   "metadata": {},
   "outputs": [
    {
     "name": "stdout",
     "output_type": "stream",
     "text": [
      "[9, 8, 5, 5, 0]\n"
     ]
    }
   ],
   "source": [
    "print(l2)"
   ]
  },
  {
   "cell_type": "code",
   "execution_count": 192,
   "id": "e40e7801",
   "metadata": {},
   "outputs": [],
   "source": [
    "l3=['hi','god','Good','hello','Bengalore']"
   ]
  },
  {
   "cell_type": "code",
   "execution_count": 188,
   "id": "d4287e97",
   "metadata": {},
   "outputs": [],
   "source": [
    "l3.sort()"
   ]
  },
  {
   "cell_type": "code",
   "execution_count": 189,
   "id": "f5e5dd18",
   "metadata": {},
   "outputs": [
    {
     "name": "stdout",
     "output_type": "stream",
     "text": [
      "['Bengalore', 'Good', 'god', 'hello', 'hi']\n"
     ]
    }
   ],
   "source": [
    "print(l3)"
   ]
  },
  {
   "cell_type": "markdown",
   "id": "8a09989a",
   "metadata": {},
   "source": [
    "# sort:arrange the object in accending ,it will take only one type of items\n"
   ]
  },
  {
   "cell_type": "code",
   "execution_count": 1,
   "id": "64e5ee06",
   "metadata": {},
   "outputs": [],
   "source": [
    "l4=['hi','god','Good','hello','Bengalore','Zebra']"
   ]
  },
  {
   "cell_type": "code",
   "execution_count": 2,
   "id": "380de488",
   "metadata": {},
   "outputs": [],
   "source": [
    "l4.sort()"
   ]
  },
  {
   "cell_type": "code",
   "execution_count": 3,
   "id": "afc844e3",
   "metadata": {},
   "outputs": [
    {
     "name": "stdout",
     "output_type": "stream",
     "text": [
      "['Bengalore', 'Good', 'Zebra', 'god', 'hello', 'hi']\n"
     ]
    }
   ],
   "source": [
    "print(l4)"
   ]
  },
  {
   "cell_type": "code",
   "execution_count": 190,
   "id": "4858130a",
   "metadata": {},
   "outputs": [],
   "source": [
    "l3.clear()"
   ]
  },
  {
   "cell_type": "code",
   "execution_count": 191,
   "id": "bacd87ba",
   "metadata": {},
   "outputs": [
    {
     "name": "stdout",
     "output_type": "stream",
     "text": [
      "[]\n"
     ]
    }
   ],
   "source": [
    "print(l3)"
   ]
  },
  {
   "cell_type": "markdown",
   "id": "b6f6ea97",
   "metadata": {},
   "source": [
    "# append,extend,count,remove,pop takes one argument"
   ]
  },
  {
   "cell_type": "markdown",
   "id": "166d7a0a",
   "metadata": {},
   "source": [
    "# if object is not present in list\n",
    "count gives zero and\n",
    "index,pop(if it is out of range),remove gives error,insert will add at last if it is out of range"
   ]
  },
  {
   "cell_type": "code",
   "execution_count": 53,
   "id": "b51cf31f",
   "metadata": {},
   "outputs": [],
   "source": [
    "l4=[1,2,3,4,5]"
   ]
  },
  {
   "cell_type": "code",
   "execution_count": 54,
   "id": "84c15d94",
   "metadata": {},
   "outputs": [
    {
     "ename": "TypeError",
     "evalue": "list.remove() takes exactly one argument (2 given)",
     "output_type": "error",
     "traceback": [
      "\u001b[1;31m---------------------------------------------------------------------------\u001b[0m",
      "\u001b[1;31mTypeError\u001b[0m                                 Traceback (most recent call last)",
      "\u001b[1;32m~\\AppData\\Local\\Temp\\ipykernel_10196\\4003420654.py\u001b[0m in \u001b[0;36m<module>\u001b[1;34m\u001b[0m\n\u001b[1;32m----> 1\u001b[1;33m \u001b[0ml4\u001b[0m\u001b[1;33m.\u001b[0m\u001b[0mremove\u001b[0m\u001b[1;33m(\u001b[0m\u001b[1;36m2\u001b[0m\u001b[1;33m,\u001b[0m\u001b[1;36m3\u001b[0m\u001b[1;33m)\u001b[0m\u001b[1;33m\u001b[0m\u001b[1;33m\u001b[0m\u001b[0m\n\u001b[0m",
      "\u001b[1;31mTypeError\u001b[0m: list.remove() takes exactly one argument (2 given)"
     ]
    }
   ],
   "source": [
    "l4.remove(2,3)"
   ]
  },
  {
   "cell_type": "code",
   "execution_count": null,
   "id": "f9b487e0",
   "metadata": {},
   "outputs": [],
   "source": []
  }
 ],
 "metadata": {
  "kernelspec": {
   "display_name": "Python 3 (ipykernel)",
   "language": "python",
   "name": "python3"
  },
  "language_info": {
   "codemirror_mode": {
    "name": "ipython",
    "version": 3
   },
   "file_extension": ".py",
   "mimetype": "text/x-python",
   "name": "python",
   "nbconvert_exporter": "python",
   "pygments_lexer": "ipython3",
   "version": "3.9.13"
  }
 },
 "nbformat": 4,
 "nbformat_minor": 5
}
