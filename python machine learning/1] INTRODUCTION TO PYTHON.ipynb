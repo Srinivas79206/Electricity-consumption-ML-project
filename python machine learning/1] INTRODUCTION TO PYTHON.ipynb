{
 "cells": [
  {
   "cell_type": "markdown",
   "id": "66e3df9a",
   "metadata": {},
   "source": [
    "# python:Guido Van Rossum, 1st version in 1991,2nd in 2000,3rd in 2008(python 3 is not fully compatible with python 2)¶"
   ]
  },
  {
   "cell_type": "markdown",
   "id": "a64eca9e",
   "metadata": {},
   "source": [
    "# altenate to jupyter is google colab notebook(works same as jupyter notebook)¶"
   ]
  },
  {
   "cell_type": "markdown",
   "id": "1cbf7eb6",
   "metadata": {},
   "source": [
    "# shift + enter =exicute the code and select the next cell whereas control + enter just exicute the code and it will not select the next cell"
   ]
  },
  {
   "cell_type": "code",
   "execution_count": 2,
   "id": "69a2f018",
   "metadata": {},
   "outputs": [
    {
     "name": "stdout",
     "output_type": "stream",
     "text": [
      "3.9.13\n"
     ]
    }
   ],
   "source": [
    "from platform import python_version\n",
    "print(python_version())"
   ]
  },
  {
   "cell_type": "markdown",
   "id": "661311e0",
   "metadata": {},
   "source": [
    "## variables:can have alphabets(letters),numbers,underscore(variables can have numbers but shld not start with numbers, it can start with only letters and underscore)\n",
    "variables names are case sensitive(age,Age,AGE)all 3 are diff\n",
    "data structure = primitive and non primitive\n",
    "primitive= int,float,boolean,sting\n",
    "non primitive= built in and user defined\n",
    "built in =list,tuple,dictionary,set\n",
    "user defined = stack ,queue,linked list ,tree\n",
    "time taken by list to copy one billion time is nearly 2 sec and in tuple it is less than 1 sec(tuple takes less time than list while copying)\n",
    "tuple uses less memory than list(for same kind of values)\n",
    "time taken by list to copy one billion time is nearly 2 sec and in tuple it is less than 1 sec(tuple takes less time than list while copying)\n",
    "tuple uses less memory than list(for same kind of values)\n",
    "tuple is immutable and if tuple contains list inside it ,the list can be changed¶"
   ]
  },
  {
   "cell_type": "code",
   "execution_count": 3,
   "id": "9d0ab5b6",
   "metadata": {},
   "outputs": [],
   "source": [
    "a=10 "
   ]
  },
  {
   "cell_type": "code",
   "execution_count": 5,
   "id": "fa5cf389",
   "metadata": {},
   "outputs": [
    {
     "data": {
      "text/plain": [
       "10"
      ]
     },
     "execution_count": 5,
     "metadata": {},
     "output_type": "execute_result"
    }
   ],
   "source": [
    "a"
   ]
  },
  {
   "cell_type": "code",
   "execution_count": 6,
   "id": "4b2627f9",
   "metadata": {},
   "outputs": [
    {
     "name": "stdout",
     "output_type": "stream",
     "text": [
      "10\n"
     ]
    }
   ],
   "source": [
    "print(a)"
   ]
  },
  {
   "cell_type": "code",
   "execution_count": 7,
   "id": "c6292f32",
   "metadata": {},
   "outputs": [],
   "source": [
    "b=20"
   ]
  },
  {
   "cell_type": "code",
   "execution_count": 8,
   "id": "e673f8f8",
   "metadata": {},
   "outputs": [
    {
     "data": {
      "text/plain": [
       "20"
      ]
     },
     "execution_count": 8,
     "metadata": {},
     "output_type": "execute_result"
    }
   ],
   "source": [
    "b"
   ]
  },
  {
   "cell_type": "code",
   "execution_count": 9,
   "id": "453014de",
   "metadata": {},
   "outputs": [
    {
     "name": "stdout",
     "output_type": "stream",
     "text": [
      "20\n"
     ]
    }
   ],
   "source": [
    "print(b)"
   ]
  },
  {
   "cell_type": "code",
   "execution_count": 10,
   "id": "ea6e2ca9",
   "metadata": {},
   "outputs": [
    {
     "data": {
      "text/plain": [
       "20"
      ]
     },
     "execution_count": 10,
     "metadata": {},
     "output_type": "execute_result"
    }
   ],
   "source": [
    "a\n",
    "b"
   ]
  },
  {
   "cell_type": "code",
   "execution_count": 11,
   "id": "ff958c6d",
   "metadata": {},
   "outputs": [
    {
     "data": {
      "text/plain": [
       "10"
      ]
     },
     "execution_count": 11,
     "metadata": {},
     "output_type": "execute_result"
    }
   ],
   "source": [
    "b\n",
    "a"
   ]
  },
  {
   "cell_type": "code",
   "execution_count": 12,
   "id": "2dc1a90b",
   "metadata": {},
   "outputs": [
    {
     "name": "stdout",
     "output_type": "stream",
     "text": [
      "10\n",
      "20\n"
     ]
    }
   ],
   "source": [
    "print(a)\n",
    "print(b)"
   ]
  },
  {
   "cell_type": "code",
   "execution_count": null,
   "id": "e91f0581",
   "metadata": {},
   "outputs": [],
   "source": []
  }
 ],
 "metadata": {
  "kernelspec": {
   "display_name": "Python 3 (ipykernel)",
   "language": "python",
   "name": "python3"
  },
  "language_info": {
   "codemirror_mode": {
    "name": "ipython",
    "version": 3
   },
   "file_extension": ".py",
   "mimetype": "text/x-python",
   "name": "python",
   "nbconvert_exporter": "python",
   "pygments_lexer": "ipython3",
   "version": "3.9.13"
  }
 },
 "nbformat": 4,
 "nbformat_minor": 5
}
