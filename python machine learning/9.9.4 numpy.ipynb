{
 "cells": [
  {
   "cell_type": "markdown",
   "id": "9723b844",
   "metadata": {},
   "source": [
    "# NumPy is a Python library used for working with arrays.\n",
    "\n",
    "It also has functions for working in domain of linear algebra, fourier transform, and matrices.\n",
    "\n",
    "NumPy was created in 2005 by Travis Oliphant. It is an open source project and you can use it freely.\n",
    "\n",
    "NumPy stands for Numerical Python."
   ]
  },
  {
   "cell_type": "code",
   "execution_count": 2,
   "id": "e0f33688",
   "metadata": {},
   "outputs": [],
   "source": [
    "import numpy as np"
   ]
  },
  {
   "cell_type": "code",
   "execution_count": 7,
   "id": "c1689cf5",
   "metadata": {},
   "outputs": [],
   "source": [
    "na=np.array([3,2,9,2,6])"
   ]
  },
  {
   "cell_type": "code",
   "execution_count": 8,
   "id": "26f4134c",
   "metadata": {},
   "outputs": [
    {
     "name": "stdout",
     "output_type": "stream",
     "text": [
      "[3 2 9 2 6]\n"
     ]
    }
   ],
   "source": [
    "print(na)"
   ]
  },
  {
   "cell_type": "code",
   "execution_count": 9,
   "id": "866749e9",
   "metadata": {},
   "outputs": [
    {
     "data": {
      "text/plain": [
       "numpy.ndarray"
      ]
     },
     "execution_count": 9,
     "metadata": {},
     "output_type": "execute_result"
    }
   ],
   "source": [
    "type(na)"
   ]
  },
  {
   "cell_type": "code",
   "execution_count": 10,
   "id": "2891c6a5",
   "metadata": {},
   "outputs": [
    {
     "data": {
      "text/plain": [
       "3"
      ]
     },
     "execution_count": 10,
     "metadata": {},
     "output_type": "execute_result"
    }
   ],
   "source": [
    "na[0]"
   ]
  },
  {
   "cell_type": "code",
   "execution_count": 11,
   "id": "1eb4f866",
   "metadata": {},
   "outputs": [
    {
     "data": {
      "text/plain": [
       "9"
      ]
     },
     "execution_count": 11,
     "metadata": {},
     "output_type": "execute_result"
    }
   ],
   "source": [
    "na[2]"
   ]
  },
  {
   "cell_type": "code",
   "execution_count": 9,
   "id": "2ec9d912",
   "metadata": {},
   "outputs": [
    {
     "data": {
      "text/plain": [
       "array([3, 2, 9, 2, 6])"
      ]
     },
     "execution_count": 9,
     "metadata": {},
     "output_type": "execute_result"
    }
   ],
   "source": [
    "na[:]"
   ]
  },
  {
   "cell_type": "code",
   "execution_count": 11,
   "id": "6352cd7f",
   "metadata": {},
   "outputs": [
    {
     "data": {
      "text/plain": [
       "array([3, 2, 9])"
      ]
     },
     "execution_count": 11,
     "metadata": {},
     "output_type": "execute_result"
    }
   ],
   "source": [
    "na[ :3]"
   ]
  },
  {
   "cell_type": "code",
   "execution_count": 12,
   "id": "88e91ebb",
   "metadata": {},
   "outputs": [
    {
     "data": {
      "text/plain": [
       "array([2, 9])"
      ]
     },
     "execution_count": 12,
     "metadata": {},
     "output_type": "execute_result"
    }
   ],
   "source": [
    "na[1:3]"
   ]
  },
  {
   "cell_type": "code",
   "execution_count": 13,
   "id": "00b91c94",
   "metadata": {},
   "outputs": [
    {
     "data": {
      "text/plain": [
       "numpy.int32"
      ]
     },
     "execution_count": 13,
     "metadata": {},
     "output_type": "execute_result"
    }
   ],
   "source": [
    "type(na[1])"
   ]
  },
  {
   "cell_type": "code",
   "execution_count": 14,
   "id": "9df4e10b",
   "metadata": {},
   "outputs": [
    {
     "name": "stdout",
     "output_type": "stream",
     "text": [
      "<class 'numpy.int32'>\n",
      "<class 'numpy.int32'>\n",
      "<class 'numpy.int32'>\n",
      "<class 'numpy.int32'>\n",
      "<class 'numpy.int32'>\n"
     ]
    }
   ],
   "source": [
    "for i in  na:\n",
    "    print(type(i))"
   ]
  },
  {
   "cell_type": "code",
   "execution_count": 18,
   "id": "978aa5ba",
   "metadata": {},
   "outputs": [],
   "source": [
    "na=np.array([3,2.5,9,2,6])"
   ]
  },
  {
   "cell_type": "code",
   "execution_count": 19,
   "id": "c59f40f5",
   "metadata": {},
   "outputs": [
    {
     "name": "stdout",
     "output_type": "stream",
     "text": [
      "<class 'numpy.float64'>\n",
      "<class 'numpy.float64'>\n",
      "<class 'numpy.float64'>\n",
      "<class 'numpy.float64'>\n",
      "<class 'numpy.float64'>\n"
     ]
    }
   ],
   "source": [
    "for i in  na:\n",
    "    print(type(i))"
   ]
  },
  {
   "cell_type": "code",
   "execution_count": 20,
   "id": "7fbdb684",
   "metadata": {},
   "outputs": [
    {
     "name": "stdout",
     "output_type": "stream",
     "text": [
      "3.0\n",
      "2.5\n",
      "9.0\n",
      "2.0\n",
      "6.0\n"
     ]
    }
   ],
   "source": [
    "for i in  na:\n",
    "    print(i)"
   ]
  },
  {
   "cell_type": "code",
   "execution_count": 22,
   "id": "46207fb9",
   "metadata": {},
   "outputs": [],
   "source": [
    "na=np.array([3,2.5,9,2,6,'hi'])"
   ]
  },
  {
   "cell_type": "code",
   "execution_count": 23,
   "id": "a51482e6",
   "metadata": {},
   "outputs": [
    {
     "name": "stdout",
     "output_type": "stream",
     "text": [
      "<class 'numpy.str_'>\n",
      "<class 'numpy.str_'>\n",
      "<class 'numpy.str_'>\n",
      "<class 'numpy.str_'>\n",
      "<class 'numpy.str_'>\n",
      "<class 'numpy.str_'>\n"
     ]
    }
   ],
   "source": [
    "for i in  na:\n",
    "    print(type(i))"
   ]
  },
  {
   "cell_type": "markdown",
   "id": "0bbf185b",
   "metadata": {},
   "source": [
    "# numpy array no mixed type is allowed, in list it is allowed"
   ]
  },
  {
   "cell_type": "code",
   "execution_count": 30,
   "id": "cd66c445",
   "metadata": {},
   "outputs": [
    {
     "ename": "TypeError",
     "evalue": "_append_dispatcher() missing 1 required positional argument: 'values'",
     "output_type": "error",
     "traceback": [
      "\u001b[1;31m---------------------------------------------------------------------------\u001b[0m",
      "\u001b[1;31mTypeError\u001b[0m                                 Traceback (most recent call last)",
      "\u001b[1;32m~\\AppData\\Local\\Temp\\ipykernel_17992\\3837296774.py\u001b[0m in \u001b[0;36m<module>\u001b[1;34m\u001b[0m\n\u001b[1;32m----> 1\u001b[1;33m \u001b[0mna1\u001b[0m\u001b[1;33m=\u001b[0m\u001b[0mnp\u001b[0m\u001b[1;33m.\u001b[0m\u001b[0mappend\u001b[0m\u001b[1;33m(\u001b[0m\u001b[1;36m10\u001b[0m\u001b[1;33m)\u001b[0m\u001b[1;33m\u001b[0m\u001b[1;33m\u001b[0m\u001b[0m\n\u001b[0m",
      "\u001b[1;32m<__array_function__ internals>\u001b[0m in \u001b[0;36mappend\u001b[1;34m(*args, **kwargs)\u001b[0m\n",
      "\u001b[1;31mTypeError\u001b[0m: _append_dispatcher() missing 1 required positional argument: 'values'"
     ]
    }
   ],
   "source": [
    "na1=np.append(10)"
   ]
  },
  {
   "cell_type": "code",
   "execution_count": 31,
   "id": "9c889f68",
   "metadata": {},
   "outputs": [],
   "source": [
    "na1=np.append(na,10)"
   ]
  },
  {
   "cell_type": "code",
   "execution_count": 32,
   "id": "9b339a5b",
   "metadata": {},
   "outputs": [
    {
     "name": "stdout",
     "output_type": "stream",
     "text": [
      "[3 2.5 9 2 6 'hi' list([1, 2, 3]) 10]\n"
     ]
    }
   ],
   "source": [
    "print(na1)"
   ]
  },
  {
   "cell_type": "code",
   "execution_count": 33,
   "id": "ea5c7a4a",
   "metadata": {},
   "outputs": [],
   "source": [
    "na2=np.append([3,4,5],10)"
   ]
  },
  {
   "cell_type": "code",
   "execution_count": 34,
   "id": "6c86052f",
   "metadata": {},
   "outputs": [
    {
     "name": "stdout",
     "output_type": "stream",
     "text": [
      "[ 3  4  5 10]\n"
     ]
    }
   ],
   "source": [
    "print(na2)"
   ]
  },
  {
   "cell_type": "code",
   "execution_count": 35,
   "id": "90b85a80",
   "metadata": {},
   "outputs": [
    {
     "data": {
      "text/plain": [
       "3"
      ]
     },
     "execution_count": 35,
     "metadata": {},
     "output_type": "execute_result"
    }
   ],
   "source": [
    "na2[0]"
   ]
  },
  {
   "cell_type": "code",
   "execution_count": 36,
   "id": "ea5b0571",
   "metadata": {},
   "outputs": [
    {
     "data": {
      "text/plain": [
       "10"
      ]
     },
     "execution_count": 36,
     "metadata": {},
     "output_type": "execute_result"
    }
   ],
   "source": [
    "na2.max()"
   ]
  },
  {
   "cell_type": "code",
   "execution_count": 37,
   "id": "2808858f",
   "metadata": {},
   "outputs": [
    {
     "data": {
      "text/plain": [
       "3"
      ]
     },
     "execution_count": 37,
     "metadata": {},
     "output_type": "execute_result"
    }
   ],
   "source": [
    "na2.min()"
   ]
  },
  {
   "cell_type": "code",
   "execution_count": 39,
   "id": "3a43bf7e",
   "metadata": {},
   "outputs": [],
   "source": [
    "na=np.array([[1,2,3],[4,5,6],[7,8,9]])"
   ]
  },
  {
   "cell_type": "code",
   "execution_count": 47,
   "id": "7a5b54be",
   "metadata": {},
   "outputs": [
    {
     "name": "stdout",
     "output_type": "stream",
     "text": [
      "[[1 2 3]\n",
      " [4 5 6]\n",
      " [7 8 9]]\n"
     ]
    }
   ],
   "source": [
    "print(na)"
   ]
  },
  {
   "cell_type": "code",
   "execution_count": 41,
   "id": "6a6fcc9e",
   "metadata": {},
   "outputs": [
    {
     "data": {
      "text/plain": [
       "5.0"
      ]
     },
     "execution_count": 41,
     "metadata": {},
     "output_type": "execute_result"
    }
   ],
   "source": [
    "na.mean()"
   ]
  },
  {
   "cell_type": "code",
   "execution_count": 42,
   "id": "44207a2b",
   "metadata": {},
   "outputs": [
    {
     "data": {
      "text/plain": [
       "9"
      ]
     },
     "execution_count": 42,
     "metadata": {},
     "output_type": "execute_result"
    }
   ],
   "source": [
    "na.max()"
   ]
  },
  {
   "cell_type": "code",
   "execution_count": 43,
   "id": "4fe182de",
   "metadata": {},
   "outputs": [
    {
     "data": {
      "text/plain": [
       "1"
      ]
     },
     "execution_count": 43,
     "metadata": {},
     "output_type": "execute_result"
    }
   ],
   "source": [
    "na.min()"
   ]
  },
  {
   "cell_type": "code",
   "execution_count": 44,
   "id": "f3dd057f",
   "metadata": {},
   "outputs": [
    {
     "data": {
      "text/plain": [
       "array([4., 5., 6.])"
      ]
     },
     "execution_count": 44,
     "metadata": {},
     "output_type": "execute_result"
    }
   ],
   "source": [
    "na.mean(axis=0)"
   ]
  },
  {
   "cell_type": "code",
   "execution_count": 45,
   "id": "5534e796",
   "metadata": {},
   "outputs": [
    {
     "data": {
      "text/plain": [
       "array([2., 5., 8.])"
      ]
     },
     "execution_count": 45,
     "metadata": {},
     "output_type": "execute_result"
    }
   ],
   "source": [
    "na.mean(axis=1)"
   ]
  },
  {
   "cell_type": "markdown",
   "id": "427f5d93",
   "metadata": {},
   "source": [
    "## 0 means column adding and dividing number ,, 1 means row adding and dividing"
   ]
  },
  {
   "cell_type": "code",
   "execution_count": 48,
   "id": "e5375339",
   "metadata": {},
   "outputs": [],
   "source": [
    "na=np.arange(2,12)"
   ]
  },
  {
   "cell_type": "code",
   "execution_count": 49,
   "id": "1bbb6707",
   "metadata": {},
   "outputs": [
    {
     "name": "stdout",
     "output_type": "stream",
     "text": [
      "[ 2  3  4  5  6  7  8  9 10 11]\n"
     ]
    }
   ],
   "source": [
    "print(na)"
   ]
  },
  {
   "cell_type": "code",
   "execution_count": 50,
   "id": "acbadbff",
   "metadata": {},
   "outputs": [],
   "source": [
    "na=np.arange(2,12,2)"
   ]
  },
  {
   "cell_type": "code",
   "execution_count": 51,
   "id": "d3207c76",
   "metadata": {},
   "outputs": [
    {
     "name": "stdout",
     "output_type": "stream",
     "text": [
      "[ 2  4  6  8 10]\n"
     ]
    }
   ],
   "source": [
    "print(na)"
   ]
  },
  {
   "cell_type": "code",
   "execution_count": 52,
   "id": "9024a7d9",
   "metadata": {},
   "outputs": [
    {
     "data": {
      "text/plain": [
       "array([0., 0., 0., 0., 0.])"
      ]
     },
     "execution_count": 52,
     "metadata": {},
     "output_type": "execute_result"
    }
   ],
   "source": [
    "np.zeros(5)"
   ]
  },
  {
   "cell_type": "code",
   "execution_count": 53,
   "id": "da2c2a57",
   "metadata": {},
   "outputs": [
    {
     "data": {
      "text/plain": [
       "array([1., 1., 1., 1., 1., 1., 1.])"
      ]
     },
     "execution_count": 53,
     "metadata": {},
     "output_type": "execute_result"
    }
   ],
   "source": [
    "np.ones(7)"
   ]
  },
  {
   "cell_type": "code",
   "execution_count": 54,
   "id": "e75b5ed9",
   "metadata": {},
   "outputs": [
    {
     "ename": "AttributeError",
     "evalue": "module 'numpy' has no attribute 'twos'",
     "output_type": "error",
     "traceback": [
      "\u001b[1;31m---------------------------------------------------------------------------\u001b[0m",
      "\u001b[1;31mAttributeError\u001b[0m                            Traceback (most recent call last)",
      "\u001b[1;32m~\\AppData\\Local\\Temp\\ipykernel_17992\\2531779183.py\u001b[0m in \u001b[0;36m<module>\u001b[1;34m\u001b[0m\n\u001b[1;32m----> 1\u001b[1;33m \u001b[0mnp\u001b[0m\u001b[1;33m.\u001b[0m\u001b[0mtwos\u001b[0m\u001b[1;33m(\u001b[0m\u001b[1;36m5\u001b[0m\u001b[1;33m)\u001b[0m\u001b[1;33m\u001b[0m\u001b[1;33m\u001b[0m\u001b[0m\n\u001b[0m",
      "\u001b[1;32m~\\anaconda3\\lib\\site-packages\\numpy\\__init__.py\u001b[0m in \u001b[0;36m__getattr__\u001b[1;34m(attr)\u001b[0m\n\u001b[0;32m    311\u001b[0m                 \u001b[1;32mreturn\u001b[0m \u001b[0mTester\u001b[0m\u001b[1;33m\u001b[0m\u001b[1;33m\u001b[0m\u001b[0m\n\u001b[0;32m    312\u001b[0m \u001b[1;33m\u001b[0m\u001b[0m\n\u001b[1;32m--> 313\u001b[1;33m             raise AttributeError(\"module {!r} has no attribute \"\n\u001b[0m\u001b[0;32m    314\u001b[0m                                  \"{!r}\".format(__name__, attr))\n\u001b[0;32m    315\u001b[0m \u001b[1;33m\u001b[0m\u001b[0m\n",
      "\u001b[1;31mAttributeError\u001b[0m: module 'numpy' has no attribute 'twos'"
     ]
    }
   ],
   "source": [
    "np.twos(5)"
   ]
  },
  {
   "cell_type": "code",
   "execution_count": 2,
   "id": "7ef340e3",
   "metadata": {},
   "outputs": [
    {
     "data": {
      "text/plain": [
       "array([ 0.        ,  0.20408163,  0.40816327,  0.6122449 ,  0.81632653,\n",
       "        1.02040816,  1.2244898 ,  1.42857143,  1.63265306,  1.83673469,\n",
       "        2.04081633,  2.24489796,  2.44897959,  2.65306122,  2.85714286,\n",
       "        3.06122449,  3.26530612,  3.46938776,  3.67346939,  3.87755102,\n",
       "        4.08163265,  4.28571429,  4.48979592,  4.69387755,  4.89795918,\n",
       "        5.10204082,  5.30612245,  5.51020408,  5.71428571,  5.91836735,\n",
       "        6.12244898,  6.32653061,  6.53061224,  6.73469388,  6.93877551,\n",
       "        7.14285714,  7.34693878,  7.55102041,  7.75510204,  7.95918367,\n",
       "        8.16326531,  8.36734694,  8.57142857,  8.7755102 ,  8.97959184,\n",
       "        9.18367347,  9.3877551 ,  9.59183673,  9.79591837, 10.        ])"
      ]
     },
     "execution_count": 2,
     "metadata": {},
     "output_type": "execute_result"
    }
   ],
   "source": [
    "np.linspace(0,10)"
   ]
  },
  {
   "cell_type": "code",
   "execution_count": 3,
   "id": "6ea330f1",
   "metadata": {},
   "outputs": [
    {
     "data": {
      "text/plain": [
       "array([ 0.        ,  0.40816327,  0.81632653,  1.2244898 ,  1.63265306,\n",
       "        2.04081633,  2.44897959,  2.85714286,  3.26530612,  3.67346939,\n",
       "        4.08163265,  4.48979592,  4.89795918,  5.30612245,  5.71428571,\n",
       "        6.12244898,  6.53061224,  6.93877551,  7.34693878,  7.75510204,\n",
       "        8.16326531,  8.57142857,  8.97959184,  9.3877551 ,  9.79591837,\n",
       "       10.20408163, 10.6122449 , 11.02040816, 11.42857143, 11.83673469,\n",
       "       12.24489796, 12.65306122, 13.06122449, 13.46938776, 13.87755102,\n",
       "       14.28571429, 14.69387755, 15.10204082, 15.51020408, 15.91836735,\n",
       "       16.32653061, 16.73469388, 17.14285714, 17.55102041, 17.95918367,\n",
       "       18.36734694, 18.7755102 , 19.18367347, 19.59183673, 20.        ])"
      ]
     },
     "execution_count": 3,
     "metadata": {},
     "output_type": "execute_result"
    }
   ],
   "source": [
    "np.linspace(0,20)"
   ]
  },
  {
   "cell_type": "code",
   "execution_count": 4,
   "id": "75a9c1fe",
   "metadata": {},
   "outputs": [
    {
     "data": {
      "text/plain": [
       "array([10., 15., 20., 25., 30.])"
      ]
     },
     "execution_count": 4,
     "metadata": {},
     "output_type": "execute_result"
    }
   ],
   "source": [
    "np.linspace(10,30,5)# here 5 represents the numbers to give and also it will divide equaly"
   ]
  },
  {
   "cell_type": "markdown",
   "id": "d6aabb37",
   "metadata": {},
   "source": [
    "## difference between two numbers  is equal and it is always 50 numbers if we didn't mention numbers to give "
   ]
  },
  {
   "cell_type": "code",
   "execution_count": null,
   "id": "acb63e53",
   "metadata": {},
   "outputs": [],
   "source": []
  },
  {
   "cell_type": "markdown",
   "id": "72ee2c18",
   "metadata": {},
   "source": [
    "### the main difference b/w arange and linspace is in arange ending parameter is not included but in linspace it will give endingparameter"
   ]
  },
  {
   "cell_type": "code",
   "execution_count": 6,
   "id": "8434bb59",
   "metadata": {},
   "outputs": [],
   "source": [
    "import numpy as np"
   ]
  },
  {
   "cell_type": "code",
   "execution_count": 7,
   "id": "5d4c6c38",
   "metadata": {},
   "outputs": [],
   "source": [
    "na=np.array((3,2,6))"
   ]
  },
  {
   "cell_type": "code",
   "execution_count": 3,
   "id": "2c609a4c",
   "metadata": {},
   "outputs": [
    {
     "name": "stdout",
     "output_type": "stream",
     "text": [
      "[3 2 6]\n"
     ]
    }
   ],
   "source": [
    "print(na)"
   ]
  },
  {
   "cell_type": "code",
   "execution_count": 4,
   "id": "c6359316",
   "metadata": {},
   "outputs": [
    {
     "data": {
      "text/plain": [
       "array([3, 2, 6])"
      ]
     },
     "execution_count": 4,
     "metadata": {},
     "output_type": "execute_result"
    }
   ],
   "source": [
    "na"
   ]
  },
  {
   "cell_type": "code",
   "execution_count": 21,
   "id": "24fcc7be",
   "metadata": {},
   "outputs": [],
   "source": [
    "na=np.array({'a':10,'b':20})"
   ]
  },
  {
   "cell_type": "code",
   "execution_count": 22,
   "id": "cc79cf66",
   "metadata": {},
   "outputs": [
    {
     "name": "stdout",
     "output_type": "stream",
     "text": [
      "{'a': 10, 'b': 20}\n"
     ]
    }
   ],
   "source": [
    "print(na)"
   ]
  },
  {
   "cell_type": "code",
   "execution_count": 25,
   "id": "6100ca93",
   "metadata": {},
   "outputs": [],
   "source": [
    "na=np.array([4,5,6])"
   ]
  },
  {
   "cell_type": "code",
   "execution_count": 26,
   "id": "83da2233",
   "metadata": {},
   "outputs": [
    {
     "name": "stdout",
     "output_type": "stream",
     "text": [
      "[4 5 6]\n"
     ]
    }
   ],
   "source": [
    "print(na)"
   ]
  },
  {
   "cell_type": "code",
   "execution_count": 27,
   "id": "afc91579",
   "metadata": {},
   "outputs": [
    {
     "data": {
      "text/plain": [
       "4"
      ]
     },
     "execution_count": 27,
     "metadata": {},
     "output_type": "execute_result"
    }
   ],
   "source": [
    "na[0]"
   ]
  },
  {
   "cell_type": "code",
   "execution_count": 23,
   "id": "96557727",
   "metadata": {},
   "outputs": [
    {
     "data": {
      "text/plain": [
       "numpy.ndarray"
      ]
     },
     "execution_count": 23,
     "metadata": {},
     "output_type": "execute_result"
    }
   ],
   "source": [
    "type(na)"
   ]
  },
  {
   "cell_type": "code",
   "execution_count": 32,
   "id": "897b1dd9",
   "metadata": {},
   "outputs": [],
   "source": [
    "na=np.array((3,2,5))"
   ]
  },
  {
   "cell_type": "code",
   "execution_count": 33,
   "id": "157298f3",
   "metadata": {},
   "outputs": [],
   "source": [
    "na1=np.array(na)"
   ]
  },
  {
   "cell_type": "code",
   "execution_count": 34,
   "id": "3750a063",
   "metadata": {},
   "outputs": [
    {
     "name": "stdout",
     "output_type": "stream",
     "text": [
      "[3 2 5]\n"
     ]
    }
   ],
   "source": [
    "print(na1)"
   ]
  },
  {
   "cell_type": "code",
   "execution_count": 35,
   "id": "c59a1fc9",
   "metadata": {},
   "outputs": [],
   "source": [
    "na=np.eye(5)"
   ]
  },
  {
   "cell_type": "code",
   "execution_count": 36,
   "id": "31cfd1bf",
   "metadata": {},
   "outputs": [
    {
     "name": "stdout",
     "output_type": "stream",
     "text": [
      "[[1. 0. 0. 0. 0.]\n",
      " [0. 1. 0. 0. 0.]\n",
      " [0. 0. 1. 0. 0.]\n",
      " [0. 0. 0. 1. 0.]\n",
      " [0. 0. 0. 0. 1.]]\n"
     ]
    }
   ],
   "source": [
    "print(na)"
   ]
  },
  {
   "cell_type": "markdown",
   "id": "d1195c95",
   "metadata": {},
   "source": [
    "### this is called identity matrix"
   ]
  },
  {
   "cell_type": "code",
   "execution_count": 37,
   "id": "1736dc65",
   "metadata": {},
   "outputs": [],
   "source": [
    "na=np.eye(5,3)"
   ]
  },
  {
   "cell_type": "code",
   "execution_count": 38,
   "id": "1900820b",
   "metadata": {},
   "outputs": [
    {
     "name": "stdout",
     "output_type": "stream",
     "text": [
      "[[1. 0. 0.]\n",
      " [0. 1. 0.]\n",
      " [0. 0. 1.]\n",
      " [0. 0. 0.]\n",
      " [0. 0. 0.]]\n"
     ]
    }
   ],
   "source": [
    "print(na)"
   ]
  },
  {
   "cell_type": "markdown",
   "id": "2aba0949",
   "metadata": {},
   "source": [
    "### create random numbers"
   ]
  },
  {
   "cell_type": "code",
   "execution_count": 5,
   "id": "8285a08d",
   "metadata": {},
   "outputs": [],
   "source": [
    "na=np.random.random(30)"
   ]
  },
  {
   "cell_type": "code",
   "execution_count": 6,
   "id": "89fb2799",
   "metadata": {},
   "outputs": [
    {
     "data": {
      "text/plain": [
       "array([0.09692685, 0.38139413, 0.75976379, 0.22190527, 0.02282861,\n",
       "       0.64493223, 0.19985876, 0.36213405, 0.2058986 , 0.06480363,\n",
       "       0.03622117, 0.94807108, 0.06050731, 0.72979701, 0.70182634,\n",
       "       0.36206403, 0.28368874, 0.24826931, 0.2931742 , 0.14025965,\n",
       "       0.25174408, 0.85095677, 0.74170515, 0.06306901, 0.32496942,\n",
       "       0.85301357, 0.72322926, 0.38290719, 0.52781032, 0.58252607])"
      ]
     },
     "execution_count": 6,
     "metadata": {},
     "output_type": "execute_result"
    }
   ],
   "source": [
    "na"
   ]
  },
  {
   "cell_type": "code",
   "execution_count": 13,
   "id": "0ef9a71c",
   "metadata": {},
   "outputs": [],
   "source": [
    "na=np.random.random((5,4))"
   ]
  },
  {
   "cell_type": "code",
   "execution_count": 14,
   "id": "9abbc914",
   "metadata": {},
   "outputs": [
    {
     "data": {
      "text/plain": [
       "array([[0.1559161 , 0.49839195, 0.23181784, 0.42185467],\n",
       "       [0.56068509, 0.17417728, 0.59306787, 0.04744347],\n",
       "       [0.1978677 , 0.63308997, 0.04172838, 0.9957244 ],\n",
       "       [0.29239244, 0.64860132, 0.27539367, 0.88444388],\n",
       "       [0.31782101, 0.07134918, 0.27728953, 0.27516289]])"
      ]
     },
     "execution_count": 14,
     "metadata": {},
     "output_type": "execute_result"
    }
   ],
   "source": [
    "na"
   ]
  },
  {
   "cell_type": "code",
   "execution_count": 17,
   "id": "8ff5ec10",
   "metadata": {},
   "outputs": [],
   "source": [
    "na1=np.round(na,3)"
   ]
  },
  {
   "cell_type": "code",
   "execution_count": 19,
   "id": "dcdae8dd",
   "metadata": {},
   "outputs": [
    {
     "data": {
      "text/plain": [
       "array([[0.156, 0.498, 0.232, 0.422],\n",
       "       [0.561, 0.174, 0.593, 0.047],\n",
       "       [0.198, 0.633, 0.042, 0.996],\n",
       "       [0.292, 0.649, 0.275, 0.884],\n",
       "       [0.318, 0.071, 0.277, 0.275]])"
      ]
     },
     "execution_count": 19,
     "metadata": {},
     "output_type": "execute_result"
    }
   ],
   "source": [
    "na1"
   ]
  },
  {
   "cell_type": "code",
   "execution_count": 3,
   "id": "9db1a022",
   "metadata": {},
   "outputs": [
    {
     "data": {
      "text/plain": [
       "array([0.9767282 , 0.79513323, 0.07032061, 0.42579767, 0.43627098])"
      ]
     },
     "execution_count": 3,
     "metadata": {},
     "output_type": "execute_result"
    }
   ],
   "source": [
    "np.random.rand(5)"
   ]
  },
  {
   "cell_type": "code",
   "execution_count": 4,
   "id": "3dfa0a67",
   "metadata": {},
   "outputs": [
    {
     "data": {
      "text/plain": [
       "array([0.28464138, 0.779488  , 0.99633023, 0.33462595, 0.04760644,\n",
       "       0.70113105, 0.02345978, 0.0537932 , 0.10698974, 0.07498967,\n",
       "       0.53616369, 0.72707875, 0.74928628, 0.58723669, 0.85318925,\n",
       "       0.41605085, 0.91613495, 0.56092483, 0.80710265, 0.54465982,\n",
       "       0.94464572, 0.59307442, 0.60384202, 0.51127235, 0.73099173,\n",
       "       0.74222251, 0.53347331, 0.37294832, 0.72678968, 0.91600272])"
      ]
     },
     "execution_count": 4,
     "metadata": {},
     "output_type": "execute_result"
    }
   ],
   "source": [
    "np.random.rand(30)"
   ]
  },
  {
   "cell_type": "markdown",
   "id": "1c101921",
   "metadata": {},
   "source": [
    "### give random numbers but between 0-1"
   ]
  },
  {
   "cell_type": "code",
   "execution_count": 10,
   "id": "e075361a",
   "metadata": {},
   "outputs": [
    {
     "data": {
      "text/plain": [
       "array([[0.44660955, 0.48739467, 0.81335812, 0.37210285],\n",
       "       [0.7162473 , 0.34027912, 0.08015813, 0.36327804],\n",
       "       [0.72175432, 0.59734961, 0.81095693, 0.37222678]])"
      ]
     },
     "execution_count": 10,
     "metadata": {},
     "output_type": "execute_result"
    }
   ],
   "source": [
    "np.random.rand(3,4)"
   ]
  },
  {
   "cell_type": "code",
   "execution_count": 41,
   "id": "aebe1a3a",
   "metadata": {},
   "outputs": [
    {
     "data": {
      "text/plain": [
       "array([-1.58419016,  0.48119658,  0.32812955,  0.45047377, -1.20529504,\n",
       "       -0.36709003])"
      ]
     },
     "execution_count": 41,
     "metadata": {},
     "output_type": "execute_result"
    }
   ],
   "source": [
    "np.random.randn(6)"
   ]
  },
  {
   "cell_type": "code",
   "execution_count": 5,
   "id": "9cd99c41",
   "metadata": {},
   "outputs": [
    {
     "data": {
      "text/plain": [
       "array([-1.12944847,  0.75312858,  0.17651368,  0.51754278,  0.26797814,\n",
       "       -1.59905254,  2.84184406,  0.33132196, -1.10814584, -0.33599409,\n",
       "        2.92605029, -0.01475593,  2.70072752,  0.18390445, -0.14874706,\n",
       "        0.78364809, -0.45054969,  1.07256314, -0.25355006,  1.81239726,\n",
       "       -1.90231954,  0.33327774,  0.4312054 ,  0.87664271,  0.31862465,\n",
       "       -0.20950886,  0.47246925,  0.30284648,  0.26521314,  0.15970528])"
      ]
     },
     "execution_count": 5,
     "metadata": {},
     "output_type": "execute_result"
    }
   ],
   "source": [
    "np.random.randn(30)"
   ]
  },
  {
   "cell_type": "code",
   "execution_count": 6,
   "id": "84df8dee",
   "metadata": {},
   "outputs": [
    {
     "data": {
      "text/plain": [
       "array([[ 0.2368491 , -1.81078706, -0.12811022],\n",
       "       [-0.2262414 , -0.34109859,  0.04391136],\n",
       "       [ 2.85028068, -1.22907801,  0.03780198],\n",
       "       [ 1.767709  , -0.83666308,  0.93846983]])"
      ]
     },
     "execution_count": 6,
     "metadata": {},
     "output_type": "execute_result"
    }
   ],
   "source": [
    "np.random.randn(4,3)"
   ]
  },
  {
   "cell_type": "markdown",
   "id": "85049929",
   "metadata": {},
   "source": [
    "#### randn no limit"
   ]
  },
  {
   "cell_type": "code",
   "execution_count": 47,
   "id": "31c718e3",
   "metadata": {},
   "outputs": [
    {
     "data": {
      "text/plain": [
       "1"
      ]
     },
     "execution_count": 47,
     "metadata": {},
     "output_type": "execute_result"
    }
   ],
   "source": [
    "np.random.randint(6)"
   ]
  },
  {
   "cell_type": "code",
   "execution_count": 51,
   "id": "9627a1c9",
   "metadata": {},
   "outputs": [
    {
     "data": {
      "text/plain": [
       "13"
      ]
     },
     "execution_count": 51,
     "metadata": {},
     "output_type": "execute_result"
    }
   ],
   "source": [
    "np.random.randint(5,15)"
   ]
  },
  {
   "cell_type": "code",
   "execution_count": 52,
   "id": "0deb31a2",
   "metadata": {},
   "outputs": [
    {
     "data": {
      "text/plain": [
       "array([14,  5,  5, 12, 11,  7,  5, 14, 14,  9,  5, 14, 14,  7, 10, 12,  8,\n",
       "        9, 13, 11])"
      ]
     },
     "execution_count": 52,
     "metadata": {},
     "output_type": "execute_result"
    }
   ],
   "source": [
    "np.random.randint(5,15,20)"
   ]
  },
  {
   "cell_type": "markdown",
   "id": "81742015",
   "metadata": {},
   "source": [
    "#### 1st parameter is integer lower to higher-1,,,6 means (0,5)\n",
    "     2nd parameter range\n",
    "     3rd one is size"
   ]
  },
  {
   "cell_type": "code",
   "execution_count": 7,
   "id": "988265b8",
   "metadata": {},
   "outputs": [],
   "source": [
    "na=np.arange(42)"
   ]
  },
  {
   "cell_type": "code",
   "execution_count": 8,
   "id": "365ba822",
   "metadata": {},
   "outputs": [
    {
     "name": "stdout",
     "output_type": "stream",
     "text": [
      "[ 0  1  2  3  4  5  6  7  8  9 10 11 12 13 14 15 16 17 18 19 20 21 22 23\n",
      " 24 25 26 27 28 29 30 31 32 33 34 35 36 37 38 39 40 41]\n"
     ]
    }
   ],
   "source": [
    "print(na)"
   ]
  },
  {
   "cell_type": "code",
   "execution_count": 9,
   "id": "fa78522f",
   "metadata": {},
   "outputs": [
    {
     "data": {
      "text/plain": [
       "array([2, 3, 4, 5, 6, 7, 8, 9])"
      ]
     },
     "execution_count": 9,
     "metadata": {},
     "output_type": "execute_result"
    }
   ],
   "source": [
    "na[2:10]"
   ]
  },
  {
   "cell_type": "code",
   "execution_count": 11,
   "id": "8737a597",
   "metadata": {},
   "outputs": [
    {
     "data": {
      "text/plain": [
       "(42,)"
      ]
     },
     "execution_count": 11,
     "metadata": {},
     "output_type": "execute_result"
    }
   ],
   "source": [
    "na.shape"
   ]
  },
  {
   "cell_type": "code",
   "execution_count": 72,
   "id": "368c0822",
   "metadata": {},
   "outputs": [],
   "source": [
    "na.shape=(6,7)"
   ]
  },
  {
   "cell_type": "code",
   "execution_count": 73,
   "id": "c9875c19",
   "metadata": {},
   "outputs": [
    {
     "name": "stdout",
     "output_type": "stream",
     "text": [
      "[[ 0  1  2  3  4  5  6]\n",
      " [ 7  8  9 10 11 12 13]\n",
      " [14 15 16 17 18 19 20]\n",
      " [21 22 23 24 25 26 27]\n",
      " [28 29 30 31 32 33 34]\n",
      " [35 36 37 38 39 40 41]]\n"
     ]
    }
   ],
   "source": [
    "print(na)"
   ]
  },
  {
   "cell_type": "code",
   "execution_count": 77,
   "id": "0a5b9c60",
   "metadata": {},
   "outputs": [
    {
     "data": {
      "text/plain": [
       "array([[ 8,  9],\n",
       "       [15, 16],\n",
       "       [22, 23]])"
      ]
     },
     "execution_count": 77,
     "metadata": {},
     "output_type": "execute_result"
    }
   ],
   "source": [
    "na[1:4,1:3]"
   ]
  },
  {
   "cell_type": "code",
   "execution_count": 82,
   "id": "1e3c5a53",
   "metadata": {},
   "outputs": [
    {
     "data": {
      "text/plain": [
       "array([[16, 17, 18, 19],\n",
       "       [23, 24, 25, 26],\n",
       "       [30, 31, 32, 33]])"
      ]
     },
     "execution_count": 82,
     "metadata": {},
     "output_type": "execute_result"
    }
   ],
   "source": [
    "na[2:5,2:6]"
   ]
  },
  {
   "cell_type": "code",
   "execution_count": 21,
   "id": "f7091714",
   "metadata": {},
   "outputs": [],
   "source": [
    "na=np.arange(42)"
   ]
  },
  {
   "cell_type": "code",
   "execution_count": 22,
   "id": "18fc7775",
   "metadata": {},
   "outputs": [
    {
     "name": "stdout",
     "output_type": "stream",
     "text": [
      "[ 0  1  2  3  4  5  6  7  8  9 10 11 12 13 14 15 16 17 18 19 20 21 22 23\n",
      " 24 25 26 27 28 29 30 31 32 33 34 35 36 37 38 39 40 41]\n"
     ]
    }
   ],
   "source": [
    "print(na)"
   ]
  },
  {
   "cell_type": "code",
   "execution_count": 23,
   "id": "e8662959",
   "metadata": {},
   "outputs": [
    {
     "data": {
      "text/plain": [
       "array([[ 0,  1,  2,  3,  4,  5,  6],\n",
       "       [ 7,  8,  9, 10, 11, 12, 13],\n",
       "       [14, 15, 16, 17, 18, 19, 20],\n",
       "       [21, 22, 23, 24, 25, 26, 27],\n",
       "       [28, 29, 30, 31, 32, 33, 34],\n",
       "       [35, 36, 37, 38, 39, 40, 41]])"
      ]
     },
     "execution_count": 23,
     "metadata": {},
     "output_type": "execute_result"
    }
   ],
   "source": [
    "na.reshape(6,7)"
   ]
  },
  {
   "cell_type": "markdown",
   "id": "8ea21fff",
   "metadata": {},
   "source": [
    "## shape is a parameter reshape is a function"
   ]
  },
  {
   "cell_type": "code",
   "execution_count": 25,
   "id": "1a484b3a",
   "metadata": {},
   "outputs": [
    {
     "data": {
      "text/plain": [
       "array([[ 0,  1,  2,  3,  4,  5],\n",
       "       [ 6,  7,  8,  9, 10, 11],\n",
       "       [12, 13, 14, 15, 16, 17],\n",
       "       [18, 19, 20, 21, 22, 23],\n",
       "       [24, 25, 26, 27, 28, 29],\n",
       "       [30, 31, 32, 33, 34, 35],\n",
       "       [36, 37, 38, 39, 40, 41]])"
      ]
     },
     "execution_count": 25,
     "metadata": {},
     "output_type": "execute_result"
    }
   ],
   "source": [
    "na.reshape(7,-1)"
   ]
  },
  {
   "cell_type": "code",
   "execution_count": 26,
   "id": "a78c286a",
   "metadata": {},
   "outputs": [
    {
     "data": {
      "text/plain": [
       "array([[ 0,  1,  2,  3,  4,  5,  6],\n",
       "       [ 7,  8,  9, 10, 11, 12, 13],\n",
       "       [14, 15, 16, 17, 18, 19, 20],\n",
       "       [21, 22, 23, 24, 25, 26, 27],\n",
       "       [28, 29, 30, 31, 32, 33, 34],\n",
       "       [35, 36, 37, 38, 39, 40, 41]])"
      ]
     },
     "execution_count": 26,
     "metadata": {},
     "output_type": "execute_result"
    }
   ],
   "source": [
    "na.reshape(-1,7)"
   ]
  },
  {
   "cell_type": "code",
   "execution_count": 27,
   "id": "4a27a3d6",
   "metadata": {},
   "outputs": [
    {
     "ename": "ValueError",
     "evalue": "can only specify one unknown dimension",
     "output_type": "error",
     "traceback": [
      "\u001b[1;31m---------------------------------------------------------------------------\u001b[0m",
      "\u001b[1;31mValueError\u001b[0m                                Traceback (most recent call last)",
      "\u001b[1;32m~\\AppData\\Local\\Temp\\ipykernel_14052\\2090521189.py\u001b[0m in \u001b[0;36m<module>\u001b[1;34m\u001b[0m\n\u001b[1;32m----> 1\u001b[1;33m \u001b[0mna\u001b[0m\u001b[1;33m.\u001b[0m\u001b[0mreshape\u001b[0m\u001b[1;33m(\u001b[0m\u001b[1;33m-\u001b[0m\u001b[1;36m1\u001b[0m\u001b[1;33m,\u001b[0m\u001b[1;33m-\u001b[0m\u001b[1;36m1\u001b[0m\u001b[1;33m)\u001b[0m\u001b[1;33m\u001b[0m\u001b[1;33m\u001b[0m\u001b[0m\n\u001b[0m",
      "\u001b[1;31mValueError\u001b[0m: can only specify one unknown dimension"
     ]
    }
   ],
   "source": [
    "na.reshape(-1,-1)"
   ]
  },
  {
   "cell_type": "markdown",
   "id": "7e525417",
   "metadata": {},
   "source": [
    "## can only specify one unknown value"
   ]
  },
  {
   "cell_type": "code",
   "execution_count": 89,
   "id": "df406ed2",
   "metadata": {},
   "outputs": [],
   "source": [
    "na=np.arange(42)"
   ]
  },
  {
   "cell_type": "code",
   "execution_count": 90,
   "id": "47ab1a0b",
   "metadata": {},
   "outputs": [
    {
     "name": "stdout",
     "output_type": "stream",
     "text": [
      "[ 0  1  2  3  4  5  6  7  8  9 10 11 12 13 14 15 16 17 18 19 20 21 22 23\n",
      " 24 25 26 27 28 29 30 31 32 33 34 35 36 37 38 39 40 41]\n"
     ]
    }
   ],
   "source": [
    "print(na)"
   ]
  },
  {
   "cell_type": "code",
   "execution_count": 28,
   "id": "3e232272",
   "metadata": {},
   "outputs": [],
   "source": [
    "na=np.random.randint(2,100,30)"
   ]
  },
  {
   "cell_type": "code",
   "execution_count": 29,
   "id": "1ef69f64",
   "metadata": {},
   "outputs": [
    {
     "name": "stdout",
     "output_type": "stream",
     "text": [
      "[69 15  4 75 51 81 35 98 54 60 34 19 36 26 49 57 70 79 36 89 81 86 94 50\n",
      "  2  8 55 20 16 91]\n"
     ]
    }
   ],
   "source": [
    "print(na)"
   ]
  },
  {
   "cell_type": "code",
   "execution_count": 30,
   "id": "2aefef3c",
   "metadata": {},
   "outputs": [
    {
     "data": {
      "text/plain": [
       "98"
      ]
     },
     "execution_count": 30,
     "metadata": {},
     "output_type": "execute_result"
    }
   ],
   "source": [
    "na.max()"
   ]
  },
  {
   "cell_type": "code",
   "execution_count": 31,
   "id": "224d0654",
   "metadata": {},
   "outputs": [
    {
     "data": {
      "text/plain": [
       "2"
      ]
     },
     "execution_count": 31,
     "metadata": {},
     "output_type": "execute_result"
    }
   ],
   "source": [
    "na.min()"
   ]
  },
  {
   "cell_type": "code",
   "execution_count": 32,
   "id": "7b8859a6",
   "metadata": {},
   "outputs": [
    {
     "data": {
      "text/plain": [
       "51.333333333333336"
      ]
     },
     "execution_count": 32,
     "metadata": {},
     "output_type": "execute_result"
    }
   ],
   "source": [
    "na.mean()"
   ]
  },
  {
   "cell_type": "code",
   "execution_count": 33,
   "id": "d7387fd1",
   "metadata": {},
   "outputs": [
    {
     "data": {
      "text/plain": [
       "7"
      ]
     },
     "execution_count": 33,
     "metadata": {},
     "output_type": "execute_result"
    }
   ],
   "source": [
    "na.argmax()"
   ]
  },
  {
   "cell_type": "markdown",
   "id": "6ec26be6",
   "metadata": {},
   "source": [
    "### argmax is in 7th position"
   ]
  },
  {
   "cell_type": "code",
   "execution_count": 34,
   "id": "e28f3524",
   "metadata": {},
   "outputs": [
    {
     "data": {
      "text/plain": [
       "24"
      ]
     },
     "execution_count": 34,
     "metadata": {},
     "output_type": "execute_result"
    }
   ],
   "source": [
    "na.argmin()"
   ]
  },
  {
   "cell_type": "code",
   "execution_count": 35,
   "id": "c72efa9b",
   "metadata": {},
   "outputs": [
    {
     "data": {
      "text/plain": [
       "True"
      ]
     },
     "execution_count": 35,
     "metadata": {},
     "output_type": "execute_result"
    }
   ],
   "source": [
    "na.all()"
   ]
  },
  {
   "cell_type": "code",
   "execution_count": 37,
   "id": "528ba833",
   "metadata": {},
   "outputs": [],
   "source": [
    "na=np.random.random((5,6))"
   ]
  },
  {
   "cell_type": "code",
   "execution_count": 38,
   "id": "02293f8b",
   "metadata": {},
   "outputs": [
    {
     "data": {
      "text/plain": [
       "array([[0.49451757, 0.32298093, 0.53820414, 0.90061516, 0.53357356,\n",
       "        0.22586203],\n",
       "       [0.57262469, 0.21338994, 0.30277085, 0.12661912, 0.28073753,\n",
       "        0.96163291],\n",
       "       [0.41764702, 0.74393225, 0.12134472, 0.25170893, 0.03795277,\n",
       "        0.9228185 ],\n",
       "       [0.51335207, 0.28774913, 0.08308213, 0.69212567, 0.2370346 ,\n",
       "        0.40340868],\n",
       "       [0.56668736, 0.85154938, 0.94077209, 0.47950714, 0.1231387 ,\n",
       "        0.5646777 ]])"
      ]
     },
     "execution_count": 38,
     "metadata": {},
     "output_type": "execute_result"
    }
   ],
   "source": [
    "na"
   ]
  },
  {
   "cell_type": "code",
   "execution_count": 39,
   "id": "5be52cde",
   "metadata": {},
   "outputs": [
    {
     "data": {
      "text/plain": [
       "0.9616329146964702"
      ]
     },
     "execution_count": 39,
     "metadata": {},
     "output_type": "execute_result"
    }
   ],
   "source": [
    "na.max()"
   ]
  },
  {
   "cell_type": "code",
   "execution_count": 40,
   "id": "85c5703e",
   "metadata": {},
   "outputs": [
    {
     "data": {
      "text/plain": [
       "0.03795277031585487"
      ]
     },
     "execution_count": 40,
     "metadata": {},
     "output_type": "execute_result"
    }
   ],
   "source": [
    "na.min()"
   ]
  },
  {
   "cell_type": "code",
   "execution_count": 42,
   "id": "06d305bf",
   "metadata": {},
   "outputs": [
    {
     "data": {
      "text/plain": [
       "array([0.57262469, 0.85154938, 0.94077209, 0.90061516, 0.53357356,\n",
       "       0.96163291])"
      ]
     },
     "execution_count": 42,
     "metadata": {},
     "output_type": "execute_result"
    }
   ],
   "source": [
    "na.max(axis=0)"
   ]
  },
  {
   "cell_type": "code",
   "execution_count": 43,
   "id": "9d0dffc1",
   "metadata": {},
   "outputs": [
    {
     "data": {
      "text/plain": [
       "11"
      ]
     },
     "execution_count": 43,
     "metadata": {},
     "output_type": "execute_result"
    }
   ],
   "source": [
    "na.argmax()"
   ]
  },
  {
   "cell_type": "code",
   "execution_count": 44,
   "id": "1bc00ead",
   "metadata": {},
   "outputs": [
    {
     "data": {
      "text/plain": [
       "array([1, 4, 4, 0, 0, 1], dtype=int64)"
      ]
     },
     "execution_count": 44,
     "metadata": {},
     "output_type": "execute_result"
    }
   ],
   "source": [
    "na.argmax(axis=0)"
   ]
  },
  {
   "cell_type": "code",
   "execution_count": 23,
   "id": "71a29d3a",
   "metadata": {},
   "outputs": [],
   "source": [
    "na=np.random.randint(0,100,30)"
   ]
  },
  {
   "cell_type": "code",
   "execution_count": 24,
   "id": "01dabf4a",
   "metadata": {},
   "outputs": [
    {
     "name": "stdout",
     "output_type": "stream",
     "text": [
      "[39 29 75 57 78 82 88 15 91 38 10 98 34 87 98 27 40 87 46  9 79 38 74 35\n",
      " 24 24 59 25 89  0]\n"
     ]
    }
   ],
   "source": [
    "print(na)"
   ]
  },
  {
   "cell_type": "code",
   "execution_count": 25,
   "id": "c5706d99",
   "metadata": {},
   "outputs": [
    {
     "data": {
      "text/plain": [
       "False"
      ]
     },
     "execution_count": 25,
     "metadata": {},
     "output_type": "execute_result"
    }
   ],
   "source": [
    "na.all()"
   ]
  },
  {
   "cell_type": "markdown",
   "id": "07ff14f7",
   "metadata": {},
   "source": [
    "## if zero is there thn it is false"
   ]
  },
  {
   "cell_type": "code",
   "execution_count": 127,
   "id": "e9bfb65b",
   "metadata": {},
   "outputs": [],
   "source": [
    "na1=np.array([0,1,0])"
   ]
  },
  {
   "cell_type": "code",
   "execution_count": 128,
   "id": "e26a6992",
   "metadata": {},
   "outputs": [
    {
     "data": {
      "text/plain": [
       "False"
      ]
     },
     "execution_count": 128,
     "metadata": {},
     "output_type": "execute_result"
    }
   ],
   "source": [
    "na1.all()"
   ]
  },
  {
   "cell_type": "code",
   "execution_count": 129,
   "id": "600ba3b2",
   "metadata": {},
   "outputs": [
    {
     "data": {
      "text/plain": [
       "True"
      ]
     },
     "execution_count": 129,
     "metadata": {},
     "output_type": "execute_result"
    }
   ],
   "source": [
    "na1.any()"
   ]
  },
  {
   "cell_type": "markdown",
   "id": "368b25fc",
   "metadata": {},
   "source": [
    "## any means any one element is 1 thn it is true everything is 0 thn it is false"
   ]
  },
  {
   "cell_type": "code",
   "execution_count": 11,
   "id": "e97fe824",
   "metadata": {},
   "outputs": [],
   "source": [
    "na=np.array([3,5,76,5,32,4,5,89,66,22,11])"
   ]
  },
  {
   "cell_type": "code",
   "execution_count": 12,
   "id": "55e919bb",
   "metadata": {},
   "outputs": [
    {
     "data": {
      "text/plain": [
       "array([11, 22, 66, 89,  5,  4, 32,  5, 76,  5,  3])"
      ]
     },
     "execution_count": 12,
     "metadata": {},
     "output_type": "execute_result"
    }
   ],
   "source": [
    "np.flip(na)"
   ]
  },
  {
   "cell_type": "code",
   "execution_count": 13,
   "id": "d20978c6",
   "metadata": {},
   "outputs": [
    {
     "data": {
      "text/plain": [
       "array([11, 22, 66, 89,  5,  4, 32,  5, 76,  5,  3])"
      ]
     },
     "execution_count": 13,
     "metadata": {},
     "output_type": "execute_result"
    }
   ],
   "source": [
    "#another way\n",
    "na[::-1]"
   ]
  },
  {
   "cell_type": "code",
   "execution_count": 14,
   "id": "b0f47940",
   "metadata": {},
   "outputs": [],
   "source": [
    "#reverse slicing"
   ]
  },
  {
   "cell_type": "code",
   "execution_count": 15,
   "id": "e9a3e54c",
   "metadata": {},
   "outputs": [
    {
     "data": {
      "text/plain": [
       "array([ 0,  1,  2,  3,  4,  5,  6,  7,  8,  9, 10], dtype=int64)"
      ]
     },
     "execution_count": 15,
     "metadata": {},
     "output_type": "execute_result"
    }
   ],
   "source": [
    "na.argpartition(0)"
   ]
  },
  {
   "cell_type": "code",
   "execution_count": 136,
   "id": "b1e6e42c",
   "metadata": {},
   "outputs": [
    {
     "data": {
      "text/plain": [
       "array([ 8,  9,  2,  3,  4,  5,  6,  7,  0,  1, 10, 11, 12, 13, 14, 15, 16,\n",
       "       17, 18, 19, 20, 21, 22, 23, 24, 25, 26, 27, 28, 29], dtype=int64)"
      ]
     },
     "execution_count": 136,
     "metadata": {},
     "output_type": "execute_result"
    }
   ],
   "source": [
    "na.argpartition(1)"
   ]
  },
  {
   "cell_type": "code",
   "execution_count": 137,
   "id": "3970f28d",
   "metadata": {},
   "outputs": [
    {
     "data": {
      "text/plain": [
       "array([ 8,  9,  0,  3,  4,  5,  6,  7,  2,  1, 10, 11, 12, 13, 14, 15, 16,\n",
       "       17, 18, 19, 20, 21, 22, 23, 24, 25, 26, 27, 28, 29], dtype=int64)"
      ]
     },
     "execution_count": 137,
     "metadata": {},
     "output_type": "execute_result"
    }
   ],
   "source": [
    "na.argpartition(2)"
   ]
  },
  {
   "cell_type": "code",
   "execution_count": 138,
   "id": "f6746949",
   "metadata": {},
   "outputs": [
    {
     "data": {
      "text/plain": [
       "array([ 0,  9,  8, 23, 24, 16, 15,  7, 28,  1, 14, 11, 12, 13, 10,  6,  5,\n",
       "       17, 18, 19, 20, 21, 22,  4,  3, 25, 26, 27,  2, 29], dtype=int64)"
      ]
     },
     "execution_count": 138,
     "metadata": {},
     "output_type": "execute_result"
    }
   ],
   "source": [
    "na.argpartition(3)"
   ]
  },
  {
   "cell_type": "code",
   "execution_count": 139,
   "id": "aa36d83c",
   "metadata": {},
   "outputs": [
    {
     "data": {
      "text/plain": [
       "array([ 0,  9,  8, 23, 24, 15, 16,  7, 28,  1, 14, 11, 12, 13, 10,  6,  5,\n",
       "       17, 18, 19, 20, 21, 22,  4,  3, 25, 26, 27,  2, 29], dtype=int64)"
      ]
     },
     "execution_count": 139,
     "metadata": {},
     "output_type": "execute_result"
    }
   ],
   "source": [
    "na.argpartition(4)"
   ]
  },
  {
   "cell_type": "code",
   "execution_count": 140,
   "id": "dff5a793",
   "metadata": {},
   "outputs": [
    {
     "data": {
      "text/plain": [
       "array([ 0,  9,  8, 23, 24, 15, 16,  7, 28,  1, 14, 11, 12, 13, 10,  6,  5,\n",
       "       17, 18, 19, 20, 21, 22,  4,  3, 25, 26, 27,  2, 29], dtype=int64)"
      ]
     },
     "execution_count": 140,
     "metadata": {},
     "output_type": "execute_result"
    }
   ],
   "source": [
    "na.argpartition(5)"
   ]
  },
  {
   "cell_type": "code",
   "execution_count": 144,
   "id": "f64ecf3b",
   "metadata": {},
   "outputs": [
    {
     "data": {
      "text/plain": [
       "array([ 0,  9,  8, 23, 24, 15, 16,  7, 28,  1, 14, 11, 12, 13, 10,  6,  5,\n",
       "       17, 18, 19, 20, 21, 22,  4,  3, 25, 26, 27,  2, 29], dtype=int64)"
      ]
     },
     "execution_count": 144,
     "metadata": {},
     "output_type": "execute_result"
    }
   ],
   "source": [
    "na.argpartition(6)"
   ]
  },
  {
   "cell_type": "code",
   "execution_count": 145,
   "id": "218ac1bc",
   "metadata": {},
   "outputs": [
    {
     "data": {
      "text/plain": [
       "array([ 0,  9,  8, 23, 24, 15, 16,  7, 28,  1, 14, 11, 12, 13, 10,  6,  5,\n",
       "       17, 18, 19, 20, 21, 22,  4,  3, 25, 26, 27,  2, 29], dtype=int64)"
      ]
     },
     "execution_count": 145,
     "metadata": {},
     "output_type": "execute_result"
    }
   ],
   "source": [
    "na.argpartition(7)"
   ]
  },
  {
   "cell_type": "code",
   "execution_count": 148,
   "id": "fda2b75c",
   "metadata": {},
   "outputs": [
    {
     "data": {
      "text/plain": [
       "array([10, 40, 48, 78, 62, 62, 52, 35,  0,  5, 87, 48, 59, 95, 44, 29, 30,\n",
       "       75, 84, 92, 45, 70, 59, 10, 27, 66, 77, 50, 35, 91])"
      ]
     },
     "execution_count": 148,
     "metadata": {},
     "output_type": "execute_result"
    }
   ],
   "source": [
    "na"
   ]
  },
  {
   "cell_type": "code",
   "execution_count": 152,
   "id": "0b054be4",
   "metadata": {},
   "outputs": [
    {
     "data": {
      "text/plain": [
       "array([ 8,  9,  0, 23, 24, 15, 16, 28,  7,  1, 14, 20,  2, 11, 27,  6, 22,\n",
       "       12,  5,  4, 25, 21, 17, 26,  3, 18, 10, 29, 19, 13], dtype=int64)"
      ]
     },
     "execution_count": 152,
     "metadata": {},
     "output_type": "execute_result"
    }
   ],
   "source": [
    "na.argsort()"
   ]
  },
  {
   "cell_type": "markdown",
   "id": "f0b6d5ea",
   "metadata": {},
   "source": [
    "## argsort is sorting in position incresing order"
   ]
  },
  {
   "cell_type": "code",
   "execution_count": 154,
   "id": "f7233208",
   "metadata": {},
   "outputs": [
    {
     "data": {
      "text/plain": [
       "array([10., 40., 48., 78., 62., 62., 52., 35.,  0.,  5., 87., 48., 59.,\n",
       "       95., 44., 29., 30., 75., 84., 92., 45., 70., 59., 10., 27., 66.,\n",
       "       77., 50., 35., 91.])"
      ]
     },
     "execution_count": 154,
     "metadata": {},
     "output_type": "execute_result"
    }
   ],
   "source": [
    "na.astype(float)"
   ]
  },
  {
   "cell_type": "code",
   "execution_count": 155,
   "id": "104b1353",
   "metadata": {},
   "outputs": [
    {
     "data": {
      "text/plain": [
       "array([10, 40, 48, 78, 62, 62, 52, 35,  0,  5, 87, 48, 59, 95, 44, 29, 30,\n",
       "       75, 84, 92, 45, 70, 59, 10, 27, 66, 77, 50, 35, 91])"
      ]
     },
     "execution_count": 155,
     "metadata": {},
     "output_type": "execute_result"
    }
   ],
   "source": [
    "na"
   ]
  },
  {
   "cell_type": "code",
   "execution_count": 156,
   "id": "df678d89",
   "metadata": {},
   "outputs": [
    {
     "data": {
      "text/plain": [
       "array(['10', '40', '48', '78', '62', '62', '52', '35', '0', '5', '87',\n",
       "       '48', '59', '95', '44', '29', '30', '75', '84', '92', '45', '70',\n",
       "       '59', '10', '27', '66', '77', '50', '35', '91'], dtype='<U11')"
      ]
     },
     "execution_count": 156,
     "metadata": {},
     "output_type": "execute_result"
    }
   ],
   "source": [
    "na.astype(str)"
   ]
  },
  {
   "cell_type": "code",
   "execution_count": 5,
   "id": "c8d0f8a3",
   "metadata": {},
   "outputs": [],
   "source": [
    "na=np.array([[3,4,5],[34,45,66],[53,2,21]])"
   ]
  },
  {
   "cell_type": "code",
   "execution_count": 4,
   "id": "caa044e6",
   "metadata": {},
   "outputs": [
    {
     "data": {
      "text/plain": [
       "array([53, 45,  5])"
      ]
     },
     "execution_count": 4,
     "metadata": {},
     "output_type": "execute_result"
    }
   ],
   "source": [
    "np.choose([2,1,0],na)"
   ]
  },
  {
   "cell_type": "code",
   "execution_count": 6,
   "id": "ad4d9f14",
   "metadata": {},
   "outputs": [
    {
     "data": {
      "text/plain": [
       "array([[ 3,  4,  5],\n",
       "       [34, 45, 66],\n",
       "       [53,  2, 21]])"
      ]
     },
     "execution_count": 6,
     "metadata": {},
     "output_type": "execute_result"
    }
   ],
   "source": [
    "na"
   ]
  },
  {
   "cell_type": "code",
   "execution_count": 7,
   "id": "a80a7679",
   "metadata": {},
   "outputs": [
    {
     "data": {
      "text/plain": [
       "array([[ 5,  5,  5],\n",
       "       [34, 45, 50],\n",
       "       [50,  5, 21]])"
      ]
     },
     "execution_count": 7,
     "metadata": {},
     "output_type": "execute_result"
    }
   ],
   "source": [
    "na.clip(5,50)"
   ]
  },
  {
   "cell_type": "markdown",
   "id": "4972180e",
   "metadata": {},
   "source": [
    "# below 5 above 50 will be replaced with 5 and 50."
   ]
  },
  {
   "cell_type": "code",
   "execution_count": 23,
   "id": "5fac0a6c",
   "metadata": {},
   "outputs": [
    {
     "data": {
      "text/plain": [
       "array([[ 3,  4,  5],\n",
       "       [34, 45, 66],\n",
       "       [53,  2, 21]])"
      ]
     },
     "execution_count": 23,
     "metadata": {},
     "output_type": "execute_result"
    }
   ],
   "source": [
    "\n",
    "na"
   ]
  },
  {
   "cell_type": "code",
   "execution_count": 31,
   "id": "9df6a02c",
   "metadata": {},
   "outputs": [],
   "source": [
    "na.fill(0)"
   ]
  },
  {
   "cell_type": "code",
   "execution_count": 32,
   "id": "0c1c76ad",
   "metadata": {},
   "outputs": [
    {
     "name": "stdout",
     "output_type": "stream",
     "text": [
      "[0 0 0 0 0 0 0 0 0 0 0 0 0 0 0 0 0 0 0 0 0 0 0 0 0 0 0 0 0 0]\n"
     ]
    }
   ],
   "source": [
    "print(na)"
   ]
  },
  {
   "cell_type": "code",
   "execution_count": 33,
   "id": "645a095c",
   "metadata": {},
   "outputs": [
    {
     "name": "stdout",
     "output_type": "stream",
     "text": [
      "[39 29 75 57 78 82 88 15 91 38 10 98 34 87 98 27 40 87 46  9 79 38 74 35\n",
      " 24 24 59 25 89  0]\n"
     ]
    }
   ],
   "source": [
    "print(na2)"
   ]
  },
  {
   "cell_type": "code",
   "execution_count": 78,
   "id": "2ab47442",
   "metadata": {},
   "outputs": [],
   "source": [
    "na1=np.random.randint(0,100,30)"
   ]
  },
  {
   "cell_type": "code",
   "execution_count": 79,
   "id": "b7a107da",
   "metadata": {},
   "outputs": [
    {
     "name": "stdout",
     "output_type": "stream",
     "text": [
      "[84 28 28 87 58 21 95 34 10 95 47 94 41 14 26 37 82 66 37 82  9 72 21 69\n",
      " 40 53 38 37 26 99]\n"
     ]
    }
   ],
   "source": [
    "print(na1)"
   ]
  },
  {
   "cell_type": "code",
   "execution_count": 46,
   "id": "cc4fe89c",
   "metadata": {},
   "outputs": [
    {
     "data": {
      "text/plain": [
       "array([         95,        4180,      234080,    23173920,  1575826560,\n",
       "        1636139648, -1433535872, -1529421312, -1759779840,  1281399808,\n",
       "        -592575488, -1645247488, -1385390080, -1660403712, -1814134784,\n",
       "        1968406528,  1246330880, -1551990784,  1008828416,  2128379904,\n",
       "        -840564736,  -206831616, -2006974464,  1686110208,   696254464,\n",
       "         335544320,  1879048192, -1610612736,  1073741824, -1073741824],\n",
       "      dtype=int32)"
      ]
     },
     "execution_count": 46,
     "metadata": {},
     "output_type": "execute_result"
    }
   ],
   "source": [
    "na1.cumprod()"
   ]
  },
  {
   "cell_type": "markdown",
   "id": "ba2b5e3c",
   "metadata": {},
   "source": [
    "### cumprod is cumulative product multiply the next element"
   ]
  },
  {
   "cell_type": "code",
   "execution_count": 48,
   "id": "89d5fefa",
   "metadata": {
    "scrolled": true
   },
   "outputs": [
    {
     "data": {
      "text/plain": [
       "array([  95,  139,  195,  294,  362,  423,  472,  524,  542,  573,  596,\n",
       "        693,  733,  759,  817,  868,  921,  968, 1031, 1114, 1158, 1240,\n",
       "       1312, 1324, 1383, 1439, 1483, 1537, 1611, 1702], dtype=int32)"
      ]
     },
     "execution_count": 48,
     "metadata": {},
     "output_type": "execute_result"
    }
   ],
   "source": [
    "na1.cumsum()"
   ]
  },
  {
   "cell_type": "markdown",
   "id": "fda2eaba",
   "metadata": {},
   "source": [
    "### cumsum is a cumulative sum add the next element"
   ]
  },
  {
   "cell_type": "code",
   "execution_count": 28,
   "id": "104d5e5e",
   "metadata": {},
   "outputs": [],
   "source": [
    "na=np.array([[3,4,5],[6,7,8],[9,34,6]])"
   ]
  },
  {
   "cell_type": "code",
   "execution_count": 29,
   "id": "104985fc",
   "metadata": {},
   "outputs": [
    {
     "name": "stdout",
     "output_type": "stream",
     "text": [
      "[[ 3  4  5]\n",
      " [ 6  7  8]\n",
      " [ 9 34  6]]\n"
     ]
    }
   ],
   "source": [
    "print(na)"
   ]
  },
  {
   "cell_type": "code",
   "execution_count": 30,
   "id": "ca9bc61c",
   "metadata": {},
   "outputs": [
    {
     "data": {
      "text/plain": [
       "array([3, 7, 6])"
      ]
     },
     "execution_count": 30,
     "metadata": {},
     "output_type": "execute_result"
    }
   ],
   "source": [
    "na.diagonal()"
   ]
  },
  {
   "cell_type": "code",
   "execution_count": 31,
   "id": "66d17b6f",
   "metadata": {},
   "outputs": [
    {
     "data": {
      "text/plain": [
       "array([4, 8])"
      ]
     },
     "execution_count": 31,
     "metadata": {},
     "output_type": "execute_result"
    }
   ],
   "source": [
    "na.diagonal(1)"
   ]
  },
  {
   "cell_type": "code",
   "execution_count": 32,
   "id": "b9e963a7",
   "metadata": {},
   "outputs": [
    {
     "data": {
      "text/plain": [
       "array([3, 7, 6])"
      ]
     },
     "execution_count": 32,
     "metadata": {},
     "output_type": "execute_result"
    }
   ],
   "source": [
    "na.diagonal(0)"
   ]
  },
  {
   "cell_type": "code",
   "execution_count": 34,
   "id": "80ca2800",
   "metadata": {},
   "outputs": [
    {
     "data": {
      "text/plain": [
       "array([[ 6,  8, 10],\n",
       "       [12, 14, 16],\n",
       "       [18, 68, 12]])"
      ]
     },
     "execution_count": 34,
     "metadata": {},
     "output_type": "execute_result"
    }
   ],
   "source": [
    " na.dot(2)"
   ]
  },
  {
   "cell_type": "code",
   "execution_count": 80,
   "id": "a4c2ea45",
   "metadata": {},
   "outputs": [
    {
     "name": "stdout",
     "output_type": "stream",
     "text": [
      "[84 28 28 87 58 21 95 34 10 95 47 94 41 14 26 37 82 66 37 82  9 72 21 69\n",
      " 40 53 38 37 26 99]\n"
     ]
    }
   ],
   "source": [
    "print(na1)"
   ]
  },
  {
   "cell_type": "code",
   "execution_count": 81,
   "id": "2743e839",
   "metadata": {},
   "outputs": [
    {
     "data": {
      "text/plain": [
       "array([168,  56,  56, 174, 116,  42, 190,  68,  20, 190,  94, 188,  82,\n",
       "        28,  52,  74, 164, 132,  74, 164,  18, 144,  42, 138,  80, 106,\n",
       "        76,  74,  52, 198])"
      ]
     },
     "execution_count": 81,
     "metadata": {},
     "output_type": "execute_result"
    }
   ],
   "source": [
    "na1.dot(2)"
   ]
  },
  {
   "cell_type": "markdown",
   "id": "8e1a0dcb",
   "metadata": {},
   "source": [
    "### dot it is a product of two array"
   ]
  },
  {
   "cell_type": "code",
   "execution_count": 234,
   "id": "2e6bb3f2",
   "metadata": {},
   "outputs": [],
   "source": [
    "na=np.array([1,2,3,4,5,6,7])"
   ]
  },
  {
   "cell_type": "code",
   "execution_count": 235,
   "id": "a2f1f89d",
   "metadata": {},
   "outputs": [
    {
     "data": {
      "text/plain": [
       "4"
      ]
     },
     "execution_count": 235,
     "metadata": {},
     "output_type": "execute_result"
    }
   ],
   "source": [
    "na.item(3)"
   ]
  },
  {
   "cell_type": "code",
   "execution_count": 237,
   "id": "0d84ede6",
   "metadata": {},
   "outputs": [
    {
     "data": {
      "text/plain": [
       "7"
      ]
     },
     "execution_count": 237,
     "metadata": {},
     "output_type": "execute_result"
    }
   ],
   "source": [
    "na.item(6)"
   ]
  },
  {
   "cell_type": "markdown",
   "id": "02de830b",
   "metadata": {},
   "source": [
    "## position of an element"
   ]
  },
  {
   "cell_type": "code",
   "execution_count": 4,
   "id": "e226bb32",
   "metadata": {},
   "outputs": [],
   "source": [
    "na1=np.array([[1,2,3],[4,5,6],[6,5,4]])"
   ]
  },
  {
   "cell_type": "code",
   "execution_count": 241,
   "id": "808d3337",
   "metadata": {},
   "outputs": [
    {
     "data": {
      "text/plain": [
       "4"
      ]
     },
     "execution_count": 241,
     "metadata": {},
     "output_type": "execute_result"
    }
   ],
   "source": [
    "na1.item(3)"
   ]
  },
  {
   "cell_type": "code",
   "execution_count": 244,
   "id": "a56ffdfc",
   "metadata": {},
   "outputs": [
    {
     "data": {
      "text/plain": [
       "6"
      ]
     },
     "execution_count": 244,
     "metadata": {},
     "output_type": "execute_result"
    }
   ],
   "source": [
    "na1.item(5)"
   ]
  },
  {
   "cell_type": "code",
   "execution_count": 246,
   "id": "ab34631a",
   "metadata": {},
   "outputs": [
    {
     "data": {
      "text/plain": [
       "6"
      ]
     },
     "execution_count": 246,
     "metadata": {},
     "output_type": "execute_result"
    }
   ],
   "source": [
    "na1.item((1,2))"
   ]
  },
  {
   "cell_type": "code",
   "execution_count": 249,
   "id": "cb062d9f",
   "metadata": {},
   "outputs": [
    {
     "data": {
      "text/plain": [
       "4"
      ]
     },
     "execution_count": 249,
     "metadata": {},
     "output_type": "execute_result"
    }
   ],
   "source": [
    "na1.item((2,2))"
   ]
  },
  {
   "cell_type": "markdown",
   "id": "b6c407ef",
   "metadata": {},
   "source": [
    "## item means gives the position in case of 2 elements one will define row number and other position or index"
   ]
  },
  {
   "cell_type": "code",
   "execution_count": 8,
   "id": "f0989203",
   "metadata": {},
   "outputs": [],
   "source": [
    "na=np.random.randint(0,100,30)"
   ]
  },
  {
   "cell_type": "code",
   "execution_count": 10,
   "id": "dd949d3b",
   "metadata": {},
   "outputs": [
    {
     "name": "stdout",
     "output_type": "stream",
     "text": [
      "[78 26 33 19 58 91 70 76 11 42 33 66 45 45 33 53 93 62 37 69 85 90 18 69\n",
      "  8 54 65  2  1 38]\n"
     ]
    }
   ],
   "source": [
    "print(na)"
   ]
  },
  {
   "cell_type": "code",
   "execution_count": 15,
   "id": "76afadbe",
   "metadata": {},
   "outputs": [],
   "source": [
    "bytes=na.nbytes"
   ]
  },
  {
   "cell_type": "code",
   "execution_count": 16,
   "id": "fcedfe00",
   "metadata": {},
   "outputs": [
    {
     "data": {
      "text/plain": [
       "120"
      ]
     },
     "execution_count": 16,
     "metadata": {},
     "output_type": "execute_result"
    }
   ],
   "source": [
    "bytes"
   ]
  },
  {
   "cell_type": "code",
   "execution_count": 31,
   "id": "20a4424d",
   "metadata": {},
   "outputs": [],
   "source": [
    "na=np.array([[2,3,4],[3,6,8],[6,9,3]])"
   ]
  },
  {
   "cell_type": "code",
   "execution_count": 32,
   "id": "b206e5c2",
   "metadata": {},
   "outputs": [
    {
     "data": {
      "text/plain": [
       "36"
      ]
     },
     "execution_count": 32,
     "metadata": {},
     "output_type": "execute_result"
    }
   ],
   "source": [
    "na.nbytes"
   ]
  },
  {
   "cell_type": "code",
   "execution_count": 33,
   "id": "7c80d9f2",
   "metadata": {},
   "outputs": [],
   "source": [
    "na=np.array([3,4,5,6,7,8,9,3,4,6,7,7,7,8,4])"
   ]
  },
  {
   "cell_type": "code",
   "execution_count": 34,
   "id": "d4c14f4b",
   "metadata": {},
   "outputs": [
    {
     "data": {
      "text/plain": [
       "60"
      ]
     },
     "execution_count": 34,
     "metadata": {},
     "output_type": "execute_result"
    }
   ],
   "source": [
    "na.nbytes"
   ]
  },
  {
   "cell_type": "markdown",
   "id": "e9b0eee0",
   "metadata": {},
   "source": [
    "## Total bytes consumed by the elements of the array."
   ]
  },
  {
   "cell_type": "code",
   "execution_count": 35,
   "id": "d727ad95",
   "metadata": {},
   "outputs": [],
   "source": [
    "na=np.array([[3,4,5],[4,8,7]])"
   ]
  },
  {
   "cell_type": "code",
   "execution_count": 36,
   "id": "5f1e2ddd",
   "metadata": {},
   "outputs": [
    {
     "data": {
      "text/plain": [
       "2"
      ]
     },
     "execution_count": 36,
     "metadata": {},
     "output_type": "execute_result"
    }
   ],
   "source": [
    "na.ndim"
   ]
  },
  {
   "cell_type": "markdown",
   "id": "4705eb05",
   "metadata": {},
   "source": [
    "## ndim means Number of array dimensions (how many dimensions are there)"
   ]
  },
  {
   "cell_type": "code",
   "execution_count": 37,
   "id": "c3f9a2e1",
   "metadata": {},
   "outputs": [],
   "source": [
    "na=np.random.rand(3,3)"
   ]
  },
  {
   "cell_type": "code",
   "execution_count": 38,
   "id": "66b82628",
   "metadata": {},
   "outputs": [
    {
     "name": "stdout",
     "output_type": "stream",
     "text": [
      "[[0.96675351 0.25756248 0.4558398 ]\n",
      " [0.43743558 0.45992946 0.63009138]\n",
      " [0.98962018 0.01637716 0.31440563]]\n"
     ]
    }
   ],
   "source": [
    "print(na)"
   ]
  },
  {
   "cell_type": "code",
   "execution_count": 39,
   "id": "ba365c93",
   "metadata": {},
   "outputs": [],
   "source": [
    "na=np.array([[3,4,5],[4,8,7]])"
   ]
  },
  {
   "cell_type": "code",
   "execution_count": 40,
   "id": "798738a7",
   "metadata": {},
   "outputs": [
    {
     "data": {
      "text/plain": [
       "array([[ 50331648,  67108864,  83886080],\n",
       "       [ 67108864, 134217728, 117440512]])"
      ]
     },
     "execution_count": 40,
     "metadata": {},
     "output_type": "execute_result"
    }
   ],
   "source": [
    "na.newbyteorder()"
   ]
  },
  {
   "cell_type": "code",
   "execution_count": 43,
   "id": "a45b0e2d",
   "metadata": {},
   "outputs": [],
   "source": [
    "na=np.array([9,8])"
   ]
  },
  {
   "cell_type": "code",
   "execution_count": 44,
   "id": "2f2523e2",
   "metadata": {},
   "outputs": [
    {
     "data": {
      "text/plain": [
       "array([150994944, 134217728])"
      ]
     },
     "execution_count": 44,
     "metadata": {},
     "output_type": "execute_result"
    }
   ],
   "source": [
    "na.newbyteorder()"
   ]
  },
  {
   "cell_type": "code",
   "execution_count": 58,
   "id": "243553c3",
   "metadata": {},
   "outputs": [],
   "source": [
    "na=np.array([[3,4,5],[4,8,7]])"
   ]
  },
  {
   "cell_type": "code",
   "execution_count": 59,
   "id": "36fd8805",
   "metadata": {},
   "outputs": [
    {
     "data": {
      "text/plain": [
       "array([[3, 4, 5],\n",
       "       [4, 8, 7]])"
      ]
     },
     "execution_count": 59,
     "metadata": {},
     "output_type": "execute_result"
    }
   ],
   "source": [
    "na"
   ]
  },
  {
   "cell_type": "code",
   "execution_count": 60,
   "id": "6a9f9fd7",
   "metadata": {},
   "outputs": [
    {
     "data": {
      "text/plain": [
       "(array([0, 0, 0, 1, 1, 1], dtype=int64),\n",
       " array([0, 1, 2, 0, 1, 2], dtype=int64))"
      ]
     },
     "execution_count": 60,
     "metadata": {},
     "output_type": "execute_result"
    }
   ],
   "source": [
    "na.nonzero()"
   ]
  },
  {
   "cell_type": "code",
   "execution_count": 51,
   "id": "8da44eea",
   "metadata": {},
   "outputs": [],
   "source": [
    "na=np.array([3,4,5,6,7,7,2])"
   ]
  },
  {
   "cell_type": "code",
   "execution_count": 52,
   "id": "d27169f0",
   "metadata": {},
   "outputs": [
    {
     "data": {
      "text/plain": [
       "(array([0, 1, 2, 3, 4, 5, 6], dtype=int64),)"
      ]
     },
     "execution_count": 52,
     "metadata": {},
     "output_type": "execute_result"
    }
   ],
   "source": [
    "na.nonzero()"
   ]
  },
  {
   "cell_type": "code",
   "execution_count": 61,
   "id": "24bef651",
   "metadata": {},
   "outputs": [],
   "source": [
    "na=np.array([1,3,0,10,6,4])"
   ]
  },
  {
   "cell_type": "code",
   "execution_count": 56,
   "id": "334b8810",
   "metadata": {},
   "outputs": [
    {
     "data": {
      "text/plain": [
       "(array([0, 1, 3, 4, 5], dtype=int64),)"
      ]
     },
     "execution_count": 56,
     "metadata": {},
     "output_type": "execute_result"
    }
   ],
   "source": [
    "na.nonzero()"
   ]
  },
  {
   "cell_type": "markdown",
   "id": "b8d0fad3",
   "metadata": {},
   "source": [
    "## Return the indices of the elements that are non-zero."
   ]
  },
  {
   "cell_type": "code",
   "execution_count": 107,
   "id": "1a44fc33",
   "metadata": {},
   "outputs": [],
   "source": [
    "na=np.array([1,2,5,8,4,9,5,3,0,10,6,4])"
   ]
  },
  {
   "cell_type": "code",
   "execution_count": 108,
   "id": "18819f46",
   "metadata": {},
   "outputs": [
    {
     "data": {
      "text/plain": [
       "array([ 1,  2,  5,  8,  4,  9,  5,  3,  0, 10,  6,  4])"
      ]
     },
     "execution_count": 108,
     "metadata": {},
     "output_type": "execute_result"
    }
   ],
   "source": [
    "na"
   ]
  },
  {
   "cell_type": "code",
   "execution_count": 109,
   "id": "04317de4",
   "metadata": {},
   "outputs": [],
   "source": [
    "na.partition(6)"
   ]
  },
  {
   "cell_type": "code",
   "execution_count": 110,
   "id": "6c2aeded",
   "metadata": {},
   "outputs": [
    {
     "data": {
      "text/plain": [
       "array([ 2,  1,  0,  3,  4,  4,  5,  5,  8, 10,  6,  9])"
      ]
     },
     "execution_count": 110,
     "metadata": {},
     "output_type": "execute_result"
    }
   ],
   "source": [
    "na"
   ]
  },
  {
   "cell_type": "code",
   "execution_count": 111,
   "id": "43dd0bf8",
   "metadata": {},
   "outputs": [],
   "source": [
    "na.partition(5)"
   ]
  },
  {
   "cell_type": "code",
   "execution_count": 112,
   "id": "cf1a297f",
   "metadata": {},
   "outputs": [
    {
     "data": {
      "text/plain": [
       "array([ 1,  2,  0,  3,  4,  4,  5,  5,  6,  8, 10,  9])"
      ]
     },
     "execution_count": 112,
     "metadata": {},
     "output_type": "execute_result"
    }
   ],
   "source": [
    "na"
   ]
  },
  {
   "cell_type": "code",
   "execution_count": 113,
   "id": "2a4388c2",
   "metadata": {},
   "outputs": [],
   "source": [
    "na.partition(9)"
   ]
  },
  {
   "cell_type": "code",
   "execution_count": 114,
   "id": "8e876a5b",
   "metadata": {},
   "outputs": [
    {
     "data": {
      "text/plain": [
       "array([ 2,  1,  0,  3,  4,  5,  4,  5,  6,  8,  9, 10])"
      ]
     },
     "execution_count": 114,
     "metadata": {},
     "output_type": "execute_result"
    }
   ],
   "source": [
    "na"
   ]
  },
  {
   "cell_type": "markdown",
   "id": "525093b9",
   "metadata": {},
   "source": [
    "## Rearranges the elements in the array in such a way that the value of the element in kth position is in the position it would be in a sorted array. All elements smaller than the kth element are moved before this element and all equal or greater are moved behind it. The ordering of the elements in the two partitions is undefined."
   ]
  },
  {
   "cell_type": "code",
   "execution_count": 116,
   "id": "686bf50f",
   "metadata": {},
   "outputs": [],
   "source": [
    "na=np.array([[2,3,4],[5,6,7]])"
   ]
  },
  {
   "cell_type": "code",
   "execution_count": 117,
   "id": "44f8fe76",
   "metadata": {},
   "outputs": [
    {
     "data": {
      "text/plain": [
       "5040"
      ]
     },
     "execution_count": 117,
     "metadata": {},
     "output_type": "execute_result"
    }
   ],
   "source": [
    "na.prod()"
   ]
  },
  {
   "cell_type": "code",
   "execution_count": 118,
   "id": "b7b361a5",
   "metadata": {},
   "outputs": [],
   "source": [
    "na=np.array([[2,3,4],[5,0,7]])"
   ]
  },
  {
   "cell_type": "code",
   "execution_count": 119,
   "id": "1b9eb1e8",
   "metadata": {},
   "outputs": [
    {
     "data": {
      "text/plain": [
       "0"
      ]
     },
     "execution_count": 119,
     "metadata": {},
     "output_type": "execute_result"
    }
   ],
   "source": [
    "na.prod()"
   ]
  },
  {
   "cell_type": "markdown",
   "id": "ae3694fc",
   "metadata": {},
   "source": [
    "### 0 product anything return zero"
   ]
  },
  {
   "cell_type": "markdown",
   "id": "ca184ac4",
   "metadata": {},
   "source": [
    "## Return the product of the array elements over the given axis"
   ]
  },
  {
   "cell_type": "code",
   "execution_count": 120,
   "id": "829b30bc",
   "metadata": {},
   "outputs": [],
   "source": [
    "na=np.array([[2,3,4],[5,6,7]])"
   ]
  },
  {
   "cell_type": "code",
   "execution_count": 121,
   "id": "b8819454",
   "metadata": {},
   "outputs": [
    {
     "data": {
      "text/plain": [
       "5"
      ]
     },
     "execution_count": 121,
     "metadata": {},
     "output_type": "execute_result"
    }
   ],
   "source": [
    "na.ptp()"
   ]
  },
  {
   "cell_type": "code",
   "execution_count": 122,
   "id": "071dc28d",
   "metadata": {},
   "outputs": [],
   "source": [
    "na=np.array([[1,3,4],[5,10,7]])"
   ]
  },
  {
   "cell_type": "code",
   "execution_count": 123,
   "id": "33e200a1",
   "metadata": {},
   "outputs": [
    {
     "data": {
      "text/plain": [
       "9"
      ]
     },
     "execution_count": 123,
     "metadata": {},
     "output_type": "execute_result"
    }
   ],
   "source": [
    "na.ptp()"
   ]
  },
  {
   "cell_type": "markdown",
   "id": "5f514807",
   "metadata": {},
   "source": [
    "## Peak to peak (maximum - minimum) value along a given axis."
   ]
  },
  {
   "cell_type": "code",
   "execution_count": 8,
   "id": "b681bb85",
   "metadata": {},
   "outputs": [],
   "source": [
    "na=np.array([[1,3,4],[5,10,7]])"
   ]
  },
  {
   "cell_type": "code",
   "execution_count": 10,
   "id": "8cb1b65b",
   "metadata": {},
   "outputs": [],
   "source": [
    "na.put(4,3)"
   ]
  },
  {
   "cell_type": "code",
   "execution_count": 11,
   "id": "2595b393",
   "metadata": {},
   "outputs": [
    {
     "data": {
      "text/plain": [
       "array([[1, 3, 4],\n",
       "       [5, 3, 7]])"
      ]
     },
     "execution_count": 11,
     "metadata": {},
     "output_type": "execute_result"
    }
   ],
   "source": [
    "na"
   ]
  },
  {
   "cell_type": "code",
   "execution_count": 131,
   "id": "46a45a36",
   "metadata": {},
   "outputs": [],
   "source": [
    "na.put(5,99)"
   ]
  },
  {
   "cell_type": "code",
   "execution_count": 132,
   "id": "e24a4c8c",
   "metadata": {},
   "outputs": [
    {
     "data": {
      "text/plain": [
       "array([[ 1,  3,  4],\n",
       "       [ 5,  3, 99]])"
      ]
     },
     "execution_count": 132,
     "metadata": {},
     "output_type": "execute_result"
    }
   ],
   "source": [
    "na"
   ]
  },
  {
   "cell_type": "code",
   "execution_count": 133,
   "id": "db509d89",
   "metadata": {},
   "outputs": [
    {
     "data": {
      "text/plain": [
       "array([ 1,  3,  4,  5,  3, 99])"
      ]
     },
     "execution_count": 133,
     "metadata": {},
     "output_type": "execute_result"
    }
   ],
   "source": [
    "na.ravel()"
   ]
  },
  {
   "cell_type": "markdown",
   "id": "1c86bdff",
   "metadata": {},
   "source": [
    "## Return a flattened array."
   ]
  },
  {
   "cell_type": "code",
   "execution_count": 135,
   "id": "a6a82f07",
   "metadata": {},
   "outputs": [
    {
     "data": {
      "text/plain": [
       "array([ 1,  1,  1,  1,  1,  3,  3,  3,  3,  3,  4,  4,  4,  4,  4,  5,  5,\n",
       "        5,  5,  5,  3,  3,  3,  3,  3, 99, 99, 99, 99, 99])"
      ]
     },
     "execution_count": 135,
     "metadata": {},
     "output_type": "execute_result"
    }
   ],
   "source": [
    "na.repeat(5)"
   ]
  },
  {
   "cell_type": "markdown",
   "id": "a12228fb",
   "metadata": {},
   "source": [
    "## Repeat elements of an array."
   ]
  },
  {
   "cell_type": "code",
   "execution_count": 141,
   "id": "01d5b08f",
   "metadata": {},
   "outputs": [],
   "source": [
    "na=np.array([[4,5,6],[4,2,6],[7,2,8],[3,9,7]])"
   ]
  },
  {
   "cell_type": "code",
   "execution_count": 142,
   "id": "003c6851",
   "metadata": {},
   "outputs": [
    {
     "data": {
      "text/plain": [
       "array([[4, 5, 6],\n",
       "       [4, 2, 6],\n",
       "       [7, 2, 8],\n",
       "       [3, 9, 7]])"
      ]
     },
     "execution_count": 142,
     "metadata": {},
     "output_type": "execute_result"
    }
   ],
   "source": [
    "na"
   ]
  },
  {
   "cell_type": "code",
   "execution_count": 143,
   "id": "50944c82",
   "metadata": {},
   "outputs": [
    {
     "data": {
      "text/plain": [
       "array([[4, 5, 6, 4],\n",
       "       [2, 6, 7, 2],\n",
       "       [8, 3, 9, 7]])"
      ]
     },
     "execution_count": 143,
     "metadata": {},
     "output_type": "execute_result"
    }
   ],
   "source": [
    "na.reshape(3,4)"
   ]
  },
  {
   "cell_type": "code",
   "execution_count": 144,
   "id": "d8cc66d8",
   "metadata": {},
   "outputs": [
    {
     "data": {
      "text/plain": [
       "array([[4, 5, 6],\n",
       "       [4, 2, 6],\n",
       "       [7, 2, 8],\n",
       "       [3, 9, 7]])"
      ]
     },
     "execution_count": 144,
     "metadata": {},
     "output_type": "execute_result"
    }
   ],
   "source": [
    "na"
   ]
  },
  {
   "cell_type": "markdown",
   "id": "50d94b77",
   "metadata": {},
   "source": [
    "## Returns an array containing the same data with a new shape.\n",
    "\n"
   ]
  },
  {
   "cell_type": "code",
   "execution_count": 12,
   "id": "90f8528b",
   "metadata": {},
   "outputs": [],
   "source": [
    "na=np.array([[4,5,6],[4,2,6],[7,2,8],[3,9,7],[3,6,4]])"
   ]
  },
  {
   "cell_type": "code",
   "execution_count": 13,
   "id": "b51c47c9",
   "metadata": {},
   "outputs": [
    {
     "data": {
      "text/plain": [
       "array([[4, 5, 6],\n",
       "       [4, 2, 6],\n",
       "       [7, 2, 8],\n",
       "       [3, 9, 7],\n",
       "       [3, 6, 4]])"
      ]
     },
     "execution_count": 13,
     "metadata": {},
     "output_type": "execute_result"
    }
   ],
   "source": [
    "na"
   ]
  },
  {
   "cell_type": "code",
   "execution_count": 14,
   "id": "4ade9d68",
   "metadata": {},
   "outputs": [],
   "source": [
    "na.resize(3,5)"
   ]
  },
  {
   "cell_type": "code",
   "execution_count": 15,
   "id": "11946fee",
   "metadata": {},
   "outputs": [
    {
     "data": {
      "text/plain": [
       "array([[4, 5, 6, 4, 2],\n",
       "       [6, 7, 2, 8, 3],\n",
       "       [9, 7, 3, 6, 4]])"
      ]
     },
     "execution_count": 15,
     "metadata": {},
     "output_type": "execute_result"
    }
   ],
   "source": [
    "na"
   ]
  },
  {
   "cell_type": "code",
   "execution_count": 16,
   "id": "9534b8e8",
   "metadata": {},
   "outputs": [
    {
     "data": {
      "text/plain": [
       "array([[4, 5, 6, 4, 2],\n",
       "       [6, 7, 2, 8, 3],\n",
       "       [9, 7, 3, 6, 4]])"
      ]
     },
     "execution_count": 16,
     "metadata": {},
     "output_type": "execute_result"
    }
   ],
   "source": [
    "na"
   ]
  },
  {
   "cell_type": "markdown",
   "id": "c85c3b53",
   "metadata": {},
   "source": [
    "## Return a new array with the specified shape.\n",
    "\n"
   ]
  },
  {
   "cell_type": "code",
   "execution_count": 169,
   "id": "6b208abf",
   "metadata": {},
   "outputs": [],
   "source": [
    "na=np.array([2.0,3.5,4,5,7.6,7,9.51,5.3])"
   ]
  },
  {
   "cell_type": "code",
   "execution_count": 170,
   "id": "a18a25f6",
   "metadata": {},
   "outputs": [
    {
     "data": {
      "text/plain": [
       "array([2.  , 3.5 , 4.  , 5.  , 7.6 , 7.  , 9.51, 5.3 ])"
      ]
     },
     "execution_count": 170,
     "metadata": {},
     "output_type": "execute_result"
    }
   ],
   "source": [
    "na"
   ]
  },
  {
   "cell_type": "code",
   "execution_count": 172,
   "id": "7d659e0b",
   "metadata": {
    "scrolled": true
   },
   "outputs": [
    {
     "data": {
      "text/plain": [
       "array([ 2.,  4.,  4.,  5.,  8.,  7., 10.,  5.])"
      ]
     },
     "execution_count": 172,
     "metadata": {},
     "output_type": "execute_result"
    }
   ],
   "source": [
    "na.round()"
   ]
  },
  {
   "cell_type": "markdown",
   "id": "59fb3381",
   "metadata": {},
   "source": [
    "## Return a with each element rounded to the given number of decimals."
   ]
  },
  {
   "cell_type": "code",
   "execution_count": 66,
   "id": "f132ec00",
   "metadata": {},
   "outputs": [],
   "source": [
    "na=np.array((4,5,6))"
   ]
  },
  {
   "cell_type": "code",
   "execution_count": 67,
   "id": "870aa3a4",
   "metadata": {},
   "outputs": [
    {
     "data": {
      "text/plain": [
       "3"
      ]
     },
     "execution_count": 67,
     "metadata": {},
     "output_type": "execute_result"
    }
   ],
   "source": [
    "na.size"
   ]
  },
  {
   "cell_type": "markdown",
   "id": "ee8a7f4e",
   "metadata": {},
   "source": [
    "## Number of elements in the array."
   ]
  },
  {
   "cell_type": "code",
   "execution_count": 153,
   "id": "c387741c",
   "metadata": {},
   "outputs": [],
   "source": [
    "na=np.zeros((4,5,6))"
   ]
  },
  {
   "cell_type": "code",
   "execution_count": 154,
   "id": "2d74b93d",
   "metadata": {},
   "outputs": [
    {
     "data": {
      "text/plain": [
       "array([[[0., 0., 0., 0., 0., 0.],\n",
       "        [0., 0., 0., 0., 0., 0.],\n",
       "        [0., 0., 0., 0., 0., 0.],\n",
       "        [0., 0., 0., 0., 0., 0.],\n",
       "        [0., 0., 0., 0., 0., 0.]],\n",
       "\n",
       "       [[0., 0., 0., 0., 0., 0.],\n",
       "        [0., 0., 0., 0., 0., 0.],\n",
       "        [0., 0., 0., 0., 0., 0.],\n",
       "        [0., 0., 0., 0., 0., 0.],\n",
       "        [0., 0., 0., 0., 0., 0.]],\n",
       "\n",
       "       [[0., 0., 0., 0., 0., 0.],\n",
       "        [0., 0., 0., 0., 0., 0.],\n",
       "        [0., 0., 0., 0., 0., 0.],\n",
       "        [0., 0., 0., 0., 0., 0.],\n",
       "        [0., 0., 0., 0., 0., 0.]],\n",
       "\n",
       "       [[0., 0., 0., 0., 0., 0.],\n",
       "        [0., 0., 0., 0., 0., 0.],\n",
       "        [0., 0., 0., 0., 0., 0.],\n",
       "        [0., 0., 0., 0., 0., 0.],\n",
       "        [0., 0., 0., 0., 0., 0.]]])"
      ]
     },
     "execution_count": 154,
     "metadata": {},
     "output_type": "execute_result"
    }
   ],
   "source": [
    "na"
   ]
  },
  {
   "cell_type": "code",
   "execution_count": 155,
   "id": "d22a4da2",
   "metadata": {},
   "outputs": [
    {
     "data": {
      "text/plain": [
       "120"
      ]
     },
     "execution_count": 155,
     "metadata": {},
     "output_type": "execute_result"
    }
   ],
   "source": [
    "na.size"
   ]
  },
  {
   "cell_type": "code",
   "execution_count": 17,
   "id": "c8965563",
   "metadata": {},
   "outputs": [],
   "source": [
    "na=np.array((4,8,1,3,0,6,2,8))"
   ]
  },
  {
   "cell_type": "code",
   "execution_count": 18,
   "id": "93756c13",
   "metadata": {},
   "outputs": [],
   "source": [
    "na.sort()"
   ]
  },
  {
   "cell_type": "code",
   "execution_count": 19,
   "id": "debb8e22",
   "metadata": {},
   "outputs": [
    {
     "name": "stdout",
     "output_type": "stream",
     "text": [
      "[0 1 2 3 4 6 8 8]\n"
     ]
    }
   ],
   "source": [
    "print(na)"
   ]
  },
  {
   "cell_type": "code",
   "execution_count": 163,
   "id": "c5d66c9a",
   "metadata": {},
   "outputs": [
    {
     "data": {
      "text/plain": [
       "4"
      ]
     },
     "execution_count": 163,
     "metadata": {},
     "output_type": "execute_result"
    }
   ],
   "source": [
    "na[0]"
   ]
  },
  {
   "cell_type": "code",
   "execution_count": 180,
   "id": "b463b2aa",
   "metadata": {},
   "outputs": [
    {
     "data": {
      "text/plain": [
       "2.6246692913372702"
      ]
     },
     "execution_count": 180,
     "metadata": {},
     "output_type": "execute_result"
    }
   ],
   "source": [
    "na.std()"
   ]
  },
  {
   "cell_type": "markdown",
   "id": "b8f77140",
   "metadata": {},
   "source": [
    "## Returns the standard deviation of the array elements along given axis."
   ]
  },
  {
   "cell_type": "code",
   "execution_count": 194,
   "id": "0df60e47",
   "metadata": {},
   "outputs": [],
   "source": [
    "na=np.array([8,8,1,3,0,6,2,8])"
   ]
  },
  {
   "cell_type": "code",
   "execution_count": 195,
   "id": "452f36ad",
   "metadata": {},
   "outputs": [
    {
     "data": {
      "text/plain": [
       "array([8, 8, 1, 3, 0, 6, 2, 8])"
      ]
     },
     "execution_count": 195,
     "metadata": {},
     "output_type": "execute_result"
    }
   ],
   "source": [
    "na"
   ]
  },
  {
   "cell_type": "code",
   "execution_count": 196,
   "id": "078807e5",
   "metadata": {},
   "outputs": [
    {
     "data": {
      "text/plain": [
       "3.1622776601683795"
      ]
     },
     "execution_count": 196,
     "metadata": {},
     "output_type": "execute_result"
    }
   ],
   "source": [
    "na.std()"
   ]
  },
  {
   "cell_type": "markdown",
   "id": "bf8fb2ae",
   "metadata": {},
   "source": [
    "## std=standard deviation"
   ]
  },
  {
   "cell_type": "code",
   "execution_count": 3,
   "id": "93d993d1",
   "metadata": {},
   "outputs": [],
   "source": [
    "import numpy as np"
   ]
  },
  {
   "cell_type": "code",
   "execution_count": 4,
   "id": "0aaa81bf",
   "metadata": {},
   "outputs": [],
   "source": [
    "na=np.array([[4,8,1],[3,0,6]])"
   ]
  },
  {
   "cell_type": "code",
   "execution_count": 5,
   "id": "1a116389",
   "metadata": {},
   "outputs": [
    {
     "data": {
      "text/plain": [
       "array([[4, 8, 1],\n",
       "       [3, 0, 6]])"
      ]
     },
     "execution_count": 5,
     "metadata": {},
     "output_type": "execute_result"
    }
   ],
   "source": [
    "na"
   ]
  },
  {
   "cell_type": "code",
   "execution_count": 207,
   "id": "7d32669e",
   "metadata": {},
   "outputs": [
    {
     "data": {
      "text/plain": [
       "array([7, 8, 7])"
      ]
     },
     "execution_count": 207,
     "metadata": {},
     "output_type": "execute_result"
    }
   ],
   "source": [
    "na.sum(0)"
   ]
  },
  {
   "cell_type": "code",
   "execution_count": 102,
   "id": "057bd267",
   "metadata": {},
   "outputs": [],
   "source": [
    "na=np.array([4,8,1,3,0,7,4,8,3,5,8,26])"
   ]
  },
  {
   "cell_type": "code",
   "execution_count": 104,
   "id": "243946e9",
   "metadata": {},
   "outputs": [
    {
     "data": {
      "text/plain": [
       "77"
      ]
     },
     "execution_count": 104,
     "metadata": {},
     "output_type": "execute_result"
    }
   ],
   "source": [
    "na.sum()"
   ]
  },
  {
   "cell_type": "code",
   "execution_count": 208,
   "id": "a8ae4a0f",
   "metadata": {},
   "outputs": [],
   "source": [
    "na=np.array([[4,8,1],[3,0,6]])"
   ]
  },
  {
   "cell_type": "code",
   "execution_count": 209,
   "id": "7c0b7b46",
   "metadata": {},
   "outputs": [
    {
     "name": "stdout",
     "output_type": "stream",
     "text": [
      "[[4 8 1]\n",
      " [3 0 6]]\n"
     ]
    }
   ],
   "source": [
    "print(na)"
   ]
  },
  {
   "cell_type": "code",
   "execution_count": 210,
   "id": "3fb8cac3",
   "metadata": {
    "scrolled": true
   },
   "outputs": [
    {
     "data": {
      "text/plain": [
       "array([[4, 3],\n",
       "       [8, 0],\n",
       "       [1, 6]])"
      ]
     },
     "execution_count": 210,
     "metadata": {},
     "output_type": "execute_result"
    }
   ],
   "source": [
    "na.swapaxes(1,0)"
   ]
  },
  {
   "cell_type": "code",
   "execution_count": 211,
   "id": "c413695c",
   "metadata": {},
   "outputs": [
    {
     "data": {
      "text/plain": [
       "array([[4, 8, 1],\n",
       "       [3, 0, 6]])"
      ]
     },
     "execution_count": 211,
     "metadata": {},
     "output_type": "execute_result"
    }
   ],
   "source": [
    "na.swapaxes(0,0)"
   ]
  },
  {
   "cell_type": "markdown",
   "id": "4c3dc8a9",
   "metadata": {},
   "source": [
    "## Return a view of the array with axis1 and axis2 interchanged."
   ]
  },
  {
   "cell_type": "code",
   "execution_count": 212,
   "id": "4583f405",
   "metadata": {},
   "outputs": [],
   "source": [
    "na=np.array([[4,8,1],[3,0,6]])"
   ]
  },
  {
   "cell_type": "code",
   "execution_count": 215,
   "id": "fe4d754e",
   "metadata": {},
   "outputs": [
    {
     "data": {
      "text/plain": [
       "array([[4, 8, 1],\n",
       "       [3, 0, 6]])"
      ]
     },
     "execution_count": 215,
     "metadata": {},
     "output_type": "execute_result"
    }
   ],
   "source": [
    "na"
   ]
  },
  {
   "cell_type": "code",
   "execution_count": 216,
   "id": "56b18abc",
   "metadata": {},
   "outputs": [
    {
     "data": {
      "text/plain": [
       "1"
      ]
     },
     "execution_count": 216,
     "metadata": {},
     "output_type": "execute_result"
    }
   ],
   "source": [
    "na.take(2)"
   ]
  },
  {
   "cell_type": "code",
   "execution_count": 217,
   "id": "01720177",
   "metadata": {},
   "outputs": [
    {
     "data": {
      "text/plain": [
       "0"
      ]
     },
     "execution_count": 217,
     "metadata": {},
     "output_type": "execute_result"
    }
   ],
   "source": [
    "na.take(4)"
   ]
  },
  {
   "cell_type": "markdown",
   "id": "8ceaf103",
   "metadata": {},
   "source": [
    "## Return an array formed from the elements of a at the given indices."
   ]
  },
  {
   "cell_type": "code",
   "execution_count": 130,
   "id": "72ed4796",
   "metadata": {},
   "outputs": [],
   "source": [
    "na=np.array([[4.0,8.4,1],[3,0,6]])"
   ]
  },
  {
   "cell_type": "code",
   "execution_count": 131,
   "id": "6ce65c8b",
   "metadata": {},
   "outputs": [
    {
     "data": {
      "text/plain": [
       "[[4.0, 8.4, 1.0], [3.0, 0.0, 6.0]]"
      ]
     },
     "execution_count": 131,
     "metadata": {},
     "output_type": "execute_result"
    }
   ],
   "source": [
    "na.tolist()"
   ]
  },
  {
   "cell_type": "markdown",
   "id": "955d02aa",
   "metadata": {},
   "source": [
    "## Return the array as an a.ndim-levels deep nested list of Python scalars."
   ]
  },
  {
   "cell_type": "code",
   "execution_count": 134,
   "id": "faed65eb",
   "metadata": {},
   "outputs": [
    {
     "name": "stderr",
     "output_type": "stream",
     "text": [
      "C:\\Users\\sindhu b\\AppData\\Local\\Temp\\ipykernel_10724\\3562224894.py:1: DeprecationWarning: tostring() is deprecated. Use tobytes() instead.\n",
      "  na.tostring()\n"
     ]
    },
    {
     "data": {
      "text/plain": [
       "b'\\x04\\x00\\x00\\x00\\x08\\x00\\x00\\x00\\x01\\x00\\x00\\x00\\x03\\x00\\x00\\x00\\x00\\x00\\x00\\x00\\x06\\x00\\x00\\x00'"
      ]
     },
     "execution_count": 134,
     "metadata": {},
     "output_type": "execute_result"
    }
   ],
   "source": [
    "na.tostring()"
   ]
  },
  {
   "cell_type": "code",
   "execution_count": 219,
   "id": "fed917e1",
   "metadata": {},
   "outputs": [
    {
     "data": {
      "text/plain": [
       "array([[4, 8, 1],\n",
       "       [3, 0, 6]])"
      ]
     },
     "execution_count": 219,
     "metadata": {},
     "output_type": "execute_result"
    }
   ],
   "source": [
    "na"
   ]
  },
  {
   "cell_type": "code",
   "execution_count": 220,
   "id": "8259295b",
   "metadata": {},
   "outputs": [
    {
     "data": {
      "text/plain": [
       "array([[4, 3],\n",
       "       [8, 0],\n",
       "       [1, 6]])"
      ]
     },
     "execution_count": 220,
     "metadata": {},
     "output_type": "execute_result"
    }
   ],
   "source": [
    "na.transpose()"
   ]
  },
  {
   "cell_type": "code",
   "execution_count": 136,
   "id": "87cde678",
   "metadata": {},
   "outputs": [
    {
     "data": {
      "text/plain": [
       "array([[4, 8, 1],\n",
       "       [3, 0, 6]])"
      ]
     },
     "execution_count": 136,
     "metadata": {},
     "output_type": "execute_result"
    }
   ],
   "source": [
    "na"
   ]
  },
  {
   "cell_type": "code",
   "execution_count": 223,
   "id": "b96a06a7",
   "metadata": {},
   "outputs": [],
   "source": [
    "na.put(3,8)"
   ]
  },
  {
   "cell_type": "code",
   "execution_count": 224,
   "id": "def97c91",
   "metadata": {},
   "outputs": [
    {
     "data": {
      "text/plain": [
       "array([[4, 8, 1],\n",
       "       [8, 0, 6]])"
      ]
     },
     "execution_count": 224,
     "metadata": {},
     "output_type": "execute_result"
    }
   ],
   "source": [
    "na"
   ]
  },
  {
   "cell_type": "code",
   "execution_count": 225,
   "id": "a3bcd01b",
   "metadata": {},
   "outputs": [],
   "source": [
    "na.put(0,99)"
   ]
  },
  {
   "cell_type": "code",
   "execution_count": 226,
   "id": "aaff1805",
   "metadata": {},
   "outputs": [
    {
     "data": {
      "text/plain": [
       "array([[99,  8,  1],\n",
       "       [ 8,  0,  6]])"
      ]
     },
     "execution_count": 226,
     "metadata": {},
     "output_type": "execute_result"
    }
   ],
   "source": [
    "na"
   ]
  },
  {
   "cell_type": "code",
   "execution_count": 261,
   "id": "5a0cb64c",
   "metadata": {},
   "outputs": [],
   "source": [
    "na1=np.array([3,5,4,3])"
   ]
  },
  {
   "cell_type": "code",
   "execution_count": 262,
   "id": "4a83994c",
   "metadata": {},
   "outputs": [],
   "source": [
    "na2=np.array([4,3,2,4])"
   ]
  },
  {
   "cell_type": "code",
   "execution_count": 266,
   "id": "ccda95c6",
   "metadata": {},
   "outputs": [],
   "source": [
    "na3=np.concatenate((na1,na2))"
   ]
  },
  {
   "cell_type": "code",
   "execution_count": 267,
   "id": "229e9415",
   "metadata": {},
   "outputs": [
    {
     "name": "stdout",
     "output_type": "stream",
     "text": [
      "[3 5 4 3 4 3 2 4]\n"
     ]
    }
   ],
   "source": [
    "print(na3)"
   ]
  },
  {
   "cell_type": "markdown",
   "id": "aadee256",
   "metadata": {},
   "source": [
    "### we should pass through tuple"
   ]
  },
  {
   "cell_type": "code",
   "execution_count": 268,
   "id": "495cfdc1",
   "metadata": {},
   "outputs": [],
   "source": [
    "na4=np.append(na1,na2)"
   ]
  },
  {
   "cell_type": "code",
   "execution_count": 269,
   "id": "d9246d77",
   "metadata": {},
   "outputs": [
    {
     "name": "stdout",
     "output_type": "stream",
     "text": [
      "[3 5 4 3 4 3 2 4]\n"
     ]
    }
   ],
   "source": [
    "print(na4)"
   ]
  },
  {
   "cell_type": "markdown",
   "id": "6fdc5d23",
   "metadata": {},
   "source": [
    "### here no need directly we can pass"
   ]
  },
  {
   "cell_type": "code",
   "execution_count": 270,
   "id": "e70924a9",
   "metadata": {},
   "outputs": [],
   "source": [
    "na1=np.array([3,5,4,3,4,7,8,9])"
   ]
  },
  {
   "cell_type": "code",
   "execution_count": 271,
   "id": "33a0e111",
   "metadata": {},
   "outputs": [],
   "source": [
    "n=np.array_split(na1,3)"
   ]
  },
  {
   "cell_type": "code",
   "execution_count": 272,
   "id": "ecf59638",
   "metadata": {},
   "outputs": [
    {
     "name": "stdout",
     "output_type": "stream",
     "text": [
      "[array([3, 5, 4]), array([3, 4, 7]), array([8, 9])]\n"
     ]
    }
   ],
   "source": [
    "print(n)"
   ]
  },
  {
   "cell_type": "markdown",
   "id": "fa9ea4ce",
   "metadata": {},
   "source": [
    "### split the number of arrays"
   ]
  },
  {
   "cell_type": "code",
   "execution_count": 273,
   "id": "3a9bad2a",
   "metadata": {},
   "outputs": [],
   "source": [
    "n=np.array_split(na1,4)"
   ]
  },
  {
   "cell_type": "code",
   "execution_count": 274,
   "id": "ccf3e292",
   "metadata": {},
   "outputs": [
    {
     "name": "stdout",
     "output_type": "stream",
     "text": [
      "[array([3, 5]), array([4, 3]), array([4, 7]), array([8, 9])]\n"
     ]
    }
   ],
   "source": [
    "print(n)"
   ]
  },
  {
   "cell_type": "code",
   "execution_count": 303,
   "id": "57b2458e",
   "metadata": {},
   "outputs": [],
   "source": [
    "na=np.array(['hi','hello','Good'])"
   ]
  },
  {
   "cell_type": "code",
   "execution_count": 304,
   "id": "8857442f",
   "metadata": {},
   "outputs": [
    {
     "name": "stdout",
     "output_type": "stream",
     "text": [
      "['hi' 'hello' 'Good']\n"
     ]
    }
   ],
   "source": [
    "print(na)"
   ]
  },
  {
   "cell_type": "code",
   "execution_count": 309,
   "id": "60faad79",
   "metadata": {},
   "outputs": [
    {
     "data": {
      "text/plain": [
       "array(['Good', 'hello', 'hi'], dtype='<U5')"
      ]
     },
     "execution_count": 309,
     "metadata": {},
     "output_type": "execute_result"
    }
   ],
   "source": [
    "np.sort(na)"
   ]
  },
  {
   "cell_type": "code",
   "execution_count": 305,
   "id": "7d28788a",
   "metadata": {},
   "outputs": [],
   "source": [
    "na1=np.array([3,5,4,3,4,7,8,7,0,2,1])"
   ]
  },
  {
   "cell_type": "code",
   "execution_count": 306,
   "id": "87e68e5d",
   "metadata": {},
   "outputs": [],
   "source": [
    "x=np.sort(na1)"
   ]
  },
  {
   "cell_type": "code",
   "execution_count": 307,
   "id": "04539102",
   "metadata": {},
   "outputs": [
    {
     "name": "stdout",
     "output_type": "stream",
     "text": [
      "[0 1 2 3 3 4 4 5 7 7 8]\n"
     ]
    }
   ],
   "source": [
    "print(x)"
   ]
  },
  {
   "cell_type": "code",
   "execution_count": 319,
   "id": "ad741c7d",
   "metadata": {},
   "outputs": [],
   "source": [
    "na1=np.array([3,5,4,3,4,7,8,7,0,2,1])"
   ]
  },
  {
   "cell_type": "code",
   "execution_count": 321,
   "id": "af9aba70",
   "metadata": {},
   "outputs": [
    {
     "data": {
      "text/plain": [
       "array([4, 3, 4, 7, 8])"
      ]
     },
     "execution_count": 321,
     "metadata": {},
     "output_type": "execute_result"
    }
   ],
   "source": [
    "na1[2:7]"
   ]
  },
  {
   "cell_type": "code",
   "execution_count": 322,
   "id": "6388ac71",
   "metadata": {},
   "outputs": [],
   "source": [
    "na1[2:7]=99"
   ]
  },
  {
   "cell_type": "code",
   "execution_count": 323,
   "id": "5a8070b7",
   "metadata": {},
   "outputs": [
    {
     "name": "stdout",
     "output_type": "stream",
     "text": [
      "[ 3  5 99 99 99 99 99  7  0  2  1]\n"
     ]
    }
   ],
   "source": [
    "print(na1)"
   ]
  },
  {
   "cell_type": "markdown",
   "id": "e9bc9a44",
   "metadata": {},
   "source": [
    "### this is called broadcasting"
   ]
  },
  {
   "cell_type": "code",
   "execution_count": 373,
   "id": "de36c295",
   "metadata": {},
   "outputs": [],
   "source": [
    "na1=np.array([[3,5,4],[7,8,7]])"
   ]
  },
  {
   "cell_type": "code",
   "execution_count": 374,
   "id": "841eae2f",
   "metadata": {},
   "outputs": [
    {
     "data": {
      "text/plain": [
       "array([[3, 5, 4],\n",
       "       [7, 8, 7]])"
      ]
     },
     "execution_count": 374,
     "metadata": {},
     "output_type": "execute_result"
    }
   ],
   "source": [
    "na1"
   ]
  },
  {
   "cell_type": "code",
   "execution_count": 376,
   "id": "c8befb6b",
   "metadata": {},
   "outputs": [
    {
     "data": {
      "text/plain": [
       "array([[3, 5, 4],\n",
       "       [7, 8, 7]])"
      ]
     },
     "execution_count": 376,
     "metadata": {},
     "output_type": "execute_result"
    }
   ],
   "source": [
    "na1[0:2]"
   ]
  },
  {
   "cell_type": "code",
   "execution_count": 377,
   "id": "9a3dceb9",
   "metadata": {},
   "outputs": [],
   "source": [
    "na1[0:5]=77"
   ]
  },
  {
   "cell_type": "code",
   "execution_count": 378,
   "id": "c1ae60cd",
   "metadata": {},
   "outputs": [
    {
     "name": "stdout",
     "output_type": "stream",
     "text": [
      "[[77 77 77]\n",
      " [77 77 77]]\n"
     ]
    }
   ],
   "source": [
    "print(na1)"
   ]
  },
  {
   "cell_type": "code",
   "execution_count": 341,
   "id": "2a08f027",
   "metadata": {},
   "outputs": [
    {
     "data": {
      "text/plain": [
       "array([[3, 5, 4],\n",
       "       [7, 8, 7]])"
      ]
     },
     "execution_count": 341,
     "metadata": {},
     "output_type": "execute_result"
    }
   ],
   "source": [
    "na1[0:2]"
   ]
  },
  {
   "cell_type": "code",
   "execution_count": 342,
   "id": "43fb799f",
   "metadata": {},
   "outputs": [],
   "source": [
    "na1[0:2]=66"
   ]
  },
  {
   "cell_type": "code",
   "execution_count": 343,
   "id": "228322ff",
   "metadata": {},
   "outputs": [
    {
     "name": "stdout",
     "output_type": "stream",
     "text": [
      "[[66 66 66]\n",
      " [66 66 66]]\n"
     ]
    }
   ],
   "source": [
    "print(na1)"
   ]
  },
  {
   "cell_type": "code",
   "execution_count": 345,
   "id": "fb222a20",
   "metadata": {},
   "outputs": [],
   "source": [
    "na1[0:1]=66"
   ]
  },
  {
   "cell_type": "code",
   "execution_count": 346,
   "id": "d01d52c7",
   "metadata": {},
   "outputs": [
    {
     "name": "stdout",
     "output_type": "stream",
     "text": [
      "[[66 66 66]\n",
      " [ 7  8  7]]\n"
     ]
    }
   ],
   "source": [
    "print(na1)"
   ]
  },
  {
   "cell_type": "code",
   "execution_count": 362,
   "id": "3890f064",
   "metadata": {},
   "outputs": [],
   "source": [
    "na1[0:2,1:3]=55"
   ]
  },
  {
   "cell_type": "code",
   "execution_count": 363,
   "id": "17fa1e28",
   "metadata": {},
   "outputs": [
    {
     "name": "stdout",
     "output_type": "stream",
     "text": [
      "[[ 3 55 55]\n",
      " [ 7 55 55]]\n"
     ]
    }
   ],
   "source": [
    "print(na1)"
   ]
  },
  {
   "cell_type": "code",
   "execution_count": 367,
   "id": "b53f2fc0",
   "metadata": {},
   "outputs": [],
   "source": [
    "na1=np.array([[3,5,4,7,8,7]])"
   ]
  },
  {
   "cell_type": "code",
   "execution_count": 368,
   "id": "d64ce758",
   "metadata": {},
   "outputs": [
    {
     "data": {
      "text/plain": [
       "array([[ True,  True,  True,  True,  True,  True]])"
      ]
     },
     "execution_count": 368,
     "metadata": {},
     "output_type": "execute_result"
    }
   ],
   "source": [
    "na1>2"
   ]
  },
  {
   "cell_type": "code",
   "execution_count": 369,
   "id": "a7b7d43d",
   "metadata": {},
   "outputs": [
    {
     "data": {
      "text/plain": [
       "array([[False,  True,  True,  True,  True,  True]])"
      ]
     },
     "execution_count": 369,
     "metadata": {},
     "output_type": "execute_result"
    }
   ],
   "source": [
    "na1>3"
   ]
  },
  {
   "cell_type": "code",
   "execution_count": 384,
   "id": "a1e01b8b",
   "metadata": {},
   "outputs": [],
   "source": [
    "na1=np.array([3,4,5,6,7])"
   ]
  },
  {
   "cell_type": "code",
   "execution_count": 381,
   "id": "5dac3193",
   "metadata": {},
   "outputs": [],
   "source": [
    "na2=np.array([4,5,9,8,2])"
   ]
  },
  {
   "cell_type": "code",
   "execution_count": 382,
   "id": "4846db83",
   "metadata": {},
   "outputs": [
    {
     "data": {
      "text/plain": [
       "array([ 7,  9, 14, 14,  9])"
      ]
     },
     "execution_count": 382,
     "metadata": {},
     "output_type": "execute_result"
    }
   ],
   "source": [
    "na1+na2"
   ]
  },
  {
   "cell_type": "code",
   "execution_count": 385,
   "id": "fa00c543",
   "metadata": {},
   "outputs": [
    {
     "data": {
      "text/plain": [
       "array([ 27,  64, 125, 216, 343], dtype=int32)"
      ]
     },
     "execution_count": 385,
     "metadata": {},
     "output_type": "execute_result"
    }
   ],
   "source": [
    "na1**3"
   ]
  },
  {
   "cell_type": "code",
   "execution_count": 386,
   "id": "23935c90",
   "metadata": {},
   "outputs": [
    {
     "data": {
      "text/plain": [
       "array([1.73205081, 2.        , 2.23606798, 2.44948974, 2.64575131])"
      ]
     },
     "execution_count": 386,
     "metadata": {},
     "output_type": "execute_result"
    }
   ],
   "source": [
    "np.sqrt(na1)"
   ]
  },
  {
   "cell_type": "code",
   "execution_count": 395,
   "id": "f7f4f291",
   "metadata": {},
   "outputs": [],
   "source": [
    "na1=np.array([4,16,64])"
   ]
  },
  {
   "cell_type": "code",
   "execution_count": 389,
   "id": "d1bcae69",
   "metadata": {},
   "outputs": [
    {
     "data": {
      "text/plain": [
       "array([2., 4., 8.])"
      ]
     },
     "execution_count": 389,
     "metadata": {},
     "output_type": "execute_result"
    }
   ],
   "source": [
    "np.sqrt(na1)"
   ]
  },
  {
   "cell_type": "code",
   "execution_count": 391,
   "id": "243ef4de",
   "metadata": {},
   "outputs": [
    {
     "data": {
      "text/plain": [
       "0.8939966636005579"
      ]
     },
     "execution_count": 391,
     "metadata": {},
     "output_type": "execute_result"
    }
   ],
   "source": [
    "np.sin(90)"
   ]
  },
  {
   "cell_type": "code",
   "execution_count": 393,
   "id": "3a9d35a2",
   "metadata": {},
   "outputs": [
    {
     "data": {
      "text/plain": [
       "-0.9880316240928618"
      ]
     },
     "execution_count": 393,
     "metadata": {},
     "output_type": "execute_result"
    }
   ],
   "source": [
    "np.sin(30)"
   ]
  },
  {
   "cell_type": "code",
   "execution_count": 397,
   "id": "0920bb10",
   "metadata": {},
   "outputs": [
    {
     "data": {
      "text/plain": [
       "array([1.38629436, 2.77258872, 4.15888308])"
      ]
     },
     "execution_count": 397,
     "metadata": {},
     "output_type": "execute_result"
    }
   ],
   "source": [
    "np.log(na1)"
   ]
  },
  {
   "cell_type": "code",
   "execution_count": null,
   "id": "758a8203",
   "metadata": {},
   "outputs": [],
   "source": []
  }
 ],
 "metadata": {
  "kernelspec": {
   "display_name": "Python 3 (ipykernel)",
   "language": "python",
   "name": "python3"
  },
  "language_info": {
   "codemirror_mode": {
    "name": "ipython",
    "version": 3
   },
   "file_extension": ".py",
   "mimetype": "text/x-python",
   "name": "python",
   "nbconvert_exporter": "python",
   "pygments_lexer": "ipython3",
   "version": "3.9.13"
  }
 },
 "nbformat": 4,
 "nbformat_minor": 5
}
