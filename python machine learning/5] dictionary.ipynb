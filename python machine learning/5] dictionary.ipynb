{
 "cells": [
  {
   "cell_type": "code",
   "execution_count": 1,
   "id": "e542be61",
   "metadata": {},
   "outputs": [],
   "source": [
    "d={} "
   ]
  },
  {
   "cell_type": "code",
   "execution_count": 75,
   "id": "772b3c65",
   "metadata": {},
   "outputs": [],
   "source": [
    "d=dict()"
   ]
  },
  {
   "cell_type": "code",
   "execution_count": 2,
   "id": "141577e4",
   "metadata": {},
   "outputs": [
    {
     "data": {
      "text/plain": [
       "dict"
      ]
     },
     "execution_count": 2,
     "metadata": {},
     "output_type": "execute_result"
    }
   ],
   "source": [
    "type(d)"
   ]
  },
  {
   "cell_type": "markdown",
   "id": "c11263af",
   "metadata": {},
   "source": [
    "# dictionary is mutable"
   ]
  },
  {
   "cell_type": "code",
   "execution_count": 76,
   "id": "90169984",
   "metadata": {},
   "outputs": [],
   "source": [
    "d={'a':10,'b':20}"
   ]
  },
  {
   "cell_type": "code",
   "execution_count": 77,
   "id": "faef7672",
   "metadata": {},
   "outputs": [
    {
     "name": "stdout",
     "output_type": "stream",
     "text": [
      "{'a': 10, 'b': 20}\n"
     ]
    }
   ],
   "source": [
    "print(d)"
   ]
  },
  {
   "cell_type": "markdown",
   "id": "a6927a92",
   "metadata": {},
   "source": [
    "# a and b are keys ,10 and 20 are values"
   ]
  },
  {
   "cell_type": "code",
   "execution_count": 4,
   "id": "c8831c13",
   "metadata": {},
   "outputs": [],
   "source": [
    "l=[5,8,9,4]"
   ]
  },
  {
   "cell_type": "code",
   "execution_count": 5,
   "id": "cbc54c52",
   "metadata": {},
   "outputs": [
    {
     "data": {
      "text/plain": [
       "9"
      ]
     },
     "execution_count": 5,
     "metadata": {},
     "output_type": "execute_result"
    }
   ],
   "source": [
    "l[2]"
   ]
  },
  {
   "cell_type": "code",
   "execution_count": 78,
   "id": "9ff77811",
   "metadata": {},
   "outputs": [
    {
     "data": {
      "text/plain": [
       "10"
      ]
     },
     "execution_count": 78,
     "metadata": {},
     "output_type": "execute_result"
    }
   ],
   "source": [
    "d['a']"
   ]
  },
  {
   "cell_type": "code",
   "execution_count": 79,
   "id": "f71e2bc0",
   "metadata": {},
   "outputs": [
    {
     "data": {
      "text/plain": [
       "20"
      ]
     },
     "execution_count": 79,
     "metadata": {},
     "output_type": "execute_result"
    }
   ],
   "source": [
    "d['b']"
   ]
  },
  {
   "cell_type": "code",
   "execution_count": 80,
   "id": "a1da8707",
   "metadata": {},
   "outputs": [],
   "source": [
    "d['a']=55"
   ]
  },
  {
   "cell_type": "code",
   "execution_count": 81,
   "id": "63989393",
   "metadata": {},
   "outputs": [
    {
     "name": "stdout",
     "output_type": "stream",
     "text": [
      "{'a': 55, 'b': 20}\n"
     ]
    }
   ],
   "source": [
    "print(d)"
   ]
  },
  {
   "cell_type": "code",
   "execution_count": 82,
   "id": "b639ae01",
   "metadata": {
    "scrolled": true
   },
   "outputs": [
    {
     "ename": "KeyError",
     "evalue": "'c'",
     "output_type": "error",
     "traceback": [
      "\u001b[1;31m---------------------------------------------------------------------------\u001b[0m",
      "\u001b[1;31mKeyError\u001b[0m                                  Traceback (most recent call last)",
      "\u001b[1;32m~\\AppData\\Local\\Temp\\ipykernel_13104\\1604721743.py\u001b[0m in \u001b[0;36m<module>\u001b[1;34m\u001b[0m\n\u001b[1;32m----> 1\u001b[1;33m \u001b[0md\u001b[0m\u001b[1;33m[\u001b[0m\u001b[1;34m'c'\u001b[0m\u001b[1;33m]\u001b[0m\u001b[1;33m\u001b[0m\u001b[1;33m\u001b[0m\u001b[0m\n\u001b[0m",
      "\u001b[1;31mKeyError\u001b[0m: 'c'"
     ]
    }
   ],
   "source": [
    "d['c']"
   ]
  },
  {
   "cell_type": "code",
   "execution_count": 83,
   "id": "aa572783",
   "metadata": {},
   "outputs": [],
   "source": [
    "d['c']=15"
   ]
  },
  {
   "cell_type": "code",
   "execution_count": 84,
   "id": "5da5379a",
   "metadata": {},
   "outputs": [
    {
     "name": "stdout",
     "output_type": "stream",
     "text": [
      "{'a': 55, 'b': 20, 'c': 15}\n"
     ]
    }
   ],
   "source": [
    "print(d)"
   ]
  },
  {
   "cell_type": "code",
   "execution_count": 85,
   "id": "ea8b0817",
   "metadata": {},
   "outputs": [],
   "source": [
    "d['hi']='hello'"
   ]
  },
  {
   "cell_type": "code",
   "execution_count": 86,
   "id": "da57de22",
   "metadata": {},
   "outputs": [
    {
     "name": "stdout",
     "output_type": "stream",
     "text": [
      "{'a': 55, 'b': 20, 'c': 15, 'hi': 'hello'}\n"
     ]
    }
   ],
   "source": [
    "print(d)"
   ]
  },
  {
   "cell_type": "code",
   "execution_count": 87,
   "id": "91ab9304",
   "metadata": {},
   "outputs": [],
   "source": [
    "d[5]='xyz'"
   ]
  },
  {
   "cell_type": "code",
   "execution_count": 88,
   "id": "73f9b83f",
   "metadata": {},
   "outputs": [
    {
     "name": "stdout",
     "output_type": "stream",
     "text": [
      "{'a': 55, 'b': 20, 'c': 15, 'hi': 'hello', 5: 'xyz'}\n"
     ]
    }
   ],
   "source": [
    "print(d)"
   ]
  },
  {
   "cell_type": "code",
   "execution_count": 89,
   "id": "d73575fa",
   "metadata": {},
   "outputs": [],
   "source": [
    "d[3.5]=[1,2,3]"
   ]
  },
  {
   "cell_type": "code",
   "execution_count": 90,
   "id": "65d9e35a",
   "metadata": {},
   "outputs": [
    {
     "name": "stdout",
     "output_type": "stream",
     "text": [
      "{'a': 55, 'b': 20, 'c': 15, 'hi': 'hello', 5: 'xyz', 3.5: [1, 2, 3]}\n"
     ]
    }
   ],
   "source": [
    "print(d)"
   ]
  },
  {
   "cell_type": "code",
   "execution_count": 91,
   "id": "128bab19",
   "metadata": {},
   "outputs": [],
   "source": [
    "d[True]=1"
   ]
  },
  {
   "cell_type": "code",
   "execution_count": 92,
   "id": "829a2a41",
   "metadata": {},
   "outputs": [
    {
     "name": "stdout",
     "output_type": "stream",
     "text": [
      "{'a': 55, 'b': 20, 'c': 15, 'hi': 'hello', 5: 'xyz', 3.5: [1, 2, 3], True: 1}\n"
     ]
    }
   ],
   "source": [
    "print(d)"
   ]
  },
  {
   "cell_type": "code",
   "execution_count": 93,
   "id": "927a69af",
   "metadata": {},
   "outputs": [],
   "source": [
    "d[True]='hi'"
   ]
  },
  {
   "cell_type": "code",
   "execution_count": 94,
   "id": "f0e8f4ef",
   "metadata": {},
   "outputs": [
    {
     "name": "stdout",
     "output_type": "stream",
     "text": [
      "{'a': 55, 'b': 20, 'c': 15, 'hi': 'hello', 5: 'xyz', 3.5: [1, 2, 3], True: 'hi'}\n"
     ]
    }
   ],
   "source": [
    "print(d)"
   ]
  },
  {
   "cell_type": "code",
   "execution_count": 95,
   "id": "1d3ec450",
   "metadata": {},
   "outputs": [],
   "source": [
    "d[0]=99"
   ]
  },
  {
   "cell_type": "code",
   "execution_count": 96,
   "id": "e66a0514",
   "metadata": {},
   "outputs": [
    {
     "name": "stdout",
     "output_type": "stream",
     "text": [
      "{'a': 55, 'b': 20, 'c': 15, 'hi': 'hello', 5: 'xyz', 3.5: [1, 2, 3], True: 'hi', 0: 99}\n"
     ]
    }
   ],
   "source": [
    "print(d)"
   ]
  },
  {
   "cell_type": "code",
   "execution_count": 97,
   "id": "22b8b2ee",
   "metadata": {},
   "outputs": [],
   "source": [
    "d[1]=60"
   ]
  },
  {
   "cell_type": "code",
   "execution_count": 98,
   "id": "dc83acf0",
   "metadata": {},
   "outputs": [
    {
     "name": "stdout",
     "output_type": "stream",
     "text": [
      "{'a': 55, 'b': 20, 'c': 15, 'hi': 'hello', 5: 'xyz', 3.5: [1, 2, 3], True: 60, 0: 99}\n"
     ]
    }
   ],
   "source": [
    "print(d)"
   ]
  },
  {
   "cell_type": "code",
   "execution_count": 99,
   "id": "22b46e03",
   "metadata": {},
   "outputs": [
    {
     "data": {
      "text/plain": [
       "99"
      ]
     },
     "execution_count": 99,
     "metadata": {},
     "output_type": "execute_result"
    }
   ],
   "source": [
    "d[False]"
   ]
  },
  {
   "cell_type": "code",
   "execution_count": 100,
   "id": "1151ee27",
   "metadata": {},
   "outputs": [
    {
     "name": "stdout",
     "output_type": "stream",
     "text": [
      "{'a': 55, 'b': 20, 'c': 15, 'hi': 'hello', 5: 'xyz', 3.5: [1, 2, 3], True: 60, 0: 99}\n"
     ]
    }
   ],
   "source": [
    "print(d)"
   ]
  },
  {
   "cell_type": "code",
   "execution_count": 101,
   "id": "dab6e158",
   "metadata": {},
   "outputs": [],
   "source": [
    "d[7]=[3,2,9,6]"
   ]
  },
  {
   "cell_type": "code",
   "execution_count": 102,
   "id": "a8cc5f59",
   "metadata": {},
   "outputs": [
    {
     "name": "stdout",
     "output_type": "stream",
     "text": [
      "{'a': 55, 'b': 20, 'c': 15, 'hi': 'hello', 5: 'xyz', 3.5: [1, 2, 3], True: 60, 0: 99, 7: [3, 2, 9, 6]}\n"
     ]
    }
   ],
   "source": [
    "print(d)"
   ]
  },
  {
   "cell_type": "code",
   "execution_count": 103,
   "id": "b5fbc06e",
   "metadata": {},
   "outputs": [
    {
     "data": {
      "text/plain": [
       "list"
      ]
     },
     "execution_count": 103,
     "metadata": {},
     "output_type": "execute_result"
    }
   ],
   "source": [
    "type(d[7])"
   ]
  },
  {
   "cell_type": "code",
   "execution_count": 104,
   "id": "48f5f304",
   "metadata": {},
   "outputs": [
    {
     "data": {
      "text/plain": [
       "3"
      ]
     },
     "execution_count": 104,
     "metadata": {},
     "output_type": "execute_result"
    }
   ],
   "source": [
    "d[7][0]"
   ]
  },
  {
   "cell_type": "code",
   "execution_count": 105,
   "id": "0e5e58a3",
   "metadata": {},
   "outputs": [],
   "source": [
    "d['x']={3:5,'a':17}"
   ]
  },
  {
   "cell_type": "code",
   "execution_count": 106,
   "id": "dd358e24",
   "metadata": {},
   "outputs": [
    {
     "name": "stdout",
     "output_type": "stream",
     "text": [
      "{'a': 55, 'b': 20, 'c': 15, 'hi': 'hello', 5: 'xyz', 3.5: [1, 2, 3], True: 60, 0: 99, 7: [3, 2, 9, 6], 'x': {3: 5, 'a': 17}}\n"
     ]
    }
   ],
   "source": [
    "print(d)"
   ]
  },
  {
   "cell_type": "code",
   "execution_count": 1,
   "id": "325b9f89",
   "metadata": {},
   "outputs": [],
   "source": [
    "d={'a':[3,2,{9:13,'x':[5,6,9]},7],1:6,'b':{3:9,'x':{6:2,'y':7}}}"
   ]
  },
  {
   "cell_type": "code",
   "execution_count": 108,
   "id": "f05383c1",
   "metadata": {
    "scrolled": true
   },
   "outputs": [
    {
     "data": {
      "text/plain": [
       "13"
      ]
     },
     "execution_count": 108,
     "metadata": {},
     "output_type": "execute_result"
    }
   ],
   "source": [
    "d['a'][2][9]"
   ]
  },
  {
   "cell_type": "code",
   "execution_count": 109,
   "id": "bfb77254",
   "metadata": {},
   "outputs": [
    {
     "data": {
      "text/plain": [
       "6"
      ]
     },
     "execution_count": 109,
     "metadata": {},
     "output_type": "execute_result"
    }
   ],
   "source": [
    "d['a'][2]['x'][1]"
   ]
  },
  {
   "cell_type": "code",
   "execution_count": 110,
   "id": "f6cdc588",
   "metadata": {},
   "outputs": [
    {
     "data": {
      "text/plain": [
       "2"
      ]
     },
     "execution_count": 110,
     "metadata": {},
     "output_type": "execute_result"
    }
   ],
   "source": [
    "d['a'][1]"
   ]
  },
  {
   "cell_type": "code",
   "execution_count": 111,
   "id": "6e7fa4d8",
   "metadata": {},
   "outputs": [
    {
     "data": {
      "text/plain": [
       "9"
      ]
     },
     "execution_count": 111,
     "metadata": {},
     "output_type": "execute_result"
    }
   ],
   "source": [
    "d['b'][3]"
   ]
  },
  {
   "cell_type": "code",
   "execution_count": 112,
   "id": "705390d3",
   "metadata": {},
   "outputs": [
    {
     "data": {
      "text/plain": [
       "2"
      ]
     },
     "execution_count": 112,
     "metadata": {},
     "output_type": "execute_result"
    }
   ],
   "source": [
    "d['a'][1]"
   ]
  },
  {
   "cell_type": "code",
   "execution_count": 113,
   "id": "2bf10e74",
   "metadata": {},
   "outputs": [
    {
     "data": {
      "text/plain": [
       "9"
      ]
     },
     "execution_count": 113,
     "metadata": {},
     "output_type": "execute_result"
    }
   ],
   "source": [
    "d['b'][3]"
   ]
  },
  {
   "cell_type": "code",
   "execution_count": 114,
   "id": "9cecb052",
   "metadata": {},
   "outputs": [
    {
     "data": {
      "text/plain": [
       "9"
      ]
     },
     "execution_count": 114,
     "metadata": {},
     "output_type": "execute_result"
    }
   ],
   "source": [
    "d['a'][2]['x'][2]"
   ]
  },
  {
   "cell_type": "code",
   "execution_count": 115,
   "id": "3d71e6cd",
   "metadata": {},
   "outputs": [
    {
     "data": {
      "text/plain": [
       "2"
      ]
     },
     "execution_count": 115,
     "metadata": {},
     "output_type": "execute_result"
    }
   ],
   "source": [
    "d['b']['x'][6]"
   ]
  },
  {
   "cell_type": "code",
   "execution_count": 116,
   "id": "6c4c057d",
   "metadata": {},
   "outputs": [
    {
     "data": {
      "text/plain": [
       "2"
      ]
     },
     "execution_count": 116,
     "metadata": {},
     "output_type": "execute_result"
    }
   ],
   "source": [
    "d['a'][1]"
   ]
  },
  {
   "cell_type": "code",
   "execution_count": 117,
   "id": "2c1516f6",
   "metadata": {},
   "outputs": [
    {
     "data": {
      "text/plain": [
       "7"
      ]
     },
     "execution_count": 117,
     "metadata": {},
     "output_type": "execute_result"
    }
   ],
   "source": [
    "d['b']['x']['y']"
   ]
  },
  {
   "cell_type": "code",
   "execution_count": 118,
   "id": "ec179e7a",
   "metadata": {},
   "outputs": [
    {
     "data": {
      "text/plain": [
       "85.50793650793652"
      ]
     },
     "execution_count": 118,
     "metadata": {},
     "output_type": "execute_result"
    }
   ],
   "source": [
    "13*6+2/9+9-2*6/7"
   ]
  },
  {
   "cell_type": "code",
   "execution_count": 69,
   "id": "384ef8c8",
   "metadata": {},
   "outputs": [
    {
     "ename": "TypeError",
     "evalue": "unhashable type: 'list'",
     "output_type": "error",
     "traceback": [
      "\u001b[1;31m---------------------------------------------------------------------------\u001b[0m",
      "\u001b[1;31mTypeError\u001b[0m                                 Traceback (most recent call last)",
      "\u001b[1;32m~\\AppData\\Local\\Temp\\ipykernel_1156\\300365708.py\u001b[0m in \u001b[0;36m<module>\u001b[1;34m\u001b[0m\n\u001b[1;32m----> 1\u001b[1;33m \u001b[0md\u001b[0m\u001b[1;33m=\u001b[0m\u001b[1;33m{\u001b[0m\u001b[1;33m[\u001b[0m\u001b[1;36m1\u001b[0m\u001b[1;33m,\u001b[0m\u001b[1;36m2\u001b[0m\u001b[1;33m]\u001b[0m\u001b[1;33m:\u001b[0m\u001b[1;36m5\u001b[0m\u001b[1;33m}\u001b[0m\u001b[1;33m\u001b[0m\u001b[1;33m\u001b[0m\u001b[0m\n\u001b[0m",
      "\u001b[1;31mTypeError\u001b[0m: unhashable type: 'list'"
     ]
    }
   ],
   "source": [
    "d={[1,2]:5}"
   ]
  },
  {
   "cell_type": "markdown",
   "id": "12868480",
   "metadata": {},
   "source": [
    "# immutable things can be used as key but mutable things (list)cannot be used as key ,we can use both in values"
   ]
  },
  {
   "cell_type": "code",
   "execution_count": 11,
   "id": "e4bec106",
   "metadata": {},
   "outputs": [],
   "source": [
    "d={'a':20,'b':30}"
   ]
  },
  {
   "cell_type": "code",
   "execution_count": 7,
   "id": "e9b748fb",
   "metadata": {},
   "outputs": [],
   "source": [
    "d1=d.copy()"
   ]
  },
  {
   "cell_type": "code",
   "execution_count": 8,
   "id": "57d4a2e6",
   "metadata": {},
   "outputs": [
    {
     "data": {
      "text/plain": [
       "{'a': 20, 'b': 30}"
      ]
     },
     "execution_count": 8,
     "metadata": {},
     "output_type": "execute_result"
    }
   ],
   "source": [
    "d"
   ]
  },
  {
   "cell_type": "code",
   "execution_count": 9,
   "id": "703f3339",
   "metadata": {},
   "outputs": [
    {
     "data": {
      "text/plain": [
       "{'a': 20, 'b': 30}"
      ]
     },
     "execution_count": 9,
     "metadata": {},
     "output_type": "execute_result"
    }
   ],
   "source": [
    "d1"
   ]
  },
  {
   "cell_type": "code",
   "execution_count": 72,
   "id": "b84a633e",
   "metadata": {},
   "outputs": [
    {
     "data": {
      "text/plain": [
       "1937653641600"
      ]
     },
     "execution_count": 72,
     "metadata": {},
     "output_type": "execute_result"
    }
   ],
   "source": [
    "id(d)"
   ]
  },
  {
   "cell_type": "code",
   "execution_count": 73,
   "id": "f1e28cd2",
   "metadata": {},
   "outputs": [
    {
     "data": {
      "text/plain": [
       "1937653672448"
      ]
     },
     "execution_count": 73,
     "metadata": {},
     "output_type": "execute_result"
    }
   ],
   "source": [
    "id(d1)"
   ]
  },
  {
   "cell_type": "code",
   "execution_count": 13,
   "id": "fd2eb032",
   "metadata": {},
   "outputs": [
    {
     "data": {
      "text/plain": [
       "20"
      ]
     },
     "execution_count": 13,
     "metadata": {},
     "output_type": "execute_result"
    }
   ],
   "source": [
    "d[\"a\"]"
   ]
  },
  {
   "cell_type": "code",
   "execution_count": 87,
   "id": "269e6196",
   "metadata": {},
   "outputs": [
    {
     "data": {
      "text/plain": [
       "20"
      ]
     },
     "execution_count": 87,
     "metadata": {},
     "output_type": "execute_result"
    }
   ],
   "source": [
    "d.get('a')"
   ]
  },
  {
   "cell_type": "code",
   "execution_count": 88,
   "id": "db38d578",
   "metadata": {},
   "outputs": [],
   "source": [
    "d.get('c')"
   ]
  },
  {
   "cell_type": "code",
   "execution_count": 89,
   "id": "b003f4ca",
   "metadata": {},
   "outputs": [
    {
     "name": "stdout",
     "output_type": "stream",
     "text": [
      "{'a': 20, 'b': 30}\n"
     ]
    }
   ],
   "source": [
    "print(d)"
   ]
  },
  {
   "cell_type": "code",
   "execution_count": 90,
   "id": "aef67907",
   "metadata": {},
   "outputs": [
    {
     "ename": "KeyError",
     "evalue": "'c'",
     "output_type": "error",
     "traceback": [
      "\u001b[1;31m---------------------------------------------------------------------------\u001b[0m",
      "\u001b[1;31mKeyError\u001b[0m                                  Traceback (most recent call last)",
      "\u001b[1;32m~\\AppData\\Local\\Temp\\ipykernel_1156\\1604721743.py\u001b[0m in \u001b[0;36m<module>\u001b[1;34m\u001b[0m\n\u001b[1;32m----> 1\u001b[1;33m \u001b[0md\u001b[0m\u001b[1;33m[\u001b[0m\u001b[1;34m'c'\u001b[0m\u001b[1;33m]\u001b[0m\u001b[1;33m\u001b[0m\u001b[1;33m\u001b[0m\u001b[0m\n\u001b[0m",
      "\u001b[1;31mKeyError\u001b[0m: 'c'"
     ]
    }
   ],
   "source": [
    "d['c']"
   ]
  },
  {
   "cell_type": "markdown",
   "id": "1648dd17",
   "metadata": {},
   "source": [
    "#get: if key is not present ,it gives default"
   ]
  },
  {
   "cell_type": "code",
   "execution_count": 91,
   "id": "f2e21621",
   "metadata": {},
   "outputs": [
    {
     "data": {
      "text/plain": [
       "dict_items([('a', 20), ('b', 30)])"
      ]
     },
     "execution_count": 91,
     "metadata": {},
     "output_type": "execute_result"
    }
   ],
   "source": [
    "d.items()"
   ]
  },
  {
   "cell_type": "code",
   "execution_count": 92,
   "id": "281a7777",
   "metadata": {},
   "outputs": [
    {
     "name": "stdout",
     "output_type": "stream",
     "text": [
      "{'a': 20, 'b': 30}\n"
     ]
    }
   ],
   "source": [
    "print(d)"
   ]
  },
  {
   "cell_type": "code",
   "execution_count": 93,
   "id": "096f205c",
   "metadata": {},
   "outputs": [
    {
     "data": {
      "text/plain": [
       "dict_keys(['a', 'b'])"
      ]
     },
     "execution_count": 93,
     "metadata": {},
     "output_type": "execute_result"
    }
   ],
   "source": [
    "d.keys()"
   ]
  },
  {
   "cell_type": "code",
   "execution_count": 94,
   "id": "973b6eb7",
   "metadata": {},
   "outputs": [
    {
     "ename": "TypeError",
     "evalue": "pop expected at least 1 argument, got 0",
     "output_type": "error",
     "traceback": [
      "\u001b[1;31m---------------------------------------------------------------------------\u001b[0m",
      "\u001b[1;31mTypeError\u001b[0m                                 Traceback (most recent call last)",
      "\u001b[1;32m~\\AppData\\Local\\Temp\\ipykernel_1156\\1274378990.py\u001b[0m in \u001b[0;36m<module>\u001b[1;34m\u001b[0m\n\u001b[1;32m----> 1\u001b[1;33m \u001b[0md\u001b[0m\u001b[1;33m.\u001b[0m\u001b[0mpop\u001b[0m\u001b[1;33m(\u001b[0m\u001b[1;33m)\u001b[0m\u001b[1;33m\u001b[0m\u001b[1;33m\u001b[0m\u001b[0m\n\u001b[0m",
      "\u001b[1;31mTypeError\u001b[0m: pop expected at least 1 argument, got 0"
     ]
    }
   ],
   "source": [
    "d.pop()"
   ]
  },
  {
   "cell_type": "code",
   "execution_count": 95,
   "id": "d40ccf46",
   "metadata": {},
   "outputs": [
    {
     "data": {
      "text/plain": [
       "20"
      ]
     },
     "execution_count": 95,
     "metadata": {},
     "output_type": "execute_result"
    }
   ],
   "source": [
    "d.pop('a')"
   ]
  },
  {
   "cell_type": "code",
   "execution_count": 96,
   "id": "976968d9",
   "metadata": {},
   "outputs": [
    {
     "name": "stdout",
     "output_type": "stream",
     "text": [
      "{'b': 30}\n"
     ]
    }
   ],
   "source": [
    "print(d)"
   ]
  },
  {
   "cell_type": "code",
   "execution_count": 97,
   "id": "44a83ca3",
   "metadata": {},
   "outputs": [],
   "source": [
    "d['a']=50"
   ]
  },
  {
   "cell_type": "code",
   "execution_count": 98,
   "id": "1b453b03",
   "metadata": {},
   "outputs": [],
   "source": [
    "d['c']=70"
   ]
  },
  {
   "cell_type": "code",
   "execution_count": 99,
   "id": "c1891d38",
   "metadata": {},
   "outputs": [
    {
     "name": "stdout",
     "output_type": "stream",
     "text": [
      "{'b': 30, 'a': 50, 'c': 70}\n"
     ]
    }
   ],
   "source": [
    "print(d)"
   ]
  },
  {
   "cell_type": "code",
   "execution_count": 100,
   "id": "c86a24e9",
   "metadata": {},
   "outputs": [
    {
     "data": {
      "text/plain": [
       "('c', 70)"
      ]
     },
     "execution_count": 100,
     "metadata": {},
     "output_type": "execute_result"
    }
   ],
   "source": [
    "d.popitem()"
   ]
  },
  {
   "cell_type": "code",
   "execution_count": 101,
   "id": "46bea900",
   "metadata": {},
   "outputs": [
    {
     "name": "stdout",
     "output_type": "stream",
     "text": [
      "{'b': 30, 'a': 50}\n"
     ]
    }
   ],
   "source": [
    "print(d)"
   ]
  },
  {
   "cell_type": "markdown",
   "id": "5f97b8a0",
   "metadata": {},
   "source": [
    "# LIFO=last in first out is followed in popitem"
   ]
  },
  {
   "cell_type": "code",
   "execution_count": 102,
   "id": "bb17f8bb",
   "metadata": {},
   "outputs": [],
   "source": [
    "d.setdefault('x')"
   ]
  },
  {
   "cell_type": "code",
   "execution_count": 103,
   "id": "fe579b94",
   "metadata": {},
   "outputs": [
    {
     "name": "stdout",
     "output_type": "stream",
     "text": [
      "{'b': 30, 'a': 50, 'x': None}\n"
     ]
    }
   ],
   "source": [
    "print(d)"
   ]
  },
  {
   "cell_type": "code",
   "execution_count": 104,
   "id": "3e75a13e",
   "metadata": {},
   "outputs": [],
   "source": [
    "d.setdefault('x',90)"
   ]
  },
  {
   "cell_type": "code",
   "execution_count": 149,
   "id": "499cb685",
   "metadata": {},
   "outputs": [
    {
     "name": "stdout",
     "output_type": "stream",
     "text": [
      "{'b': 30, 'a': 50, 'x': None}\n"
     ]
    }
   ],
   "source": [
    "print(d)"
   ]
  },
  {
   "cell_type": "code",
   "execution_count": 105,
   "id": "21144ac6",
   "metadata": {},
   "outputs": [
    {
     "data": {
      "text/plain": [
       "72"
      ]
     },
     "execution_count": 105,
     "metadata": {},
     "output_type": "execute_result"
    }
   ],
   "source": [
    "d.setdefault('y',72)"
   ]
  },
  {
   "cell_type": "code",
   "execution_count": 107,
   "id": "f2f834ba",
   "metadata": {},
   "outputs": [
    {
     "data": {
      "text/plain": [
       "72"
      ]
     },
     "execution_count": 107,
     "metadata": {},
     "output_type": "execute_result"
    }
   ],
   "source": [
    "d.setdefault('y',43)"
   ]
  },
  {
   "cell_type": "code",
   "execution_count": 108,
   "id": "b171cf01",
   "metadata": {},
   "outputs": [
    {
     "name": "stdout",
     "output_type": "stream",
     "text": [
      "{'b': 30, 'a': 50, 'x': None, 'y': 72}\n"
     ]
    }
   ],
   "source": [
    "print(d)"
   ]
  },
  {
   "cell_type": "code",
   "execution_count": 109,
   "id": "361d4045",
   "metadata": {},
   "outputs": [],
   "source": [
    "d1={'a':'hi','z':5,'b':30,'y':1}"
   ]
  },
  {
   "cell_type": "code",
   "execution_count": 110,
   "id": "ad084af8",
   "metadata": {},
   "outputs": [],
   "source": [
    "d.update(d1)"
   ]
  },
  {
   "cell_type": "code",
   "execution_count": 111,
   "id": "2d7e8c77",
   "metadata": {},
   "outputs": [
    {
     "name": "stdout",
     "output_type": "stream",
     "text": [
      "{'b': 30, 'a': 'hi', 'x': None, 'y': 1, 'z': 5}\n"
     ]
    }
   ],
   "source": [
    "print(d)"
   ]
  },
  {
   "cell_type": "code",
   "execution_count": 112,
   "id": "8be7e127",
   "metadata": {},
   "outputs": [
    {
     "data": {
      "text/plain": [
       "dict_values([30, 'hi', None, 1, 5])"
      ]
     },
     "execution_count": 112,
     "metadata": {},
     "output_type": "execute_result"
    }
   ],
   "source": [
    "d.values()"
   ]
  },
  {
   "cell_type": "code",
   "execution_count": null,
   "id": "c6a8d37c",
   "metadata": {},
   "outputs": [],
   "source": []
  }
 ],
 "metadata": {
  "kernelspec": {
   "display_name": "Python 3 (ipykernel)",
   "language": "python",
   "name": "python3"
  },
  "language_info": {
   "codemirror_mode": {
    "name": "ipython",
    "version": 3
   },
   "file_extension": ".py",
   "mimetype": "text/x-python",
   "name": "python",
   "nbconvert_exporter": "python",
   "pygments_lexer": "ipython3",
   "version": "3.9.13"
  }
 },
 "nbformat": 4,
 "nbformat_minor": 5
}
