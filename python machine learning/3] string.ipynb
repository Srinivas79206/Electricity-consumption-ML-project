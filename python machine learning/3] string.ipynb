{
 "cells": [
  {
   "cell_type": "code",
   "execution_count": 2,
   "id": "8c41d0a8",
   "metadata": {},
   "outputs": [],
   "source": [
    "s='kamali'"
   ]
  },
  {
   "cell_type": "code",
   "execution_count": 2,
   "id": "d6a1cd57",
   "metadata": {},
   "outputs": [
    {
     "data": {
      "text/plain": [
       "str"
      ]
     },
     "execution_count": 2,
     "metadata": {},
     "output_type": "execute_result"
    }
   ],
   "source": [
    "type(s)"
   ]
  },
  {
   "cell_type": "code",
   "execution_count": 3,
   "id": "73c4e19d",
   "metadata": {},
   "outputs": [],
   "source": [
    "s=\"Anspro Technologies\""
   ]
  },
  {
   "cell_type": "code",
   "execution_count": 4,
   "id": "52a13b67",
   "metadata": {},
   "outputs": [
    {
     "data": {
      "text/plain": [
       "str"
      ]
     },
     "execution_count": 4,
     "metadata": {},
     "output_type": "execute_result"
    }
   ],
   "source": [
    "type(s)"
   ]
  },
  {
   "cell_type": "markdown",
   "id": "d78d64ca",
   "metadata": {},
   "source": [
    "# in python single 'and double\" will give the same ans but in other languages single for single character and double for more than one character(in python  single and double shld not come more than once i,e it shld not include ' twice and \" twice but can include ' and ''  )"
   ]
  },
  {
   "cell_type": "code",
   "execution_count": 5,
   "id": "1e0e51b5",
   "metadata": {},
   "outputs": [],
   "source": [
    "a=\"student's name\""
   ]
  },
  {
   "cell_type": "code",
   "execution_count": 6,
   "id": "fc9444da",
   "metadata": {},
   "outputs": [
    {
     "data": {
      "text/plain": [
       "str"
      ]
     },
     "execution_count": 6,
     "metadata": {},
     "output_type": "execute_result"
    }
   ],
   "source": [
    "type(a)"
   ]
  },
  {
   "cell_type": "code",
   "execution_count": 4,
   "id": "dea46ff8",
   "metadata": {},
   "outputs": [
    {
     "data": {
      "text/plain": [
       "'Anspro Technologies'"
      ]
     },
     "execution_count": 4,
     "metadata": {},
     "output_type": "execute_result"
    }
   ],
   "source": [
    "s"
   ]
  },
  {
   "cell_type": "code",
   "execution_count": 7,
   "id": "b518295c",
   "metadata": {},
   "outputs": [
    {
     "data": {
      "text/plain": [
       "'A'"
      ]
     },
     "execution_count": 7,
     "metadata": {},
     "output_type": "execute_result"
    }
   ],
   "source": [
    "s[0]"
   ]
  },
  {
   "cell_type": "code",
   "execution_count": 8,
   "id": "b828fc5c",
   "metadata": {},
   "outputs": [
    {
     "data": {
      "text/plain": [
       "'n'"
      ]
     },
     "execution_count": 8,
     "metadata": {},
     "output_type": "execute_result"
    }
   ],
   "source": [
    "s[1]"
   ]
  },
  {
   "cell_type": "code",
   "execution_count": 9,
   "id": "d8d389df",
   "metadata": {},
   "outputs": [
    {
     "data": {
      "text/plain": [
       "'s'"
      ]
     },
     "execution_count": 9,
     "metadata": {},
     "output_type": "execute_result"
    }
   ],
   "source": [
    "s[-1]"
   ]
  },
  {
   "cell_type": "code",
   "execution_count": 5,
   "id": "a118ab5f",
   "metadata": {},
   "outputs": [
    {
     "data": {
      "text/plain": [
       "'s'"
      ]
     },
     "execution_count": 5,
     "metadata": {},
     "output_type": "execute_result"
    }
   ],
   "source": [
    "s[18]"
   ]
  },
  {
   "cell_type": "code",
   "execution_count": 10,
   "id": "42f26111",
   "metadata": {},
   "outputs": [
    {
     "data": {
      "text/plain": [
       "19"
      ]
     },
     "execution_count": 10,
     "metadata": {},
     "output_type": "execute_result"
    }
   ],
   "source": [
    "len(s)"
   ]
  },
  {
   "cell_type": "code",
   "execution_count": 11,
   "id": "c7859633",
   "metadata": {},
   "outputs": [
    {
     "data": {
      "text/plain": [
       "'Anspr'"
      ]
     },
     "execution_count": 11,
     "metadata": {},
     "output_type": "execute_result"
    }
   ],
   "source": [
    "s[0:5]"
   ]
  },
  {
   "cell_type": "code",
   "execution_count": 12,
   "id": "724204cb",
   "metadata": {},
   "outputs": [
    {
     "data": {
      "text/plain": [
       "'pro '"
      ]
     },
     "execution_count": 12,
     "metadata": {},
     "output_type": "execute_result"
    }
   ],
   "source": [
    "s[3:7]"
   ]
  },
  {
   "cell_type": "code",
   "execution_count": 13,
   "id": "279fca4f",
   "metadata": {},
   "outputs": [
    {
     "data": {
      "text/plain": [
       "'Anspr'"
      ]
     },
     "execution_count": 13,
     "metadata": {},
     "output_type": "execute_result"
    }
   ],
   "source": [
    "s[ :5]"
   ]
  },
  {
   "cell_type": "code",
   "execution_count": 14,
   "id": "162305f2",
   "metadata": {},
   "outputs": [
    {
     "data": {
      "text/plain": [
       "'pro Technologies'"
      ]
     },
     "execution_count": 14,
     "metadata": {},
     "output_type": "execute_result"
    }
   ],
   "source": [
    "s[3: ]"
   ]
  },
  {
   "cell_type": "code",
   "execution_count": 15,
   "id": "11373ec0",
   "metadata": {},
   "outputs": [
    {
     "data": {
      "text/plain": [
       "'Anspro Technologies'"
      ]
     },
     "execution_count": 15,
     "metadata": {},
     "output_type": "execute_result"
    }
   ],
   "source": [
    "s[ : ]"
   ]
  },
  {
   "cell_type": "code",
   "execution_count": 16,
   "id": "084c15f6",
   "metadata": {},
   "outputs": [
    {
     "data": {
      "text/plain": [
       "'spro Technolog'"
      ]
     },
     "execution_count": 16,
     "metadata": {},
     "output_type": "execute_result"
    }
   ],
   "source": [
    "s[2:-3]"
   ]
  },
  {
   "cell_type": "code",
   "execution_count": 17,
   "id": "fec5b486",
   "metadata": {},
   "outputs": [
    {
     "data": {
      "text/plain": [
       "''"
      ]
     },
     "execution_count": 17,
     "metadata": {},
     "output_type": "execute_result"
    }
   ],
   "source": [
    "s[-2:-5]"
   ]
  },
  {
   "cell_type": "code",
   "execution_count": 6,
   "id": "be557f5c",
   "metadata": {},
   "outputs": [
    {
     "data": {
      "text/plain": [
       "'ogi'"
      ]
     },
     "execution_count": 6,
     "metadata": {},
     "output_type": "execute_result"
    }
   ],
   "source": [
    "s[-5:-2]"
   ]
  },
  {
   "cell_type": "code",
   "execution_count": 18,
   "id": "e8fa00d8",
   "metadata": {},
   "outputs": [
    {
     "data": {
      "text/plain": [
       "'s'"
      ]
     },
     "execution_count": 18,
     "metadata": {},
     "output_type": "execute_result"
    }
   ],
   "source": [
    "s[-17]"
   ]
  },
  {
   "cell_type": "markdown",
   "id": "88af3fb5",
   "metadata": {},
   "source": [
    "# from left it starts with zero and from right it starts with negative one"
   ]
  },
  {
   "cell_type": "code",
   "execution_count": 19,
   "id": "f7bc01ba",
   "metadata": {},
   "outputs": [
    {
     "data": {
      "text/plain": [
       "14"
      ]
     },
     "execution_count": 19,
     "metadata": {},
     "output_type": "execute_result"
    }
   ],
   "source": [
    "len(a)"
   ]
  },
  {
   "cell_type": "code",
   "execution_count": 20,
   "id": "975201a2",
   "metadata": {},
   "outputs": [
    {
     "data": {
      "text/plain": [
       "'e'"
      ]
     },
     "execution_count": 20,
     "metadata": {},
     "output_type": "execute_result"
    }
   ],
   "source": [
    "a[13]"
   ]
  },
  {
   "cell_type": "code",
   "execution_count": 21,
   "id": "b4180334",
   "metadata": {},
   "outputs": [
    {
     "data": {
      "text/plain": [
       "'t'"
      ]
     },
     "execution_count": 21,
     "metadata": {},
     "output_type": "execute_result"
    }
   ],
   "source": [
    "a[-8]"
   ]
  },
  {
   "cell_type": "code",
   "execution_count": 22,
   "id": "81cf021a",
   "metadata": {},
   "outputs": [
    {
     "data": {
      "text/plain": [
       "\"ent'\""
      ]
     },
     "execution_count": 22,
     "metadata": {},
     "output_type": "execute_result"
    }
   ],
   "source": [
    "a[4:-6]"
   ]
  },
  {
   "cell_type": "code",
   "execution_count": 23,
   "id": "32bc2d80",
   "metadata": {},
   "outputs": [
    {
     "data": {
      "text/plain": [
       "''"
      ]
     },
     "execution_count": 23,
     "metadata": {},
     "output_type": "execute_result"
    }
   ],
   "source": [
    "a[-5:4]"
   ]
  },
  {
   "cell_type": "code",
   "execution_count": 24,
   "id": "fe5df843",
   "metadata": {},
   "outputs": [
    {
     "data": {
      "text/plain": [
       "''"
      ]
     },
     "execution_count": 24,
     "metadata": {},
     "output_type": "execute_result"
    }
   ],
   "source": [
    "s[12:4]"
   ]
  },
  {
   "cell_type": "markdown",
   "id": "07a1da01",
   "metadata": {},
   "source": [
    "# slicing order should be from left to right "
   ]
  },
  {
   "cell_type": "code",
   "execution_count": 1,
   "id": "c40ca5b8",
   "metadata": {},
   "outputs": [],
   "source": [
    "s='Anspro Technologies' "
   ]
  },
  {
   "cell_type": "code",
   "execution_count": 25,
   "id": "a2a110ba",
   "metadata": {},
   "outputs": [
    {
     "data": {
      "text/plain": [
       "' Technologi'"
      ]
     },
     "execution_count": 25,
     "metadata": {},
     "output_type": "execute_result"
    }
   ],
   "source": [
    "s[-13:17]"
   ]
  },
  {
   "cell_type": "code",
   "execution_count": 8,
   "id": "c94d23c1",
   "metadata": {},
   "outputs": [
    {
     "data": {
      "text/plain": [
       "'Anspro Technologies'"
      ]
     },
     "execution_count": 8,
     "metadata": {},
     "output_type": "execute_result"
    }
   ],
   "source": [
    "s"
   ]
  },
  {
   "cell_type": "code",
   "execution_count": 26,
   "id": "2b29ba4f",
   "metadata": {},
   "outputs": [
    {
     "data": {
      "text/plain": [
       "'Anspro Technologies'"
      ]
     },
     "execution_count": 26,
     "metadata": {},
     "output_type": "execute_result"
    }
   ],
   "source": [
    "s[ : :1]"
   ]
  },
  {
   "cell_type": "code",
   "execution_count": 27,
   "id": "9cfb4546",
   "metadata": {},
   "outputs": [
    {
     "data": {
      "text/plain": [
       "'Asr ehoois'"
      ]
     },
     "execution_count": 27,
     "metadata": {},
     "output_type": "execute_result"
    }
   ],
   "source": [
    "s[ : :2]"
   ]
  },
  {
   "cell_type": "markdown",
   "id": "7a74c6c3",
   "metadata": {},
   "source": [
    "# slicing with skip"
   ]
  },
  {
   "cell_type": "code",
   "execution_count": 7,
   "id": "d7e82adc",
   "metadata": {},
   "outputs": [
    {
     "data": {
      "text/plain": [
       "'Anspro Technologies'"
      ]
     },
     "execution_count": 7,
     "metadata": {},
     "output_type": "execute_result"
    }
   ],
   "source": [
    "s[ : ]"
   ]
  },
  {
   "cell_type": "code",
   "execution_count": 28,
   "id": "1d6cf39b",
   "metadata": {},
   "outputs": [
    {
     "data": {
      "text/plain": [
       "'seigolonhceT orpsnA'"
      ]
     },
     "execution_count": 28,
     "metadata": {},
     "output_type": "execute_result"
    }
   ],
   "source": [
    "s[: :-1]"
   ]
  },
  {
   "cell_type": "code",
   "execution_count": 29,
   "id": "9d301e33",
   "metadata": {},
   "outputs": [
    {
     "data": {
      "text/plain": [
       "'sioohe rsA'"
      ]
     },
     "execution_count": 29,
     "metadata": {},
     "output_type": "execute_result"
    }
   ],
   "source": [
    "s[: :-2]"
   ]
  },
  {
   "cell_type": "code",
   "execution_count": 31,
   "id": "17279446",
   "metadata": {},
   "outputs": [
    {
     "data": {
      "text/plain": [
       "-1"
      ]
     },
     "execution_count": 31,
     "metadata": {},
     "output_type": "execute_result"
    }
   ],
   "source": [
    "s.find('notebook')"
   ]
  },
  {
   "cell_type": "code",
   "execution_count": 32,
   "id": "e9444e2d",
   "metadata": {
    "scrolled": true
   },
   "outputs": [
    {
     "data": {
      "text/plain": [
       "0"
      ]
     },
     "execution_count": 32,
     "metadata": {},
     "output_type": "execute_result"
    }
   ],
   "source": [
    "s.find('Anspro')"
   ]
  },
  {
   "cell_type": "code",
   "execution_count": 33,
   "id": "d432a20d",
   "metadata": {},
   "outputs": [
    {
     "data": {
      "text/plain": [
       "-1"
      ]
     },
     "execution_count": 33,
     "metadata": {},
     "output_type": "execute_result"
    }
   ],
   "source": [
    "s.find('technologies')"
   ]
  },
  {
   "cell_type": "code",
   "execution_count": 34,
   "id": "4be4ad0a",
   "metadata": {},
   "outputs": [
    {
     "data": {
      "text/plain": [
       "7"
      ]
     },
     "execution_count": 34,
     "metadata": {},
     "output_type": "execute_result"
    }
   ],
   "source": [
    "s.find('Technologies')"
   ]
  },
  {
   "cell_type": "code",
   "execution_count": 35,
   "id": "2a772ceb",
   "metadata": {},
   "outputs": [
    {
     "data": {
      "text/plain": [
       "2"
      ]
     },
     "execution_count": 35,
     "metadata": {},
     "output_type": "execute_result"
    }
   ],
   "source": [
    "s.find('spro')"
   ]
  },
  {
   "cell_type": "code",
   "execution_count": 20,
   "id": "4434f7cc",
   "metadata": {},
   "outputs": [
    {
     "data": {
      "text/plain": [
       "'Anspro Technologies'"
      ]
     },
     "execution_count": 20,
     "metadata": {},
     "output_type": "execute_result"
    }
   ],
   "source": [
    "s"
   ]
  },
  {
   "cell_type": "code",
   "execution_count": 12,
   "id": "e9380e3c",
   "metadata": {},
   "outputs": [
    {
     "data": {
      "text/plain": [
       "5"
      ]
     },
     "execution_count": 12,
     "metadata": {},
     "output_type": "execute_result"
    }
   ],
   "source": [
    "s.find('o')"
   ]
  },
  {
   "cell_type": "code",
   "execution_count": 37,
   "id": "ac963329",
   "metadata": {},
   "outputs": [
    {
     "data": {
      "text/plain": [
       "12"
      ]
     },
     "execution_count": 37,
     "metadata": {},
     "output_type": "execute_result"
    }
   ],
   "source": [
    "s.find('o',8) "
   ]
  },
  {
   "cell_type": "code",
   "execution_count": 51,
   "id": "993cb951",
   "metadata": {},
   "outputs": [
    {
     "data": {
      "text/plain": [
       "14"
      ]
     },
     "execution_count": 51,
     "metadata": {},
     "output_type": "execute_result"
    }
   ],
   "source": [
    "s.rfind('o')"
   ]
  },
  {
   "cell_type": "code",
   "execution_count": 15,
   "id": "7812b306",
   "metadata": {},
   "outputs": [
    {
     "data": {
      "text/plain": [
       "14"
      ]
     },
     "execution_count": 15,
     "metadata": {},
     "output_type": "execute_result"
    }
   ],
   "source": [
    "s.rfind('o',8)"
   ]
  },
  {
   "cell_type": "code",
   "execution_count": 3,
   "id": "df3d70eb",
   "metadata": {},
   "outputs": [
    {
     "data": {
      "text/plain": [
       "-1"
      ]
     },
     "execution_count": 3,
     "metadata": {},
     "output_type": "execute_result"
    }
   ],
   "source": [
    "s.rfind('o',15)"
   ]
  },
  {
   "cell_type": "code",
   "execution_count": 19,
   "id": "1c6b3f91",
   "metadata": {},
   "outputs": [
    {
     "data": {
      "text/plain": [
       "12"
      ]
     },
     "execution_count": 19,
     "metadata": {},
     "output_type": "execute_result"
    }
   ],
   "source": [
    "s.rfind('ologies')"
   ]
  },
  {
   "cell_type": "code",
   "execution_count": 20,
   "id": "d4dab8d6",
   "metadata": {},
   "outputs": [
    {
     "data": {
      "text/plain": [
       "15"
      ]
     },
     "execution_count": 20,
     "metadata": {},
     "output_type": "execute_result"
    }
   ],
   "source": [
    "s.rfind('gies')"
   ]
  },
  {
   "cell_type": "code",
   "execution_count": 36,
   "id": "217924bf",
   "metadata": {},
   "outputs": [
    {
     "data": {
      "text/plain": [
       "3"
      ]
     },
     "execution_count": 36,
     "metadata": {},
     "output_type": "execute_result"
    }
   ],
   "source": [
    "s.index('pro')"
   ]
  },
  {
   "cell_type": "code",
   "execution_count": 37,
   "id": "0fbe419b",
   "metadata": {},
   "outputs": [
    {
     "ename": "ValueError",
     "evalue": "substring not found",
     "output_type": "error",
     "traceback": [
      "\u001b[1;31m---------------------------------------------------------------------------\u001b[0m",
      "\u001b[1;31mValueError\u001b[0m                                Traceback (most recent call last)",
      "\u001b[1;32m~\\AppData\\Local\\Temp\\ipykernel_10804\\3518076990.py\u001b[0m in \u001b[0;36m<module>\u001b[1;34m\u001b[0m\n\u001b[1;32m----> 1\u001b[1;33m \u001b[0ms\u001b[0m\u001b[1;33m.\u001b[0m\u001b[0mindex\u001b[0m\u001b[1;33m(\u001b[0m\u001b[1;34m'nayana'\u001b[0m\u001b[1;33m)\u001b[0m\u001b[1;33m\u001b[0m\u001b[1;33m\u001b[0m\u001b[0m\n\u001b[0m",
      "\u001b[1;31mValueError\u001b[0m: substring not found"
     ]
    }
   ],
   "source": [
    "s.index('nayana')"
   ]
  },
  {
   "cell_type": "code",
   "execution_count": 38,
   "id": "56874658",
   "metadata": {},
   "outputs": [
    {
     "data": {
      "text/plain": [
       "11"
      ]
     },
     "execution_count": 38,
     "metadata": {},
     "output_type": "execute_result"
    }
   ],
   "source": [
    "s.index('n',6)"
   ]
  },
  {
   "cell_type": "code",
   "execution_count": 52,
   "id": "6506db20",
   "metadata": {},
   "outputs": [
    {
     "data": {
      "text/plain": [
       "14"
      ]
     },
     "execution_count": 52,
     "metadata": {},
     "output_type": "execute_result"
    }
   ],
   "source": [
    "s.rindex('o')"
   ]
  },
  {
   "cell_type": "code",
   "execution_count": 38,
   "id": "9623b4f3",
   "metadata": {},
   "outputs": [
    {
     "data": {
      "text/plain": [
       "2"
      ]
     },
     "execution_count": 38,
     "metadata": {},
     "output_type": "execute_result"
    }
   ],
   "source": [
    "s.count('n')"
   ]
  },
  {
   "cell_type": "code",
   "execution_count": 2,
   "id": "d8e90886",
   "metadata": {},
   "outputs": [
    {
     "data": {
      "text/plain": [
       "0"
      ]
     },
     "execution_count": 2,
     "metadata": {},
     "output_type": "execute_result"
    }
   ],
   "source": [
    "s.count('z')"
   ]
  },
  {
   "cell_type": "code",
   "execution_count": 39,
   "id": "0ccdfadb",
   "metadata": {
    "scrolled": true
   },
   "outputs": [
    {
     "data": {
      "text/plain": [
       "3"
      ]
     },
     "execution_count": 39,
     "metadata": {},
     "output_type": "execute_result"
    }
   ],
   "source": [
    "s.count('o')"
   ]
  },
  {
   "cell_type": "code",
   "execution_count": 11,
   "id": "2b44d6d2",
   "metadata": {},
   "outputs": [
    {
     "data": {
      "text/plain": [
       "'Anspro Technologies'"
      ]
     },
     "execution_count": 11,
     "metadata": {},
     "output_type": "execute_result"
    }
   ],
   "source": [
    "s"
   ]
  },
  {
   "cell_type": "code",
   "execution_count": 21,
   "id": "77f93eac",
   "metadata": {},
   "outputs": [
    {
     "data": {
      "text/plain": [
       "2"
      ]
     },
     "execution_count": 21,
     "metadata": {},
     "output_type": "execute_result"
    }
   ],
   "source": [
    "s.count('o',6)"
   ]
  },
  {
   "cell_type": "code",
   "execution_count": 12,
   "id": "5b4fad3b",
   "metadata": {},
   "outputs": [
    {
     "data": {
      "text/plain": [
       "1"
      ]
     },
     "execution_count": 12,
     "metadata": {},
     "output_type": "execute_result"
    }
   ],
   "source": [
    "s.count('o',0,9)"
   ]
  },
  {
   "cell_type": "code",
   "execution_count": 3,
   "id": "9844a9ac",
   "metadata": {},
   "outputs": [
    {
     "data": {
      "text/plain": [
       "2"
      ]
     },
     "execution_count": 3,
     "metadata": {},
     "output_type": "execute_result"
    }
   ],
   "source": [
    "s.count('o',7,18)"
   ]
  },
  {
   "cell_type": "code",
   "execution_count": 46,
   "id": "07c18502",
   "metadata": {},
   "outputs": [
    {
     "data": {
      "text/plain": [
       "'Anszro Technologies'"
      ]
     },
     "execution_count": 46,
     "metadata": {},
     "output_type": "execute_result"
    }
   ],
   "source": [
    "s.replace('p','z')"
   ]
  },
  {
   "cell_type": "code",
   "execution_count": 47,
   "id": "80ce4e7a",
   "metadata": {},
   "outputs": [
    {
     "data": {
      "text/plain": [
       "'Ansprb Technblbgies'"
      ]
     },
     "execution_count": 47,
     "metadata": {},
     "output_type": "execute_result"
    }
   ],
   "source": [
    "s.replace('o','b')"
   ]
  },
  {
   "cell_type": "code",
   "execution_count": 48,
   "id": "448771b1",
   "metadata": {
    "scrolled": false
   },
   "outputs": [
    {
     "data": {
      "text/plain": [
       "'Ansprb Technblogies'"
      ]
     },
     "execution_count": 48,
     "metadata": {},
     "output_type": "execute_result"
    }
   ],
   "source": [
    "s.replace('o','b',2)"
   ]
  },
  {
   "cell_type": "code",
   "execution_count": 49,
   "id": "0486b06f",
   "metadata": {
    "scrolled": true
   },
   "outputs": [
    {
     "data": {
      "text/plain": [
       "'Anspro Technologies'"
      ]
     },
     "execution_count": 49,
     "metadata": {},
     "output_type": "execute_result"
    }
   ],
   "source": [
    "s"
   ]
  },
  {
   "cell_type": "code",
   "execution_count": 12,
   "id": "9a401b3c",
   "metadata": {},
   "outputs": [
    {
     "data": {
      "text/plain": [
       "['A', 'spro Tech', 'ologies']"
      ]
     },
     "execution_count": 12,
     "metadata": {},
     "output_type": "execute_result"
    }
   ],
   "source": [
    "s.split('n')"
   ]
  },
  {
   "cell_type": "code",
   "execution_count": 11,
   "id": "3ce38e02",
   "metadata": {},
   "outputs": [
    {
     "data": {
      "text/plain": [
       "['A', 'spro Technologies']"
      ]
     },
     "execution_count": 11,
     "metadata": {},
     "output_type": "execute_result"
    }
   ],
   "source": [
    "s.split('n',1)"
   ]
  },
  {
   "cell_type": "code",
   "execution_count": 2,
   "id": "ad3976c6",
   "metadata": {},
   "outputs": [],
   "source": [
    "s='Anspro Technologies'"
   ]
  },
  {
   "cell_type": "code",
   "execution_count": 30,
   "id": "5aec476d",
   "metadata": {},
   "outputs": [
    {
     "data": {
      "text/plain": [
       "'               Anspro Technologies                '"
      ]
     },
     "execution_count": 30,
     "metadata": {},
     "output_type": "execute_result"
    }
   ],
   "source": [
    "s.center(50)"
   ]
  },
  {
   "cell_type": "code",
   "execution_count": 12,
   "id": "161d9fed",
   "metadata": {},
   "outputs": [
    {
     "data": {
      "text/plain": [
       "'                                        Anspro Technologies                                         '"
      ]
     },
     "execution_count": 12,
     "metadata": {},
     "output_type": "execute_result"
    }
   ],
   "source": [
    "s.center(100)"
   ]
  },
  {
   "cell_type": "code",
   "execution_count": 15,
   "id": "a145d257",
   "metadata": {},
   "outputs": [
    {
     "data": {
      "text/plain": [
       "'****************************************Anspro Technologies*****************************************'"
      ]
     },
     "execution_count": 15,
     "metadata": {},
     "output_type": "execute_result"
    }
   ],
   "source": [
    "s.center(100,'*')"
   ]
  },
  {
   "cell_type": "code",
   "execution_count": 101,
   "id": "2e6ef93b",
   "metadata": {},
   "outputs": [
    {
     "data": {
      "text/plain": [
       "['', '']"
      ]
     },
     "execution_count": 101,
     "metadata": {},
     "output_type": "execute_result"
    }
   ],
   "source": [
    "a.split('hello')"
   ]
  },
  {
   "cell_type": "code",
   "execution_count": 105,
   "id": "4aaf0c2a",
   "metadata": {},
   "outputs": [
    {
     "data": {
      "text/plain": [
       "('', 'hello', '')"
      ]
     },
     "execution_count": 105,
     "metadata": {},
     "output_type": "execute_result"
    }
   ],
   "source": [
    "a.partition('hello')"
   ]
  },
  {
   "cell_type": "code",
   "execution_count": 106,
   "id": "e4d82769",
   "metadata": {},
   "outputs": [
    {
     "data": {
      "text/plain": [
       "['hell', '']"
      ]
     },
     "execution_count": 106,
     "metadata": {},
     "output_type": "execute_result"
    }
   ],
   "source": [
    "a.split('o')"
   ]
  },
  {
   "cell_type": "code",
   "execution_count": 114,
   "id": "ad5171de",
   "metadata": {},
   "outputs": [
    {
     "data": {
      "text/plain": [
       "('he', 'l', 'lo')"
      ]
     },
     "execution_count": 114,
     "metadata": {},
     "output_type": "execute_result"
    }
   ],
   "source": [
    "a.partition('l')"
   ]
  },
  {
   "cell_type": "code",
   "execution_count": 113,
   "id": "a10e2ba8",
   "metadata": {},
   "outputs": [
    {
     "data": {
      "text/plain": [
       "('hel', 'l', 'o')"
      ]
     },
     "execution_count": 113,
     "metadata": {},
     "output_type": "execute_result"
    }
   ],
   "source": [
    "a.rpartition('l')"
   ]
  },
  {
   "cell_type": "markdown",
   "id": "cfce486a",
   "metadata": {},
   "source": [
    "# partion makes 3 parts"
   ]
  },
  {
   "cell_type": "code",
   "execution_count": 1,
   "id": "8b3e8d15",
   "metadata": {},
   "outputs": [],
   "source": [
    "a='hello'"
   ]
  },
  {
   "cell_type": "code",
   "execution_count": 2,
   "id": "19e70403",
   "metadata": {},
   "outputs": [],
   "source": [
    "b='hii'"
   ]
  },
  {
   "cell_type": "code",
   "execution_count": 3,
   "id": "ff44bff5",
   "metadata": {},
   "outputs": [
    {
     "name": "stdout",
     "output_type": "stream",
     "text": [
      "hii hello\n"
     ]
    }
   ],
   "source": [
    "print(b,a)"
   ]
  },
  {
   "cell_type": "code",
   "execution_count": 4,
   "id": "d1668d91",
   "metadata": {},
   "outputs": [],
   "source": [
    "c=b+' '+a"
   ]
  },
  {
   "cell_type": "code",
   "execution_count": 5,
   "id": "5808b9c7",
   "metadata": {},
   "outputs": [
    {
     "name": "stdout",
     "output_type": "stream",
     "text": [
      "hii hello\n"
     ]
    }
   ],
   "source": [
    "print(c)"
   ]
  },
  {
   "cell_type": "markdown",
   "id": "10cb2d02",
   "metadata": {},
   "source": [
    "# this is called string concatination"
   ]
  },
  {
   "cell_type": "code",
   "execution_count": 6,
   "id": "570ec8ff",
   "metadata": {},
   "outputs": [],
   "source": [
    "c=a+' '+b"
   ]
  },
  {
   "cell_type": "code",
   "execution_count": 7,
   "id": "4f550405",
   "metadata": {},
   "outputs": [
    {
     "name": "stdout",
     "output_type": "stream",
     "text": [
      "hello hii\n"
     ]
    }
   ],
   "source": [
    "print(c)"
   ]
  },
  {
   "cell_type": "code",
   "execution_count": 8,
   "id": "a664a412",
   "metadata": {},
   "outputs": [],
   "source": [
    "c=b+'\\t'+a"
   ]
  },
  {
   "cell_type": "code",
   "execution_count": 9,
   "id": "1c382d47",
   "metadata": {},
   "outputs": [
    {
     "name": "stdout",
     "output_type": "stream",
     "text": [
      "hii\thello\n"
     ]
    }
   ],
   "source": [
    "print(c)"
   ]
  },
  {
   "cell_type": "code",
   "execution_count": 10,
   "id": "640a7be9",
   "metadata": {},
   "outputs": [],
   "source": [
    "c=b+'\\n'+a"
   ]
  },
  {
   "cell_type": "code",
   "execution_count": 11,
   "id": "cb628959",
   "metadata": {},
   "outputs": [
    {
     "name": "stdout",
     "output_type": "stream",
     "text": [
      "hii\n",
      "hello\n"
     ]
    }
   ],
   "source": [
    "print(c)"
   ]
  },
  {
   "cell_type": "code",
   "execution_count": 1,
   "id": "ba6ecf45",
   "metadata": {},
   "outputs": [],
   "source": [
    "s='   hi'"
   ]
  },
  {
   "cell_type": "code",
   "execution_count": 2,
   "id": "84867465",
   "metadata": {},
   "outputs": [
    {
     "data": {
      "text/plain": [
       "'hi'"
      ]
     },
     "execution_count": 2,
     "metadata": {},
     "output_type": "execute_result"
    }
   ],
   "source": [
    "s.strip()"
   ]
  },
  {
   "cell_type": "code",
   "execution_count": 3,
   "id": "d45daeb8",
   "metadata": {},
   "outputs": [],
   "source": [
    "s='    hi   '"
   ]
  },
  {
   "cell_type": "code",
   "execution_count": 4,
   "id": "5845d537",
   "metadata": {},
   "outputs": [
    {
     "data": {
      "text/plain": [
       "'hi   '"
      ]
     },
     "execution_count": 4,
     "metadata": {},
     "output_type": "execute_result"
    }
   ],
   "source": [
    "s.lstrip()"
   ]
  },
  {
   "cell_type": "code",
   "execution_count": 5,
   "id": "f4ccd724",
   "metadata": {},
   "outputs": [
    {
     "data": {
      "text/plain": [
       "'    hi'"
      ]
     },
     "execution_count": 5,
     "metadata": {},
     "output_type": "execute_result"
    }
   ],
   "source": [
    "s.rstrip()"
   ]
  },
  {
   "cell_type": "code",
   "execution_count": 6,
   "id": "544c7a02",
   "metadata": {},
   "outputs": [
    {
     "data": {
      "text/plain": [
       "'hi'"
      ]
     },
     "execution_count": 6,
     "metadata": {},
     "output_type": "execute_result"
    }
   ],
   "source": [
    "s.strip()"
   ]
  }
 ],
 "metadata": {
  "kernelspec": {
   "display_name": "Python 3 (ipykernel)",
   "language": "python",
   "name": "python3"
  },
  "language_info": {
   "codemirror_mode": {
    "name": "ipython",
    "version": 3
   },
   "file_extension": ".py",
   "mimetype": "text/x-python",
   "name": "python",
   "nbconvert_exporter": "python",
   "pygments_lexer": "ipython3",
   "version": "3.12.2"
  }
 },
 "nbformat": 4,
 "nbformat_minor": 5
}
